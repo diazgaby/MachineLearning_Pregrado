{
 "cells": [
  {
   "cell_type": "markdown",
   "id": "886968ac",
   "metadata": {},
   "source": [
    "<h1> <center> hola </center> </h1>\n",
    "Holiwis $ a^{89000} = \\sqrt{\\frac{\\beta}{\\alpha}}$"
   ]
  },
  {
   "cell_type": "code",
   "execution_count": 3,
   "id": "c5131981",
   "metadata": {},
   "outputs": [],
   "source": [
    "import seaborn as sns"
   ]
  },
  {
   "cell_type": "code",
   "execution_count": null,
   "id": "1cbea14d",
   "metadata": {},
   "outputs": [],
   "source": []
  }
 ],
 "metadata": {
  "kernelspec": {
   "display_name": "Python 3 (ipykernel)",
   "language": "python",
   "name": "python3"
  },
  "language_info": {
   "codemirror_mode": {
    "name": "ipython",
    "version": 3
   },
   "file_extension": ".py",
   "mimetype": "text/x-python",
   "name": "python",
   "nbconvert_exporter": "python",
   "pygments_lexer": "ipython3",
   "version": "3.11.0"
  }
 },
 "nbformat": 4,
 "nbformat_minor": 5
}

{
 "cells": [
  {
   "cell_type": "markdown",
   "metadata": {
    "colab_type": "text",
    "id": "view-in-github"
   },
   "source": [
    "<h1> <center> &#127756 Parcial I Física Computacional &#127826 </center> </h1>\n",
    "\n",
    "<h3> <center> <em> Sebastián Marín, Gabriela E. Díaz, J. Sebastián Useche </em> </center> </h3>\n",
    "<h4> <center> <em> Programa de Física, Facultad de Ciencias Básicas y Tecnologías </em> </center></h4>\n",
    "<br><br>\n",
    "<center> Trabajo realizado en: </center> \n",
    " \n",
    "![logo jupyter](jup_logo.png)"
   ]
  },
  {
   "cell_type": "code",
   "execution_count": 1,
   "metadata": {
    "colab": {
     "base_uri": "https://localhost:8080/",
     "height": 34
    },
    "id": "oJ-B8lbk_inY",
    "outputId": "be4e2224-38c2-4f1c-d856-f6815ececbf0"
   },
   "outputs": [],
   "source": [
    "# Librerías\n",
    "import pandas as pd\n",
    "import numpy as np\n",
    "import seaborn as sns\n",
    "import matplotlib.pyplot as plt\n",
    "import statsmodels.api as sm\n",
    "import statsmodels.formula.api as smf\n",
    "from scipy import stats\n",
    "from sklearn.linear_model import LinearRegression\n",
    "from sklearn.model_selection import train_test_split\n",
    "from sklearn.svm import SVC\n",
    "from sklearn.metrics import classification_report, confusion_matrix\n",
    "from sklearn import linear_model"
   ]
  },
  {
   "cell_type": "code",
   "execution_count": 2,
   "metadata": {
    "colab": {
     "base_uri": "https://localhost:8080/"
    },
    "id": "kf9uYaioAN6l",
    "outputId": "06fec513-6c06-4c64-fde9-eb4dc6abd346",
    "scrolled": false
   },
   "outputs": [
    {
     "name": "stderr",
     "output_type": "stream",
     "text": [
      "C:\\Users\\s\\AppData\\Local\\Temp\\ipykernel_6996\\565455140.py:2: DtypeWarning: Columns (678,688,690,692) have mixed types. Specify dtype option on import or set low_memory=False.\n",
      "  datos = pd.read_csv(\"METABRIC_RNA_Mutation.csv\")\n"
     ]
    },
    {
     "data": {
      "text/plain": [
       "Index(['patient_id', 'age_at_diagnosis', 'type_of_breast_surgery',\n",
       "       'cancer_type', 'cancer_type_detailed', 'cellularity', 'chemotherapy',\n",
       "       'pam50_+_claudin-low_subtype', 'cohort', 'er_status_measured_by_ihc',\n",
       "       'er_status', 'neoplasm_histologic_grade',\n",
       "       'her2_status_measured_by_snp6', 'her2_status',\n",
       "       'tumor_other_histologic_subtype', 'hormone_therapy',\n",
       "       'inferred_menopausal_state', 'integrative_cluster',\n",
       "       'primary_tumor_laterality', 'lymph_nodes_examined_positive',\n",
       "       'mutation_count', 'nottingham_prognostic_index', 'oncotree_code',\n",
       "       'overall_survival_months', 'overall_survival', 'pr_status',\n",
       "       'radio_therapy', '3-gene_classifier_subtype', 'tumor_size',\n",
       "       'tumor_stage', 'death_from_cancer'],\n",
       "      dtype='object')"
      ]
     },
     "execution_count": 2,
     "metadata": {},
     "output_type": "execute_result"
    }
   ],
   "source": [
    "# Abriendo archivo csv\n",
    "datos = pd.read_csv(\"METABRIC_RNA_Mutation.csv\")\n",
    "datos.columns[:31]"
   ]
  },
  {
   "cell_type": "code",
   "execution_count": 3,
   "metadata": {},
   "outputs": [
    {
     "data": {
      "text/plain": [
       "count    1859.000000\n",
       "mean        5.697687\n",
       "std         4.058778\n",
       "min         1.000000\n",
       "25%         3.000000\n",
       "50%         5.000000\n",
       "75%         7.000000\n",
       "max        80.000000\n",
       "Name: mutation_count, dtype: float64"
      ]
     },
     "execution_count": 3,
     "metadata": {},
     "output_type": "execute_result"
    }
   ],
   "source": [
    "datos[\"mutation_count\"].describe()"
   ]
  },
  {
   "cell_type": "markdown",
   "metadata": {
    "id": "jLZYaghd_inb"
   },
   "source": [
    "<h2> Primer paso: selección y explicación de variables </h2>\n",
    "<hr>\n",
    "<p>Inicialmente, se seleccionan las variables que se utilizarán y se analiza cada columna individualmente para determinar si tiene un significado coherente en el modelo que se vaya a realizar. Así, la contribución de cada columna es la siguiente:</p>\n",
    "<ul>\n",
    "    <li> <b> cancer_type_detailed:</b> Contiene la información específica del tipo de cáncer detectado.</li>\n",
    "    <li> <b> lymph_nodes_examined_positive:</b> Describe cuantos ganglios linfáticos han detectado células cancerosas. </li>\n",
    "    <li> <b> overall_survival:</b> si el paciente esta vivo o muerto. </li>\n",
    "    <li> <b> tumor_size: </b> tamaño del tumor en mm. </li>\n",
    "    <li> <b> chemotherapy: </b> Si el paciente fue tratado o no con quimioterapia. </li>\n",
    "    <li> <b>age_at_diagnosis: </b>\n",
    "</ul>"
   ]
  },
  {
   "cell_type": "code",
   "execution_count": 4,
   "metadata": {
    "colab": {
     "base_uri": "https://localhost:8080/",
     "height": 641
    },
    "id": "-Q-3UwiVIeA8",
    "outputId": "1c417694-0b83-4c8a-ef02-055509f232c7"
   },
   "outputs": [
    {
     "data": {
      "text/html": [
       "<div>\n",
       "<style scoped>\n",
       "    .dataframe tbody tr th:only-of-type {\n",
       "        vertical-align: middle;\n",
       "    }\n",
       "\n",
       "    .dataframe tbody tr th {\n",
       "        vertical-align: top;\n",
       "    }\n",
       "\n",
       "    .dataframe thead th {\n",
       "        text-align: right;\n",
       "    }\n",
       "</style>\n",
       "<table border=\"1\" class=\"dataframe\">\n",
       "  <thead>\n",
       "    <tr style=\"text-align: right;\">\n",
       "      <th></th>\n",
       "      <th>cancer_type_detailed</th>\n",
       "      <th>overall_survival</th>\n",
       "      <th>chemotherapy</th>\n",
       "      <th>overall_survival_months</th>\n",
       "      <th>tumor_size</th>\n",
       "      <th>age_at_diagnosis</th>\n",
       "      <th>nottingham_prognostic_index</th>\n",
       "      <th>lymph_nodes_examined_positive</th>\n",
       "    </tr>\n",
       "  </thead>\n",
       "  <tbody>\n",
       "    <tr>\n",
       "      <th>0</th>\n",
       "      <td>Breast Invasive Ductal Carcinoma</td>\n",
       "      <td>1</td>\n",
       "      <td>0</td>\n",
       "      <td>140.500000</td>\n",
       "      <td>22.0</td>\n",
       "      <td>75.65</td>\n",
       "      <td>6.044</td>\n",
       "      <td>10.0</td>\n",
       "    </tr>\n",
       "    <tr>\n",
       "      <th>1</th>\n",
       "      <td>Breast Invasive Ductal Carcinoma</td>\n",
       "      <td>1</td>\n",
       "      <td>0</td>\n",
       "      <td>84.633333</td>\n",
       "      <td>10.0</td>\n",
       "      <td>43.19</td>\n",
       "      <td>4.020</td>\n",
       "      <td>0.0</td>\n",
       "    </tr>\n",
       "    <tr>\n",
       "      <th>2</th>\n",
       "      <td>Breast Invasive Ductal Carcinoma</td>\n",
       "      <td>0</td>\n",
       "      <td>1</td>\n",
       "      <td>163.700000</td>\n",
       "      <td>15.0</td>\n",
       "      <td>48.87</td>\n",
       "      <td>4.030</td>\n",
       "      <td>1.0</td>\n",
       "    </tr>\n",
       "    <tr>\n",
       "      <th>3</th>\n",
       "      <td>Breast Mixed Ductal and Lobular Carcinoma</td>\n",
       "      <td>1</td>\n",
       "      <td>1</td>\n",
       "      <td>164.933333</td>\n",
       "      <td>25.0</td>\n",
       "      <td>47.68</td>\n",
       "      <td>4.050</td>\n",
       "      <td>3.0</td>\n",
       "    </tr>\n",
       "    <tr>\n",
       "      <th>4</th>\n",
       "      <td>Breast Mixed Ductal and Lobular Carcinoma</td>\n",
       "      <td>0</td>\n",
       "      <td>1</td>\n",
       "      <td>41.366667</td>\n",
       "      <td>40.0</td>\n",
       "      <td>76.97</td>\n",
       "      <td>6.080</td>\n",
       "      <td>8.0</td>\n",
       "    </tr>\n",
       "    <tr>\n",
       "      <th>...</th>\n",
       "      <td>...</td>\n",
       "      <td>...</td>\n",
       "      <td>...</td>\n",
       "      <td>...</td>\n",
       "      <td>...</td>\n",
       "      <td>...</td>\n",
       "      <td>...</td>\n",
       "      <td>...</td>\n",
       "    </tr>\n",
       "    <tr>\n",
       "      <th>1899</th>\n",
       "      <td>Breast Invasive Lobular Carcinoma</td>\n",
       "      <td>1</td>\n",
       "      <td>0</td>\n",
       "      <td>196.866667</td>\n",
       "      <td>25.0</td>\n",
       "      <td>43.10</td>\n",
       "      <td>5.050</td>\n",
       "      <td>1.0</td>\n",
       "    </tr>\n",
       "    <tr>\n",
       "      <th>1900</th>\n",
       "      <td>Breast Invasive Ductal Carcinoma</td>\n",
       "      <td>0</td>\n",
       "      <td>0</td>\n",
       "      <td>44.733333</td>\n",
       "      <td>20.0</td>\n",
       "      <td>42.88</td>\n",
       "      <td>5.040</td>\n",
       "      <td>1.0</td>\n",
       "    </tr>\n",
       "    <tr>\n",
       "      <th>1901</th>\n",
       "      <td>Breast Invasive Ductal Carcinoma</td>\n",
       "      <td>0</td>\n",
       "      <td>0</td>\n",
       "      <td>175.966667</td>\n",
       "      <td>25.0</td>\n",
       "      <td>62.90</td>\n",
       "      <td>6.050</td>\n",
       "      <td>45.0</td>\n",
       "    </tr>\n",
       "    <tr>\n",
       "      <th>1902</th>\n",
       "      <td>Breast Invasive Ductal Carcinoma</td>\n",
       "      <td>0</td>\n",
       "      <td>0</td>\n",
       "      <td>86.233333</td>\n",
       "      <td>25.0</td>\n",
       "      <td>61.16</td>\n",
       "      <td>5.050</td>\n",
       "      <td>12.0</td>\n",
       "    </tr>\n",
       "    <tr>\n",
       "      <th>1903</th>\n",
       "      <td>Breast Invasive Ductal Carcinoma</td>\n",
       "      <td>0</td>\n",
       "      <td>0</td>\n",
       "      <td>201.900000</td>\n",
       "      <td>20.0</td>\n",
       "      <td>60.02</td>\n",
       "      <td>5.040</td>\n",
       "      <td>1.0</td>\n",
       "    </tr>\n",
       "  </tbody>\n",
       "</table>\n",
       "<p>1904 rows × 8 columns</p>\n",
       "</div>"
      ],
      "text/plain": [
       "                           cancer_type_detailed  overall_survival  \\\n",
       "0              Breast Invasive Ductal Carcinoma                 1   \n",
       "1              Breast Invasive Ductal Carcinoma                 1   \n",
       "2              Breast Invasive Ductal Carcinoma                 0   \n",
       "3     Breast Mixed Ductal and Lobular Carcinoma                 1   \n",
       "4     Breast Mixed Ductal and Lobular Carcinoma                 0   \n",
       "...                                         ...               ...   \n",
       "1899          Breast Invasive Lobular Carcinoma                 1   \n",
       "1900           Breast Invasive Ductal Carcinoma                 0   \n",
       "1901           Breast Invasive Ductal Carcinoma                 0   \n",
       "1902           Breast Invasive Ductal Carcinoma                 0   \n",
       "1903           Breast Invasive Ductal Carcinoma                 0   \n",
       "\n",
       "      chemotherapy  overall_survival_months  tumor_size  age_at_diagnosis  \\\n",
       "0                0               140.500000        22.0             75.65   \n",
       "1                0                84.633333        10.0             43.19   \n",
       "2                1               163.700000        15.0             48.87   \n",
       "3                1               164.933333        25.0             47.68   \n",
       "4                1                41.366667        40.0             76.97   \n",
       "...            ...                      ...         ...               ...   \n",
       "1899             0               196.866667        25.0             43.10   \n",
       "1900             0                44.733333        20.0             42.88   \n",
       "1901             0               175.966667        25.0             62.90   \n",
       "1902             0                86.233333        25.0             61.16   \n",
       "1903             0               201.900000        20.0             60.02   \n",
       "\n",
       "      nottingham_prognostic_index  lymph_nodes_examined_positive  \n",
       "0                           6.044                           10.0  \n",
       "1                           4.020                            0.0  \n",
       "2                           4.030                            1.0  \n",
       "3                           4.050                            3.0  \n",
       "4                           6.080                            8.0  \n",
       "...                           ...                            ...  \n",
       "1899                        5.050                            1.0  \n",
       "1900                        5.040                            1.0  \n",
       "1901                        6.050                           45.0  \n",
       "1902                        5.050                           12.0  \n",
       "1903                        5.040                            1.0  \n",
       "\n",
       "[1904 rows x 8 columns]"
      ]
     },
     "execution_count": 4,
     "metadata": {},
     "output_type": "execute_result"
    }
   ],
   "source": [
    "# Tabla de las variables seleccionadas\n",
    "analisis = pd.DataFrame(datos, columns = [\"cancer_type_detailed\",\"overall_survival\", \"chemotherapy\",\"overall_survival_months\",\n",
    "                                      \"tumor_size\", \"age_at_diagnosis\",\"nottingham_prognostic_index\",\"lymph_nodes_examined_positive\"])\n",
    "analisis"
   ]
  },
  {
   "cell_type": "code",
   "execution_count": 5,
   "metadata": {
    "colab": {
     "base_uri": "https://localhost:8080/"
    },
    "id": "S9sXF1EC-DcH",
    "outputId": "c50e7e46-ab30-4dab-a45f-38959b74c4e5"
   },
   "outputs": [
    {
     "name": "stdout",
     "output_type": "stream",
     "text": [
      "<class 'pandas.core.frame.DataFrame'>\n",
      "RangeIndex: 1904 entries, 0 to 1903\n",
      "Data columns (total 8 columns):\n",
      " #   Column                         Non-Null Count  Dtype  \n",
      "---  ------                         --------------  -----  \n",
      " 0   cancer_type_detailed           1889 non-null   object \n",
      " 1   overall_survival               1904 non-null   int64  \n",
      " 2   chemotherapy                   1904 non-null   int64  \n",
      " 3   overall_survival_months        1904 non-null   float64\n",
      " 4   tumor_size                     1884 non-null   float64\n",
      " 5   age_at_diagnosis               1904 non-null   float64\n",
      " 6   nottingham_prognostic_index    1904 non-null   float64\n",
      " 7   lymph_nodes_examined_positive  1904 non-null   float64\n",
      "dtypes: float64(5), int64(2), object(1)\n",
      "memory usage: 119.1+ KB\n"
     ]
    },
    {
     "data": {
      "text/plain": [
       "cancer_type_detailed             15\n",
       "overall_survival                  0\n",
       "chemotherapy                      0\n",
       "overall_survival_months           0\n",
       "tumor_size                       20\n",
       "age_at_diagnosis                  0\n",
       "nottingham_prognostic_index       0\n",
       "lymph_nodes_examined_positive     0\n",
       "dtype: int64"
      ]
     },
     "execution_count": 5,
     "metadata": {},
     "output_type": "execute_result"
    }
   ],
   "source": [
    "analisis.info()\n",
    "analisis.isnull().sum()"
   ]
  },
  {
   "cell_type": "markdown",
   "metadata": {
    "id": "zxMrJ3Au_ind"
   },
   "source": [
    "<h2> Segundo paso </h2>\n",
    "<hr>\n",
    "<p> Ahora, se deben eliminar aquellos datos que no aporten a la base de datos, es decir, los valores nulos; ya que pueden generar errores en los diferentes parámetros estadísticos que se calculen como la mediana, el promedio, la media, entre otros.</p>\n",
    "<p> El propósito de la siguiente celda es eliminar aquellas filas cuyos valores <b>NO</b> nulos ocupen al menos un 80% de los datos, ya que consideramos que si faltan al menos dos datos de cada paciente, puede dificultar el diagnóstico del mismo. El resultado fue que se eliminaron 6 filas. Posteriormente, se rectificó que no hubiesen identificaciones duplicadas en la base de datos, ya que es el único dato irrepetible.</p>"
   ]
  },
  {
   "cell_type": "code",
   "execution_count": 6,
   "metadata": {
    "colab": {
     "base_uri": "https://localhost:8080/",
     "height": 641
    },
    "id": "5NpMGJNkvY4v",
    "outputId": "db777b9f-ddbe-4db6-f932-2a890a63c06d"
   },
   "outputs": [
    {
     "data": {
      "text/html": [
       "<div>\n",
       "<style scoped>\n",
       "    .dataframe tbody tr th:only-of-type {\n",
       "        vertical-align: middle;\n",
       "    }\n",
       "\n",
       "    .dataframe tbody tr th {\n",
       "        vertical-align: top;\n",
       "    }\n",
       "\n",
       "    .dataframe thead th {\n",
       "        text-align: right;\n",
       "    }\n",
       "</style>\n",
       "<table border=\"1\" class=\"dataframe\">\n",
       "  <thead>\n",
       "    <tr style=\"text-align: right;\">\n",
       "      <th></th>\n",
       "      <th>cancer_type_detailed</th>\n",
       "      <th>overall_survival</th>\n",
       "      <th>chemotherapy</th>\n",
       "      <th>overall_survival_months</th>\n",
       "      <th>tumor_size</th>\n",
       "      <th>age_at_diagnosis</th>\n",
       "      <th>nottingham_prognostic_index</th>\n",
       "      <th>lymph_nodes_examined_positive</th>\n",
       "    </tr>\n",
       "  </thead>\n",
       "  <tbody>\n",
       "    <tr>\n",
       "      <th>0</th>\n",
       "      <td>Breast Invasive Ductal Carcinoma</td>\n",
       "      <td>1</td>\n",
       "      <td>0</td>\n",
       "      <td>140.500000</td>\n",
       "      <td>22.0</td>\n",
       "      <td>75.65</td>\n",
       "      <td>6.044</td>\n",
       "      <td>10.0</td>\n",
       "    </tr>\n",
       "    <tr>\n",
       "      <th>1</th>\n",
       "      <td>Breast Invasive Ductal Carcinoma</td>\n",
       "      <td>1</td>\n",
       "      <td>0</td>\n",
       "      <td>84.633333</td>\n",
       "      <td>10.0</td>\n",
       "      <td>43.19</td>\n",
       "      <td>4.020</td>\n",
       "      <td>0.0</td>\n",
       "    </tr>\n",
       "    <tr>\n",
       "      <th>2</th>\n",
       "      <td>Breast Invasive Ductal Carcinoma</td>\n",
       "      <td>0</td>\n",
       "      <td>1</td>\n",
       "      <td>163.700000</td>\n",
       "      <td>15.0</td>\n",
       "      <td>48.87</td>\n",
       "      <td>4.030</td>\n",
       "      <td>1.0</td>\n",
       "    </tr>\n",
       "    <tr>\n",
       "      <th>3</th>\n",
       "      <td>Breast Mixed Ductal and Lobular Carcinoma</td>\n",
       "      <td>1</td>\n",
       "      <td>1</td>\n",
       "      <td>164.933333</td>\n",
       "      <td>25.0</td>\n",
       "      <td>47.68</td>\n",
       "      <td>4.050</td>\n",
       "      <td>3.0</td>\n",
       "    </tr>\n",
       "    <tr>\n",
       "      <th>4</th>\n",
       "      <td>Breast Mixed Ductal and Lobular Carcinoma</td>\n",
       "      <td>0</td>\n",
       "      <td>1</td>\n",
       "      <td>41.366667</td>\n",
       "      <td>40.0</td>\n",
       "      <td>76.97</td>\n",
       "      <td>6.080</td>\n",
       "      <td>8.0</td>\n",
       "    </tr>\n",
       "    <tr>\n",
       "      <th>...</th>\n",
       "      <td>...</td>\n",
       "      <td>...</td>\n",
       "      <td>...</td>\n",
       "      <td>...</td>\n",
       "      <td>...</td>\n",
       "      <td>...</td>\n",
       "      <td>...</td>\n",
       "      <td>...</td>\n",
       "    </tr>\n",
       "    <tr>\n",
       "      <th>1899</th>\n",
       "      <td>Breast Invasive Lobular Carcinoma</td>\n",
       "      <td>1</td>\n",
       "      <td>0</td>\n",
       "      <td>196.866667</td>\n",
       "      <td>25.0</td>\n",
       "      <td>43.10</td>\n",
       "      <td>5.050</td>\n",
       "      <td>1.0</td>\n",
       "    </tr>\n",
       "    <tr>\n",
       "      <th>1900</th>\n",
       "      <td>Breast Invasive Ductal Carcinoma</td>\n",
       "      <td>0</td>\n",
       "      <td>0</td>\n",
       "      <td>44.733333</td>\n",
       "      <td>20.0</td>\n",
       "      <td>42.88</td>\n",
       "      <td>5.040</td>\n",
       "      <td>1.0</td>\n",
       "    </tr>\n",
       "    <tr>\n",
       "      <th>1901</th>\n",
       "      <td>Breast Invasive Ductal Carcinoma</td>\n",
       "      <td>0</td>\n",
       "      <td>0</td>\n",
       "      <td>175.966667</td>\n",
       "      <td>25.0</td>\n",
       "      <td>62.90</td>\n",
       "      <td>6.050</td>\n",
       "      <td>45.0</td>\n",
       "    </tr>\n",
       "    <tr>\n",
       "      <th>1902</th>\n",
       "      <td>Breast Invasive Ductal Carcinoma</td>\n",
       "      <td>0</td>\n",
       "      <td>0</td>\n",
       "      <td>86.233333</td>\n",
       "      <td>25.0</td>\n",
       "      <td>61.16</td>\n",
       "      <td>5.050</td>\n",
       "      <td>12.0</td>\n",
       "    </tr>\n",
       "    <tr>\n",
       "      <th>1903</th>\n",
       "      <td>Breast Invasive Ductal Carcinoma</td>\n",
       "      <td>0</td>\n",
       "      <td>0</td>\n",
       "      <td>201.900000</td>\n",
       "      <td>20.0</td>\n",
       "      <td>60.02</td>\n",
       "      <td>5.040</td>\n",
       "      <td>1.0</td>\n",
       "    </tr>\n",
       "  </tbody>\n",
       "</table>\n",
       "<p>1903 rows × 8 columns</p>\n",
       "</div>"
      ],
      "text/plain": [
       "                           cancer_type_detailed  overall_survival  \\\n",
       "0              Breast Invasive Ductal Carcinoma                 1   \n",
       "1              Breast Invasive Ductal Carcinoma                 1   \n",
       "2              Breast Invasive Ductal Carcinoma                 0   \n",
       "3     Breast Mixed Ductal and Lobular Carcinoma                 1   \n",
       "4     Breast Mixed Ductal and Lobular Carcinoma                 0   \n",
       "...                                         ...               ...   \n",
       "1899          Breast Invasive Lobular Carcinoma                 1   \n",
       "1900           Breast Invasive Ductal Carcinoma                 0   \n",
       "1901           Breast Invasive Ductal Carcinoma                 0   \n",
       "1902           Breast Invasive Ductal Carcinoma                 0   \n",
       "1903           Breast Invasive Ductal Carcinoma                 0   \n",
       "\n",
       "      chemotherapy  overall_survival_months  tumor_size  age_at_diagnosis  \\\n",
       "0                0               140.500000        22.0             75.65   \n",
       "1                0                84.633333        10.0             43.19   \n",
       "2                1               163.700000        15.0             48.87   \n",
       "3                1               164.933333        25.0             47.68   \n",
       "4                1                41.366667        40.0             76.97   \n",
       "...            ...                      ...         ...               ...   \n",
       "1899             0               196.866667        25.0             43.10   \n",
       "1900             0                44.733333        20.0             42.88   \n",
       "1901             0               175.966667        25.0             62.90   \n",
       "1902             0                86.233333        25.0             61.16   \n",
       "1903             0               201.900000        20.0             60.02   \n",
       "\n",
       "      nottingham_prognostic_index  lymph_nodes_examined_positive  \n",
       "0                           6.044                           10.0  \n",
       "1                           4.020                            0.0  \n",
       "2                           4.030                            1.0  \n",
       "3                           4.050                            3.0  \n",
       "4                           6.080                            8.0  \n",
       "...                           ...                            ...  \n",
       "1899                        5.050                            1.0  \n",
       "1900                        5.040                            1.0  \n",
       "1901                        6.050                           45.0  \n",
       "1902                        5.050                           12.0  \n",
       "1903                        5.040                            1.0  \n",
       "\n",
       "[1903 rows x 8 columns]"
      ]
     },
     "execution_count": 6,
     "metadata": {},
     "output_type": "execute_result"
    }
   ],
   "source": [
    "# Porcentaje de valores no nulos para la limpieza\n",
    "porcentaje = 0.8\n",
    "\n",
    "# Eliminación de valores nulos con cierto umbral\n",
    "limpieza_1 = analisis.dropna(thresh = porcentaje*len(analisis.columns))\n",
    "limpieza_1 = limpieza_1.dropna(thresh = porcentaje*len(analisis), axis = 1)\n",
    "limpieza_1"
   ]
  },
  {
   "cell_type": "code",
   "execution_count": 7,
   "metadata": {},
   "outputs": [],
   "source": [
    "def var_str(Dataframe, columna):\n",
    "    Valores_unicos = Dataframe[columna].unique()\n",
    "    for i in range(len(Valores_unicos)):\n",
    "        print(Valores_unicos[i], \"=\", i)"
   ]
  },
  {
   "cell_type": "code",
   "execution_count": 8,
   "metadata": {
    "colab": {
     "base_uri": "https://localhost:8080/",
     "height": 471
    },
    "id": "SeFCLM_fxGff",
    "outputId": "83af381a-a577-4a39-e10f-7e0dd8cbc34e"
   },
   "outputs": [
    {
     "name": "stdout",
     "output_type": "stream",
     "text": [
      "Breast Invasive Ductal Carcinoma = 0\n",
      "Breast Mixed Ductal and Lobular Carcinoma = 1\n",
      "Breast Invasive Lobular Carcinoma = 2\n",
      "Breast Invasive Mixed Mucinous Carcinoma = 3\n",
      "Breast = 4\n",
      "nan = 5\n",
      "Metaplastic Breast Cancer = 6\n"
     ]
    },
    {
     "data": {
      "text/html": [
       "<div>\n",
       "<style scoped>\n",
       "    .dataframe tbody tr th:only-of-type {\n",
       "        vertical-align: middle;\n",
       "    }\n",
       "\n",
       "    .dataframe tbody tr th {\n",
       "        vertical-align: top;\n",
       "    }\n",
       "\n",
       "    .dataframe thead th {\n",
       "        text-align: right;\n",
       "    }\n",
       "</style>\n",
       "<table border=\"1\" class=\"dataframe\">\n",
       "  <thead>\n",
       "    <tr style=\"text-align: right;\">\n",
       "      <th></th>\n",
       "      <th>overall_survival</th>\n",
       "      <th>chemotherapy</th>\n",
       "      <th>overall_survival_months</th>\n",
       "      <th>tumor_size</th>\n",
       "      <th>age_at_diagnosis</th>\n",
       "      <th>nottingham_prognostic_index</th>\n",
       "      <th>lymph_nodes_examined_positive</th>\n",
       "      <th>cancer_type_detailed</th>\n",
       "    </tr>\n",
       "  </thead>\n",
       "  <tbody>\n",
       "    <tr>\n",
       "      <th>count</th>\n",
       "      <td>1903.000000</td>\n",
       "      <td>1903.000000</td>\n",
       "      <td>1903.000000</td>\n",
       "      <td>1884.000000</td>\n",
       "      <td>1903.000000</td>\n",
       "      <td>1903.000000</td>\n",
       "      <td>1903.000000</td>\n",
       "      <td>1902.000000</td>\n",
       "    </tr>\n",
       "    <tr>\n",
       "      <th>mean</th>\n",
       "      <td>0.420389</td>\n",
       "      <td>0.208092</td>\n",
       "      <td>125.185759</td>\n",
       "      <td>26.238726</td>\n",
       "      <td>61.090736</td>\n",
       "      <td>4.034087</td>\n",
       "      <td>2.003153</td>\n",
       "      <td>1.452156</td>\n",
       "    </tr>\n",
       "    <tr>\n",
       "      <th>std</th>\n",
       "      <td>0.493751</td>\n",
       "      <td>0.406050</td>\n",
       "      <td>76.302400</td>\n",
       "      <td>15.160976</td>\n",
       "      <td>12.981128</td>\n",
       "      <td>1.143842</td>\n",
       "      <td>4.080807</td>\n",
       "      <td>1.043793</td>\n",
       "    </tr>\n",
       "    <tr>\n",
       "      <th>min</th>\n",
       "      <td>0.000000</td>\n",
       "      <td>0.000000</td>\n",
       "      <td>0.000000</td>\n",
       "      <td>1.000000</td>\n",
       "      <td>21.930000</td>\n",
       "      <td>1.000000</td>\n",
       "      <td>0.000000</td>\n",
       "      <td>0.000000</td>\n",
       "    </tr>\n",
       "    <tr>\n",
       "      <th>25%</th>\n",
       "      <td>0.000000</td>\n",
       "      <td>0.000000</td>\n",
       "      <td>60.883333</td>\n",
       "      <td>17.000000</td>\n",
       "      <td>51.370000</td>\n",
       "      <td>3.046000</td>\n",
       "      <td>0.000000</td>\n",
       "      <td>1.000000</td>\n",
       "    </tr>\n",
       "    <tr>\n",
       "      <th>50%</th>\n",
       "      <td>0.000000</td>\n",
       "      <td>0.000000</td>\n",
       "      <td>115.633333</td>\n",
       "      <td>23.000000</td>\n",
       "      <td>61.780000</td>\n",
       "      <td>4.042000</td>\n",
       "      <td>0.000000</td>\n",
       "      <td>1.000000</td>\n",
       "    </tr>\n",
       "    <tr>\n",
       "      <th>75%</th>\n",
       "      <td>1.000000</td>\n",
       "      <td>0.000000</td>\n",
       "      <td>184.733333</td>\n",
       "      <td>30.000000</td>\n",
       "      <td>70.595000</td>\n",
       "      <td>5.040500</td>\n",
       "      <td>2.000000</td>\n",
       "      <td>1.000000</td>\n",
       "    </tr>\n",
       "    <tr>\n",
       "      <th>max</th>\n",
       "      <td>1.000000</td>\n",
       "      <td>1.000000</td>\n",
       "      <td>355.200000</td>\n",
       "      <td>182.000000</td>\n",
       "      <td>96.290000</td>\n",
       "      <td>6.360000</td>\n",
       "      <td>45.000000</td>\n",
       "      <td>6.000000</td>\n",
       "    </tr>\n",
       "  </tbody>\n",
       "</table>\n",
       "</div>"
      ],
      "text/plain": [
       "       overall_survival  chemotherapy  overall_survival_months   tumor_size  \\\n",
       "count       1903.000000   1903.000000              1903.000000  1884.000000   \n",
       "mean           0.420389      0.208092               125.185759    26.238726   \n",
       "std            0.493751      0.406050                76.302400    15.160976   \n",
       "min            0.000000      0.000000                 0.000000     1.000000   \n",
       "25%            0.000000      0.000000                60.883333    17.000000   \n",
       "50%            0.000000      0.000000               115.633333    23.000000   \n",
       "75%            1.000000      0.000000               184.733333    30.000000   \n",
       "max            1.000000      1.000000               355.200000   182.000000   \n",
       "\n",
       "       age_at_diagnosis  nottingham_prognostic_index  \\\n",
       "count       1903.000000                  1903.000000   \n",
       "mean          61.090736                     4.034087   \n",
       "std           12.981128                     1.143842   \n",
       "min           21.930000                     1.000000   \n",
       "25%           51.370000                     3.046000   \n",
       "50%           61.780000                     4.042000   \n",
       "75%           70.595000                     5.040500   \n",
       "max           96.290000                     6.360000   \n",
       "\n",
       "       lymph_nodes_examined_positive  cancer_type_detailed  \n",
       "count                    1903.000000           1902.000000  \n",
       "mean                        2.003153              1.452156  \n",
       "std                         4.080807              1.043793  \n",
       "min                         0.000000              0.000000  \n",
       "25%                         0.000000              1.000000  \n",
       "50%                         0.000000              1.000000  \n",
       "75%                         2.000000              1.000000  \n",
       "max                        45.000000              6.000000  "
      ]
     },
     "execution_count": 8,
     "metadata": {},
     "output_type": "execute_result"
    }
   ],
   "source": [
    "# Planteamiento de ecuación\n",
    "# ===============================================================================================\n",
    "from sklearn import preprocessing\n",
    "\n",
    "# Creación de vector de variable dependiente\n",
    "var_dep = \"overall_survival\"\n",
    "y = limpieza_1.loc[:, var_dep]\n",
    "\n",
    "# Variables categóricas\n",
    "var_str(limpieza_1, \"cancer_type_detailed\")\n",
    "analisis1 = limpieza_1.drop([\"cancer_type_detailed\"], axis = 1)\n",
    "encoder = preprocessing.LabelEncoder()\n",
    "analisis1[\"cancer_type_detailed\"] = encoder.fit_transform(limpieza_1.cancer_type_detailed.values)\n",
    "analisis1.cancer_type_detailed.replace({5: np.nan}, inplace = True)\n",
    "\n",
    "analisis1.describe()"
   ]
  },
  {
   "cell_type": "code",
   "execution_count": 9,
   "metadata": {},
   "outputs": [
    {
     "data": {
      "text/plain": [
       "overall_survival                  0\n",
       "chemotherapy                      0\n",
       "overall_survival_months           0\n",
       "tumor_size                       19\n",
       "age_at_diagnosis                  0\n",
       "nottingham_prognostic_index       0\n",
       "lymph_nodes_examined_positive     0\n",
       "cancer_type_detailed              1\n",
       "dtype: int64"
      ]
     },
     "execution_count": 9,
     "metadata": {},
     "output_type": "execute_result"
    }
   ],
   "source": [
    "analisis1.isnull().sum()"
   ]
  },
  {
   "cell_type": "code",
   "execution_count": 10,
   "metadata": {},
   "outputs": [],
   "source": [
    "def Deteccion_outliers(Base_datos): \n",
    "    # Tomando el boxplot como medidor de outliers\n",
    "    for i in Base_datos:\n",
    "    \n",
    "        #======================================\n",
    "        # Cuantiles\n",
    "        print(\"===================================\")\n",
    "        print(\"Para\", i)\n",
    "        print(\"===================================\")\n",
    "        print(Base_datos[i].describe())\n",
    "        Q1 = Base_datos[i].quantile(0.25)\n",
    "        Q3= Base_datos[i].quantile(0.75)\n",
    "    \n",
    "        IQR = Q3 - Q1\n",
    "        print(\"El rango intercuartil es:\", IQR)\n",
    "    \n",
    "        #======================================\n",
    "        # Bigotes\n",
    "    \n",
    "        BI = Q1 - 1.5 * IQR\n",
    "        if BI < Base_datos[i].min():\n",
    "            BI = Base_datos[i].min()\n",
    "        print(\"El primer bigote está en x =\", BI)\n",
    "    \n",
    "        BS = Q3 + 1.5 * IQR\n",
    "        if BS > Base_datos[i].max():\n",
    "            BS = Base_datos[i].max()\n",
    "        print(\"El segundo bigote está en x =\", BS)\n",
    "    \n",
    "        #======================================\n",
    "        # Ubicando outliers\n",
    "    \n",
    "        Ubi_outliers = (BS < Base_datos[i]) | (Base_datos[i] < BI)\n",
    "        Ubi_outliers = Ubi_outliers.apply(lambda x: int(x))\n",
    "        print(\"Hay\" ,Ubi_outliers.sum() ,\"outliers\", end = \"\\n\\n\")"
   ]
  },
  {
   "cell_type": "code",
   "execution_count": 11,
   "metadata": {
    "scrolled": false
   },
   "outputs": [],
   "source": [
    "#analisis1[\"tumor_size\"] = np.log(analisis1[\"tumor_size\"])\n",
    "#sns.boxplot(x = analisis1[\"tumor_size\"])\n",
    "#Deteccion_outliers(analisis1)\n",
    "#Deteccion_outliers(np.sqrt(analisis1))\n",
    "#Deteccion_outliers(np.log(analisis1))\n",
    "#Deteccion_outliers(1/analisis1)\n",
    "\n",
    "# Segun estas pruebas, se eligieron las mejores transformaciones \n",
    "# para cada columna\n",
    "analisis1[\"tumor_size\"] = np.log(analisis1[\"tumor_size\"])\n",
    "analisis1[\"age_at_diagnosis\"] = np.sqrt(analisis1[\"age_at_diagnosis\"])\n",
    "analisis1[\"lymph_nodes_examined_positive\"] = np.sqrt(analisis1[\"lymph_nodes_examined_positive\"])"
   ]
  },
  {
   "cell_type": "code",
   "execution_count": 12,
   "metadata": {},
   "outputs": [
    {
     "data": {
      "text/html": [
       "<div>\n",
       "<style scoped>\n",
       "    .dataframe tbody tr th:only-of-type {\n",
       "        vertical-align: middle;\n",
       "    }\n",
       "\n",
       "    .dataframe tbody tr th {\n",
       "        vertical-align: top;\n",
       "    }\n",
       "\n",
       "    .dataframe thead th {\n",
       "        text-align: right;\n",
       "    }\n",
       "</style>\n",
       "<table border=\"1\" class=\"dataframe\">\n",
       "  <thead>\n",
       "    <tr style=\"text-align: right;\">\n",
       "      <th></th>\n",
       "      <th>overall_survival</th>\n",
       "      <th>chemotherapy</th>\n",
       "      <th>overall_survival_months</th>\n",
       "      <th>tumor_size</th>\n",
       "      <th>age_at_diagnosis</th>\n",
       "      <th>nottingham_prognostic_index</th>\n",
       "      <th>lymph_nodes_examined_positive</th>\n",
       "      <th>cancer_type_detailed</th>\n",
       "    </tr>\n",
       "  </thead>\n",
       "  <tbody>\n",
       "    <tr>\n",
       "      <th>0</th>\n",
       "      <td>1.0</td>\n",
       "      <td>0.0</td>\n",
       "      <td>0.395552</td>\n",
       "      <td>0.593974</td>\n",
       "      <td>0.782634</td>\n",
       "      <td>0.941045</td>\n",
       "      <td>0.471405</td>\n",
       "      <td>0.166667</td>\n",
       "    </tr>\n",
       "    <tr>\n",
       "      <th>1</th>\n",
       "      <td>1.0</td>\n",
       "      <td>0.0</td>\n",
       "      <td>0.238270</td>\n",
       "      <td>0.442464</td>\n",
       "      <td>0.368233</td>\n",
       "      <td>0.563433</td>\n",
       "      <td>0.000000</td>\n",
       "      <td>0.166667</td>\n",
       "    </tr>\n",
       "    <tr>\n",
       "      <th>2</th>\n",
       "      <td>0.0</td>\n",
       "      <td>1.0</td>\n",
       "      <td>0.460867</td>\n",
       "      <td>0.520378</td>\n",
       "      <td>0.449873</td>\n",
       "      <td>0.565299</td>\n",
       "      <td>0.149071</td>\n",
       "      <td>0.166667</td>\n",
       "    </tr>\n",
       "    <tr>\n",
       "      <th>3</th>\n",
       "      <td>1.0</td>\n",
       "      <td>1.0</td>\n",
       "      <td>0.464339</td>\n",
       "      <td>0.618538</td>\n",
       "      <td>0.433179</td>\n",
       "      <td>0.569030</td>\n",
       "      <td>0.258199</td>\n",
       "      <td>0.666667</td>\n",
       "    </tr>\n",
       "    <tr>\n",
       "      <th>4</th>\n",
       "      <td>0.0</td>\n",
       "      <td>1.0</td>\n",
       "      <td>0.116460</td>\n",
       "      <td>0.708854</td>\n",
       "      <td>0.797362</td>\n",
       "      <td>0.947761</td>\n",
       "      <td>0.421637</td>\n",
       "      <td>0.666667</td>\n",
       "    </tr>\n",
       "  </tbody>\n",
       "</table>\n",
       "</div>"
      ],
      "text/plain": [
       "   overall_survival  chemotherapy  overall_survival_months  tumor_size  \\\n",
       "0               1.0           0.0                 0.395552    0.593974   \n",
       "1               1.0           0.0                 0.238270    0.442464   \n",
       "2               0.0           1.0                 0.460867    0.520378   \n",
       "3               1.0           1.0                 0.464339    0.618538   \n",
       "4               0.0           1.0                 0.116460    0.708854   \n",
       "\n",
       "   age_at_diagnosis  nottingham_prognostic_index  \\\n",
       "0          0.782634                     0.941045   \n",
       "1          0.368233                     0.563433   \n",
       "2          0.449873                     0.565299   \n",
       "3          0.433179                     0.569030   \n",
       "4          0.797362                     0.947761   \n",
       "\n",
       "   lymph_nodes_examined_positive  cancer_type_detailed  \n",
       "0                       0.471405              0.166667  \n",
       "1                       0.000000              0.166667  \n",
       "2                       0.149071              0.166667  \n",
       "3                       0.258199              0.666667  \n",
       "4                       0.421637              0.666667  "
      ]
     },
     "execution_count": 12,
     "metadata": {},
     "output_type": "execute_result"
    }
   ],
   "source": [
    "#prediciendo datos nulos con vecinos cercanos, para ellos se normalizan los datos de 0 a 1\n",
    "from sklearn.preprocessing import MinMaxScaler\n",
    "\n",
    "scaler = MinMaxScaler()\n",
    "df = pd.DataFrame(scaler.fit_transform(analisis1), columns = analisis1.columns)\n",
    "df.head()\n"
   ]
  },
  {
   "cell_type": "code",
   "execution_count": 13,
   "metadata": {},
   "outputs": [
    {
     "data": {
      "text/plain": [
       "overall_survival                 0\n",
       "chemotherapy                     0\n",
       "overall_survival_months          0\n",
       "tumor_size                       0\n",
       "age_at_diagnosis                 0\n",
       "nottingham_prognostic_index      0\n",
       "lymph_nodes_examined_positive    0\n",
       "cancer_type_detailed             0\n",
       "dtype: int64"
      ]
     },
     "execution_count": 13,
     "metadata": {},
     "output_type": "execute_result"
    }
   ],
   "source": [
    "from sklearn.impute import KNNImputer\n",
    "imputer = KNNImputer(n_neighbors=500)\n",
    "df1 = pd.DataFrame(imputer.fit_transform(df),columns = df.columns)\n",
    "df1.isna().sum()"
   ]
  },
  {
   "cell_type": "code",
   "execution_count": 14,
   "metadata": {},
   "outputs": [
    {
     "data": {
      "text/plain": [
       "Text(0, 0.5, 'cantidad de datos')"
      ]
     },
     "execution_count": 14,
     "metadata": {},
     "output_type": "execute_result"
    },
    {
     "data": {
      "image/png": "[encoded data removed]",
      "text/plain": [
       "<Figure size 640x480 with 1 Axes>"
      ]
     },
     "metadata": {},
     "output_type": "display_data"
    }
   ],
   "source": [
    "analisis['overall_survival'].value_counts().to_frame().T\n",
    "analisis['overall_survival'].value_counts().plot(kind='bar')\n",
    "plt.xlabel(\"Supervivencia\")\n",
    "plt.ylabel(\"cantidad de datos\")"
   ]
  },
  {
   "cell_type": "code",
   "execution_count": 15,
   "metadata": {},
   "outputs": [
    {
     "data": {
      "text/plain": [
       "array([1., 1., 0., ..., 0., 0., 0.])"
      ]
     },
     "execution_count": 15,
     "metadata": {},
     "output_type": "execute_result"
    }
   ],
   "source": [
    "###modelo maquna soporte vectorial\n",
    "X= df1.drop(\"overall_survival\", axis=1).values\n",
    "\n",
    "\n",
    "y = df1[\"overall_survival\"].values\n",
    "y"
   ]
  },
  {
   "cell_type": "code",
   "execution_count": 16,
   "metadata": {},
   "outputs": [],
   "source": [
    "#creando datos de entrenamiento y de prueba\n",
    "#Dividamos nuestros datos utilizando el 80 % para entrenamiento y el 20 % restante para pruebas.\n",
    "X_train, X_test, y_train, y_test=train_test_split(X,y, test_size=0.2, random_state=20) \n"
   ]
  },
  {
   "cell_type": "code",
   "execution_count": 17,
   "metadata": {},
   "outputs": [
    {
     "name": "stdout",
     "output_type": "stream",
     "text": [
      "The size of our training \"X\" (input features) is (1522, 7)\n",
      "\n",
      "\n",
      "The size of our testing \"X\" (input features) is (381, 7)\n",
      "\n",
      "\n",
      "The size of our training \"y\" (output feature) is (1522,)\n",
      "\n",
      "\n",
      "The size of our testing \"y\" (output features) is (381,)\n"
     ]
    }
   ],
   "source": [
    "print ('The size of our training \"X\" (input features) is', X_train.shape)\n",
    "print ('\\n')\n",
    "print ('The size of our testing \"X\" (input features) is', X_test.shape)\n",
    "print ('\\n')\n",
    "print ('The size of our training \"y\" (output feature) is', y_train.shape)\n",
    "print ('\\n')\n",
    "print ('The size of our testing \"y\" (output features) is', y_test.shape)"
   ]
  },
  {
   "cell_type": "code",
   "execution_count": 18,
   "metadata": {},
   "outputs": [],
   "source": [
    "svc_model = SVC()"
   ]
  },
  {
   "cell_type": "code",
   "execution_count": 19,
   "metadata": {
    "colab": {
     "base_uri": "https://localhost:8080/"
    },
    "id": "Os4DaoXNJd9h",
    "outputId": "e8c391b6-adcc-40fe-dfb5-979e8d1ae4c3"
   },
   "outputs": [
    {
     "data": {
      "text/html": [
       "<style>#sk-container-id-1 {color: black;background-color: white;}#sk-container-id-1 pre{padding: 0;}#sk-container-id-1 div.sk-toggleable {background-color: white;}#sk-container-id-1 label.sk-toggleable__label {cursor: pointer;display: block;width: 100%;margin-bottom: 0;padding: 0.3em;box-sizing: border-box;text-align: center;}#sk-container-id-1 label.sk-toggleable__label-arrow:before {content: \"▸\";float: left;margin-right: 0.25em;color: #696969;}#sk-container-id-1 label.sk-toggleable__label-arrow:hover:before {color: black;}#sk-container-id-1 div.sk-estimator:hover label.sk-toggleable__label-arrow:before {color: black;}#sk-container-id-1 div.sk-toggleable__content {max-height: 0;max-width: 0;overflow: hidden;text-align: left;background-color: #f0f8ff;}#sk-container-id-1 div.sk-toggleable__content pre {margin: 0.2em;color: black;border-radius: 0.25em;background-color: #f0f8ff;}#sk-container-id-1 input.sk-toggleable__control:checked~div.sk-toggleable__content {max-height: 200px;max-width: 100%;overflow: auto;}#sk-container-id-1 input.sk-toggleable__control:checked~label.sk-toggleable__label-arrow:before {content: \"▾\";}#sk-container-id-1 div.sk-estimator input.sk-toggleable__control:checked~label.sk-toggleable__label {background-color: #d4ebff;}#sk-container-id-1 div.sk-label input.sk-toggleable__control:checked~label.sk-toggleable__label {background-color: #d4ebff;}#sk-container-id-1 input.sk-hidden--visually {border: 0;clip: rect(1px 1px 1px 1px);clip: rect(1px, 1px, 1px, 1px);height: 1px;margin: -1px;overflow: hidden;padding: 0;position: absolute;width: 1px;}#sk-container-id-1 div.sk-estimator {font-family: monospace;background-color: #f0f8ff;border: 1px dotted black;border-radius: 0.25em;box-sizing: border-box;margin-bottom: 0.5em;}#sk-container-id-1 div.sk-estimator:hover {background-color: #d4ebff;}#sk-container-id-1 div.sk-parallel-item::after {content: \"\";width: 100%;border-bottom: 1px solid gray;flex-grow: 1;}#sk-container-id-1 div.sk-label:hover label.sk-toggleable__label {background-color: #d4ebff;}#sk-container-id-1 div.sk-serial::before {content: \"\";position: absolute;border-left: 1px solid gray;box-sizing: border-box;top: 0;bottom: 0;left: 50%;z-index: 0;}#sk-container-id-1 div.sk-serial {display: flex;flex-direction: column;align-items: center;background-color: white;padding-right: 0.2em;padding-left: 0.2em;position: relative;}#sk-container-id-1 div.sk-item {position: relative;z-index: 1;}#sk-container-id-1 div.sk-parallel {display: flex;align-items: stretch;justify-content: center;background-color: white;position: relative;}#sk-container-id-1 div.sk-item::before, #sk-container-id-1 div.sk-parallel-item::before {content: \"\";position: absolute;border-left: 1px solid gray;box-sizing: border-box;top: 0;bottom: 0;left: 50%;z-index: -1;}#sk-container-id-1 div.sk-parallel-item {display: flex;flex-direction: column;z-index: 1;position: relative;background-color: white;}#sk-container-id-1 div.sk-parallel-item:first-child::after {align-self: flex-end;width: 50%;}#sk-container-id-1 div.sk-parallel-item:last-child::after {align-self: flex-start;width: 50%;}#sk-container-id-1 div.sk-parallel-item:only-child::after {width: 0;}#sk-container-id-1 div.sk-dashed-wrapped {border: 1px dashed gray;margin: 0 0.4em 0.5em 0.4em;box-sizing: border-box;padding-bottom: 0.4em;background-color: white;}#sk-container-id-1 div.sk-label label {font-family: monospace;font-weight: bold;display: inline-block;line-height: 1.2em;}#sk-container-id-1 div.sk-label-container {text-align: center;}#sk-container-id-1 div.sk-container {/* jupyter's `normalize.less` sets `[hidden] { display: none; }` but bootstrap.min.css set `[hidden] { display: none !important; }` so we also need the `!important` here to be able to override the default hidden behavior on the sphinx rendered scikit-learn.org. See: https://github.com/scikit-learn/scikit-learn/issues/21755 */display: inline-block !important;position: relative;}#sk-container-id-1 div.sk-text-repr-fallback {display: none;}</style><div id=\"sk-container-id-1\" class=\"sk-top-container\"><div class=\"sk-text-repr-fallback\"><pre>SVC()</pre><b>In a Jupyter environment, please rerun this cell to show the HTML representation or trust the notebook. <br />On GitHub, the HTML representation is unable to render, please try loading this page with nbviewer.org.</b></div><div class=\"sk-container\" hidden><div class=\"sk-item\"><div class=\"sk-estimator sk-toggleable\"><input class=\"sk-toggleable__control sk-hidden--visually\" id=\"sk-estimator-id-1\" type=\"checkbox\" checked><label for=\"sk-estimator-id-1\" class=\"sk-toggleable__label sk-toggleable__label-arrow\">SVC</label><div class=\"sk-toggleable__content\"><pre>SVC()</pre></div></div></div></div></div>"
      ],
      "text/plain": [
       "SVC()"
      ]
     },
     "execution_count": 19,
     "metadata": {},
     "output_type": "execute_result"
    }
   ],
   "source": [
    "svc_model.fit(X_train, y_train)\n",
    "svc_model"
   ]
  },
  {
   "cell_type": "code",
   "execution_count": 20,
   "metadata": {},
   "outputs": [],
   "source": [
    "#Usemos nuestro modelo entrenado para hacer una predicción usando nuestros datos de prueba\n",
    "y_predict = svc_model.predict(X_test)"
   ]
  },
  {
   "cell_type": "code",
   "execution_count": 21,
   "metadata": {},
   "outputs": [
    {
     "data": {
      "text/html": [
       "<div>\n",
       "<style scoped>\n",
       "    .dataframe tbody tr th:only-of-type {\n",
       "        vertical-align: middle;\n",
       "    }\n",
       "\n",
       "    .dataframe tbody tr th {\n",
       "        vertical-align: top;\n",
       "    }\n",
       "\n",
       "    .dataframe thead th {\n",
       "        text-align: right;\n",
       "    }\n",
       "</style>\n",
       "<table border=\"1\" class=\"dataframe\">\n",
       "  <thead>\n",
       "    <tr style=\"text-align: right;\">\n",
       "      <th></th>\n",
       "      <th>vive</th>\n",
       "      <th>muere</th>\n",
       "    </tr>\n",
       "  </thead>\n",
       "  <tbody>\n",
       "    <tr>\n",
       "      <th>vive</th>\n",
       "      <td>104</td>\n",
       "      <td>57</td>\n",
       "    </tr>\n",
       "    <tr>\n",
       "      <th>muere</th>\n",
       "      <td>36</td>\n",
       "      <td>184</td>\n",
       "    </tr>\n",
       "  </tbody>\n",
       "</table>\n",
       "</div>"
      ],
      "text/plain": [
       "       vive  muere\n",
       "vive    104     57\n",
       "muere    36    184"
      ]
     },
     "execution_count": 21,
     "metadata": {},
     "output_type": "execute_result"
    }
   ],
   "source": [
    "#Vamos a crear una matriz de confusión para el rendimiento de nuestro clasificador en el conjunto de datos de prueba.\n",
    "cm = np.array(confusion_matrix(y_test, y_predict, labels=[1,0]))\n",
    "confusion1 = pd.DataFrame(cm, index=['vive', 'muere'],\n",
    "                         columns=['vive','muere'])\n",
    "confusion1\n"
   ]
  },
  {
   "cell_type": "code",
   "execution_count": 22,
   "metadata": {},
   "outputs": [
    {
     "data": {
      "text/plain": [
       "<AxesSubplot:>"
      ]
     },
     "execution_count": 22,
     "metadata": {},
     "output_type": "execute_result"
    },
    {
     "data": {
      "image/png": "[encoded data removed]",
      "text/plain": [
       "<Figure size 640x480 with 2 Axes>"
      ]
     },
     "metadata": {},
     "output_type": "display_data"
    }
   ],
   "source": [
    "sns.heatmap(confusion1, annot=True,fmt=\"d\")"
   ]
  },
  {
   "cell_type": "code",
   "execution_count": 23,
   "metadata": {},
   "outputs": [
    {
     "name": "stdout",
     "output_type": "stream",
     "text": [
      "              precision    recall  f1-score   support\n",
      "\n",
      "         0.0       0.76      0.84      0.80       220\n",
      "         1.0       0.74      0.65      0.69       161\n",
      "\n",
      "    accuracy                           0.76       381\n",
      "   macro avg       0.75      0.74      0.74       381\n",
      "weighted avg       0.75      0.76      0.75       381\n",
      "\n"
     ]
    }
   ],
   "source": [
    "print(classification_report(y_test, y_predict))"
   ]
  },
  {
   "cell_type": "code",
   "execution_count": 24,
   "metadata": {},
   "outputs": [],
   "source": [
    "X_train_min = X_train.min()\n",
    "X_train_min\n",
    "\n",
    "X_train_max = X_train.max()\n",
    "X_train_max\n",
    "\n",
    "\n",
    "X_train_range = (X_train_max- X_train_min)\n",
    "X_train_range\n",
    "\n",
    "X_train_scaled = (X_train - X_train_min)/(X_train_range)\n",
    "\n"
   ]
  },
  {
   "cell_type": "code",
   "execution_count": 25,
   "metadata": {},
   "outputs": [
    {
     "data": {
      "text/html": [
       "<style>#sk-container-id-2 {color: black;background-color: white;}#sk-container-id-2 pre{padding: 0;}#sk-container-id-2 div.sk-toggleable {background-color: white;}#sk-container-id-2 label.sk-toggleable__label {cursor: pointer;display: block;width: 100%;margin-bottom: 0;padding: 0.3em;box-sizing: border-box;text-align: center;}#sk-container-id-2 label.sk-toggleable__label-arrow:before {content: \"▸\";float: left;margin-right: 0.25em;color: #696969;}#sk-container-id-2 label.sk-toggleable__label-arrow:hover:before {color: black;}#sk-container-id-2 div.sk-estimator:hover label.sk-toggleable__label-arrow:before {color: black;}#sk-container-id-2 div.sk-toggleable__content {max-height: 0;max-width: 0;overflow: hidden;text-align: left;background-color: #f0f8ff;}#sk-container-id-2 div.sk-toggleable__content pre {margin: 0.2em;color: black;border-radius: 0.25em;background-color: #f0f8ff;}#sk-container-id-2 input.sk-toggleable__control:checked~div.sk-toggleable__content {max-height: 200px;max-width: 100%;overflow: auto;}#sk-container-id-2 input.sk-toggleable__control:checked~label.sk-toggleable__label-arrow:before {content: \"▾\";}#sk-container-id-2 div.sk-estimator input.sk-toggleable__control:checked~label.sk-toggleable__label {background-color: #d4ebff;}#sk-container-id-2 div.sk-label input.sk-toggleable__control:checked~label.sk-toggleable__label {background-color: #d4ebff;}#sk-container-id-2 input.sk-hidden--visually {border: 0;clip: rect(1px 1px 1px 1px);clip: rect(1px, 1px, 1px, 1px);height: 1px;margin: -1px;overflow: hidden;padding: 0;position: absolute;width: 1px;}#sk-container-id-2 div.sk-estimator {font-family: monospace;background-color: #f0f8ff;border: 1px dotted black;border-radius: 0.25em;box-sizing: border-box;margin-bottom: 0.5em;}#sk-container-id-2 div.sk-estimator:hover {background-color: #d4ebff;}#sk-container-id-2 div.sk-parallel-item::after {content: \"\";width: 100%;border-bottom: 1px solid gray;flex-grow: 1;}#sk-container-id-2 div.sk-label:hover label.sk-toggleable__label {background-color: #d4ebff;}#sk-container-id-2 div.sk-serial::before {content: \"\";position: absolute;border-left: 1px solid gray;box-sizing: border-box;top: 0;bottom: 0;left: 50%;z-index: 0;}#sk-container-id-2 div.sk-serial {display: flex;flex-direction: column;align-items: center;background-color: white;padding-right: 0.2em;padding-left: 0.2em;position: relative;}#sk-container-id-2 div.sk-item {position: relative;z-index: 1;}#sk-container-id-2 div.sk-parallel {display: flex;align-items: stretch;justify-content: center;background-color: white;position: relative;}#sk-container-id-2 div.sk-item::before, #sk-container-id-2 div.sk-parallel-item::before {content: \"\";position: absolute;border-left: 1px solid gray;box-sizing: border-box;top: 0;bottom: 0;left: 50%;z-index: -1;}#sk-container-id-2 div.sk-parallel-item {display: flex;flex-direction: column;z-index: 1;position: relative;background-color: white;}#sk-container-id-2 div.sk-parallel-item:first-child::after {align-self: flex-end;width: 50%;}#sk-container-id-2 div.sk-parallel-item:last-child::after {align-self: flex-start;width: 50%;}#sk-container-id-2 div.sk-parallel-item:only-child::after {width: 0;}#sk-container-id-2 div.sk-dashed-wrapped {border: 1px dashed gray;margin: 0 0.4em 0.5em 0.4em;box-sizing: border-box;padding-bottom: 0.4em;background-color: white;}#sk-container-id-2 div.sk-label label {font-family: monospace;font-weight: bold;display: inline-block;line-height: 1.2em;}#sk-container-id-2 div.sk-label-container {text-align: center;}#sk-container-id-2 div.sk-container {/* jupyter's `normalize.less` sets `[hidden] { display: none; }` but bootstrap.min.css set `[hidden] { display: none !important; }` so we also need the `!important` here to be able to override the default hidden behavior on the sphinx rendered scikit-learn.org. See: https://github.com/scikit-learn/scikit-learn/issues/21755 */display: inline-block !important;position: relative;}#sk-container-id-2 div.sk-text-repr-fallback {display: none;}</style><div id=\"sk-container-id-2\" class=\"sk-top-container\"><div class=\"sk-text-repr-fallback\"><pre>SVC()</pre><b>In a Jupyter environment, please rerun this cell to show the HTML representation or trust the notebook. <br />On GitHub, the HTML representation is unable to render, please try loading this page with nbviewer.org.</b></div><div class=\"sk-container\" hidden><div class=\"sk-item\"><div class=\"sk-estimator sk-toggleable\"><input class=\"sk-toggleable__control sk-hidden--visually\" id=\"sk-estimator-id-2\" type=\"checkbox\" checked><label for=\"sk-estimator-id-2\" class=\"sk-toggleable__label sk-toggleable__label-arrow\">SVC</label><div class=\"sk-toggleable__content\"><pre>SVC()</pre></div></div></div></div></div>"
      ],
      "text/plain": [
       "SVC()"
      ]
     },
     "execution_count": 25,
     "metadata": {},
     "output_type": "execute_result"
    }
   ],
   "source": [
    "#normalizando datos de entrenamiento\n",
    "X_test_min = X_test.min()\n",
    "X_test_range = (X_test - X_test_min).max()\n",
    "X_test_scaled = (X_test - X_test_min)/X_test_range\n",
    "svc_model = SVC()\n",
    "svc_model.fit(X_train_scaled, y_train)"
   ]
  },
  {
   "cell_type": "code",
   "execution_count": 26,
   "metadata": {},
   "outputs": [
    {
     "data": {
      "text/html": [
       "<div>\n",
       "<style scoped>\n",
       "    .dataframe tbody tr th:only-of-type {\n",
       "        vertical-align: middle;\n",
       "    }\n",
       "\n",
       "    .dataframe tbody tr th {\n",
       "        vertical-align: top;\n",
       "    }\n",
       "\n",
       "    .dataframe thead th {\n",
       "        text-align: right;\n",
       "    }\n",
       "</style>\n",
       "<table border=\"1\" class=\"dataframe\">\n",
       "  <thead>\n",
       "    <tr style=\"text-align: right;\">\n",
       "      <th></th>\n",
       "      <th>muere</th>\n",
       "      <th>vive</th>\n",
       "    </tr>\n",
       "  </thead>\n",
       "  <tbody>\n",
       "    <tr>\n",
       "      <th>muere</th>\n",
       "      <td>104</td>\n",
       "      <td>57</td>\n",
       "    </tr>\n",
       "    <tr>\n",
       "      <th>vive</th>\n",
       "      <td>36</td>\n",
       "      <td>184</td>\n",
       "    </tr>\n",
       "  </tbody>\n",
       "</table>\n",
       "</div>"
      ],
      "text/plain": [
       "       muere  vive\n",
       "muere    104    57\n",
       "vive      36   184"
      ]
     },
     "execution_count": 26,
     "metadata": {},
     "output_type": "execute_result"
    }
   ],
   "source": [
    "y_predict = svc_model.predict(X_test_scaled)\n",
    "cm = confusion_matrix(y_test, y_predict)\n",
    "#SVM con datos normalizados\n",
    "cm = np.array(confusion_matrix(y_test, y_predict, labels=[1,0]))\n",
    "confusion = pd.DataFrame(cm, index=['muere', 'vive'],\n",
    "                         columns=['muere','vive'])\n",
    "confusion\n"
   ]
  },
  {
   "cell_type": "code",
   "execution_count": 27,
   "metadata": {},
   "outputs": [
    {
     "name": "stdout",
     "output_type": "stream",
     "text": [
      "              precision    recall  f1-score   support\n",
      "\n",
      "         0.0       0.76      0.84      0.80       220\n",
      "         1.0       0.74      0.65      0.69       161\n",
      "\n",
      "    accuracy                           0.76       381\n",
      "   macro avg       0.75      0.74      0.74       381\n",
      "weighted avg       0.75      0.76      0.75       381\n",
      "\n"
     ]
    }
   ],
   "source": [
    "print(classification_report(y_test, y_predict))"
   ]
  },
  {
   "cell_type": "code",
   "execution_count": 28,
   "metadata": {
    "scrolled": true
   },
   "outputs": [
    {
     "data": {
      "text/plain": [
       "<AxesSubplot:>"
      ]
     },
     "execution_count": 28,
     "metadata": {},
     "output_type": "execute_result"
    },
    {
     "data": {
      "image/png": "[encoded data removed]",
      "text/plain": [
       "<Figure size 640x480 with 2 Axes>"
      ]
     },
     "metadata": {},
     "output_type": "display_data"
    }
   ],
   "source": [
    "sns.heatmap(confusion,annot=True,fmt=\"d\")"
   ]
  },
  {
   "cell_type": "code",
   "execution_count": 29,
   "metadata": {},
   "outputs": [
    {
     "name": "stdout",
     "output_type": "stream",
     "text": [
      "Fitting 5 folds for each of 25 candidates, totalling 125 fits\n",
      "[CV 1/5] END ........C=0.1, gamma=1, kernel=rbf;, score=0.689 total time=   0.0s\n",
      "[CV 2/5] END ........C=0.1, gamma=1, kernel=rbf;, score=0.689 total time=   0.0s\n",
      "[CV 3/5] END ........C=0.1, gamma=1, kernel=rbf;, score=0.757 total time=   0.0s\n",
      "[CV 4/5] END ........C=0.1, gamma=1, kernel=rbf;, score=0.711 total time=   0.0s\n",
      "[CV 5/5] END ........C=0.1, gamma=1, kernel=rbf;, score=0.740 total time=   0.0s\n",
      "[CV 1/5] END ......C=0.1, gamma=0.1, kernel=rbf;, score=0.580 total time=   0.0s\n",
      "[CV 2/5] END ......C=0.1, gamma=0.1, kernel=rbf;, score=0.584 total time=   0.0s\n",
      "[CV 3/5] END ......C=0.1, gamma=0.1, kernel=rbf;, score=0.579 total time=   0.0s\n",
      "[CV 4/5] END ......C=0.1, gamma=0.1, kernel=rbf;, score=0.582 total time=   0.0s\n",
      "[CV 5/5] END ......C=0.1, gamma=0.1, kernel=rbf;, score=0.582 total time=   0.0s\n",
      "[CV 1/5] END .....C=0.1, gamma=0.01, kernel=rbf;, score=0.580 total time=   0.0s\n",
      "[CV 2/5] END .....C=0.1, gamma=0.01, kernel=rbf;, score=0.580 total time=   0.0s\n",
      "[CV 3/5] END .....C=0.1, gamma=0.01, kernel=rbf;, score=0.579 total time=   0.0s\n",
      "[CV 4/5] END .....C=0.1, gamma=0.01, kernel=rbf;, score=0.579 total time=   0.0s\n",
      "[CV 5/5] END .....C=0.1, gamma=0.01, kernel=rbf;, score=0.582 total time=   0.0s\n",
      "[CV 1/5] END ....C=0.1, gamma=0.001, kernel=rbf;, score=0.580 total time=   0.0s\n",
      "[CV 2/5] END ....C=0.1, gamma=0.001, kernel=rbf;, score=0.580 total time=   0.0s\n",
      "[CV 3/5] END ....C=0.1, gamma=0.001, kernel=rbf;, score=0.579 total time=   0.0s\n",
      "[CV 4/5] END ....C=0.1, gamma=0.001, kernel=rbf;, score=0.579 total time=   0.0s\n",
      "[CV 5/5] END ....C=0.1, gamma=0.001, kernel=rbf;, score=0.582 total time=   0.0s\n",
      "[CV 1/5] END ....C=0.1, gamma=0.001, kernel=rbf;, score=0.580 total time=   0.0s\n",
      "[CV 2/5] END ....C=0.1, gamma=0.001, kernel=rbf;, score=0.580 total time=   0.0s\n",
      "[CV 3/5] END ....C=0.1, gamma=0.001, kernel=rbf;, score=0.579 total time=   0.0s\n",
      "[CV 4/5] END ....C=0.1, gamma=0.001, kernel=rbf;, score=0.579 total time=   0.0s\n",
      "[CV 5/5] END ....C=0.1, gamma=0.001, kernel=rbf;, score=0.582 total time=   0.0s\n",
      "[CV 1/5] END ..........C=1, gamma=1, kernel=rbf;, score=0.711 total time=   0.0s\n",
      "[CV 2/5] END ..........C=1, gamma=1, kernel=rbf;, score=0.718 total time=   0.0s\n",
      "[CV 3/5] END ..........C=1, gamma=1, kernel=rbf;, score=0.727 total time=   0.0s\n",
      "[CV 4/5] END ..........C=1, gamma=1, kernel=rbf;, score=0.730 total time=   0.0s\n",
      "[CV 5/5] END ..........C=1, gamma=1, kernel=rbf;, score=0.730 total time=   0.0s\n",
      "[CV 1/5] END ........C=1, gamma=0.1, kernel=rbf;, score=0.669 total time=   0.0s\n",
      "[CV 2/5] END ........C=1, gamma=0.1, kernel=rbf;, score=0.685 total time=   0.0s\n",
      "[CV 3/5] END ........C=1, gamma=0.1, kernel=rbf;, score=0.730 total time=   0.0s\n",
      "[CV 4/5] END ........C=1, gamma=0.1, kernel=rbf;, score=0.720 total time=   0.0s\n",
      "[CV 5/5] END ........C=1, gamma=0.1, kernel=rbf;, score=0.730 total time=   0.0s\n",
      "[CV 1/5] END .......C=1, gamma=0.01, kernel=rbf;, score=0.580 total time=   0.0s\n",
      "[CV 2/5] END .......C=1, gamma=0.01, kernel=rbf;, score=0.587 total time=   0.0s\n",
      "[CV 3/5] END .......C=1, gamma=0.01, kernel=rbf;, score=0.579 total time=   0.0s\n",
      "[CV 4/5] END .......C=1, gamma=0.01, kernel=rbf;, score=0.586 total time=   0.0s\n",
      "[CV 5/5] END .......C=1, gamma=0.01, kernel=rbf;, score=0.582 total time=   0.0s\n",
      "[CV 1/5] END ......C=1, gamma=0.001, kernel=rbf;, score=0.580 total time=   0.0s\n",
      "[CV 2/5] END ......C=1, gamma=0.001, kernel=rbf;, score=0.580 total time=   0.0s\n",
      "[CV 3/5] END ......C=1, gamma=0.001, kernel=rbf;, score=0.579 total time=   0.0s\n",
      "[CV 4/5] END ......C=1, gamma=0.001, kernel=rbf;, score=0.579 total time=   0.0s\n",
      "[CV 5/5] END ......C=1, gamma=0.001, kernel=rbf;, score=0.582 total time=   0.0s\n",
      "[CV 1/5] END ......C=1, gamma=0.001, kernel=rbf;, score=0.580 total time=   0.0s\n",
      "[CV 2/5] END ......C=1, gamma=0.001, kernel=rbf;, score=0.580 total time=   0.0s\n",
      "[CV 3/5] END ......C=1, gamma=0.001, kernel=rbf;, score=0.579 total time=   0.0s\n",
      "[CV 4/5] END ......C=1, gamma=0.001, kernel=rbf;, score=0.579 total time=   0.0s\n",
      "[CV 5/5] END ......C=1, gamma=0.001, kernel=rbf;, score=0.582 total time=   0.0s\n",
      "[CV 1/5] END .........C=10, gamma=1, kernel=rbf;, score=0.728 total time=   0.0s\n",
      "[CV 2/5] END .........C=10, gamma=1, kernel=rbf;, score=0.708 total time=   0.0s\n",
      "[CV 3/5] END .........C=10, gamma=1, kernel=rbf;, score=0.747 total time=   0.0s\n",
      "[CV 4/5] END .........C=10, gamma=1, kernel=rbf;, score=0.711 total time=   0.0s\n",
      "[CV 5/5] END .........C=10, gamma=1, kernel=rbf;, score=0.750 total time=   0.0s\n",
      "[CV 1/5] END .......C=10, gamma=0.1, kernel=rbf;, score=0.711 total time=   0.0s\n",
      "[CV 2/5] END .......C=10, gamma=0.1, kernel=rbf;, score=0.702 total time=   0.0s\n",
      "[CV 3/5] END .......C=10, gamma=0.1, kernel=rbf;, score=0.730 total time=   0.0s\n",
      "[CV 4/5] END .......C=10, gamma=0.1, kernel=rbf;, score=0.707 total time=   0.0s\n",
      "[CV 5/5] END .......C=10, gamma=0.1, kernel=rbf;, score=0.737 total time=   0.0s\n",
      "[CV 1/5] END ......C=10, gamma=0.01, kernel=rbf;, score=0.666 total time=   0.0s\n",
      "[CV 2/5] END ......C=10, gamma=0.01, kernel=rbf;, score=0.689 total time=   0.0s\n",
      "[CV 3/5] END ......C=10, gamma=0.01, kernel=rbf;, score=0.727 total time=   0.0s\n",
      "[CV 4/5] END ......C=10, gamma=0.01, kernel=rbf;, score=0.717 total time=   0.0s\n",
      "[CV 5/5] END ......C=10, gamma=0.01, kernel=rbf;, score=0.734 total time=   0.0s\n",
      "[CV 1/5] END .....C=10, gamma=0.001, kernel=rbf;, score=0.580 total time=   0.0s\n",
      "[CV 2/5] END .....C=10, gamma=0.001, kernel=rbf;, score=0.584 total time=   0.0s\n",
      "[CV 3/5] END .....C=10, gamma=0.001, kernel=rbf;, score=0.579 total time=   0.0s\n",
      "[CV 4/5] END .....C=10, gamma=0.001, kernel=rbf;, score=0.586 total time=   0.0s\n",
      "[CV 5/5] END .....C=10, gamma=0.001, kernel=rbf;, score=0.582 total time=   0.0s\n",
      "[CV 1/5] END .....C=10, gamma=0.001, kernel=rbf;, score=0.580 total time=   0.0s\n",
      "[CV 2/5] END .....C=10, gamma=0.001, kernel=rbf;, score=0.584 total time=   0.0s\n",
      "[CV 3/5] END .....C=10, gamma=0.001, kernel=rbf;, score=0.579 total time=   0.0s\n",
      "[CV 4/5] END .....C=10, gamma=0.001, kernel=rbf;, score=0.586 total time=   0.0s\n",
      "[CV 5/5] END .....C=10, gamma=0.001, kernel=rbf;, score=0.582 total time=   0.0s\n",
      "[CV 1/5] END ........C=100, gamma=1, kernel=rbf;, score=0.731 total time=   0.0s\n",
      "[CV 2/5] END ........C=100, gamma=1, kernel=rbf;, score=0.708 total time=   0.0s\n",
      "[CV 3/5] END ........C=100, gamma=1, kernel=rbf;, score=0.750 total time=   0.0s\n",
      "[CV 4/5] END ........C=100, gamma=1, kernel=rbf;, score=0.674 total time=   0.0s\n",
      "[CV 5/5] END ........C=100, gamma=1, kernel=rbf;, score=0.734 total time=   0.0s\n",
      "[CV 1/5] END ......C=100, gamma=0.1, kernel=rbf;, score=0.715 total time=   0.0s\n",
      "[CV 2/5] END ......C=100, gamma=0.1, kernel=rbf;, score=0.721 total time=   0.0s\n",
      "[CV 3/5] END ......C=100, gamma=0.1, kernel=rbf;, score=0.734 total time=   0.0s\n",
      "[CV 4/5] END ......C=100, gamma=0.1, kernel=rbf;, score=0.730 total time=   0.0s\n",
      "[CV 5/5] END ......C=100, gamma=0.1, kernel=rbf;, score=0.740 total time=   0.0s\n",
      "[CV 1/5] END .....C=100, gamma=0.01, kernel=rbf;, score=0.682 total time=   0.0s\n",
      "[CV 2/5] END .....C=100, gamma=0.01, kernel=rbf;, score=0.689 total time=   0.0s\n",
      "[CV 3/5] END .....C=100, gamma=0.01, kernel=rbf;, score=0.734 total time=   0.0s\n",
      "[CV 4/5] END .....C=100, gamma=0.01, kernel=rbf;, score=0.711 total time=   0.0s\n",
      "[CV 5/5] END .....C=100, gamma=0.01, kernel=rbf;, score=0.727 total time=   0.0s\n",
      "[CV 1/5] END ....C=100, gamma=0.001, kernel=rbf;, score=0.669 total time=   0.0s\n",
      "[CV 2/5] END ....C=100, gamma=0.001, kernel=rbf;, score=0.685 total time=   0.0s\n",
      "[CV 3/5] END ....C=100, gamma=0.001, kernel=rbf;, score=0.724 total time=   0.0s\n",
      "[CV 4/5] END ....C=100, gamma=0.001, kernel=rbf;, score=0.717 total time=   0.0s\n",
      "[CV 5/5] END ....C=100, gamma=0.001, kernel=rbf;, score=0.734 total time=   0.0s\n",
      "[CV 1/5] END ....C=100, gamma=0.001, kernel=rbf;, score=0.669 total time=   0.0s\n",
      "[CV 2/5] END ....C=100, gamma=0.001, kernel=rbf;, score=0.685 total time=   0.0s\n",
      "[CV 3/5] END ....C=100, gamma=0.001, kernel=rbf;, score=0.724 total time=   0.0s\n",
      "[CV 4/5] END ....C=100, gamma=0.001, kernel=rbf;, score=0.717 total time=   0.0s\n",
      "[CV 5/5] END ....C=100, gamma=0.001, kernel=rbf;, score=0.734 total time=   0.0s\n",
      "[CV 1/5] END .......C=1000, gamma=1, kernel=rbf;, score=0.715 total time=   0.3s\n"
     ]
    },
    {
     "name": "stdout",
     "output_type": "stream",
     "text": [
      "[CV 2/5] END .......C=1000, gamma=1, kernel=rbf;, score=0.685 total time=   0.3s\n",
      "[CV 3/5] END .......C=1000, gamma=1, kernel=rbf;, score=0.747 total time=   0.3s\n",
      "[CV 4/5] END .......C=1000, gamma=1, kernel=rbf;, score=0.668 total time=   0.4s\n",
      "[CV 5/5] END .......C=1000, gamma=1, kernel=rbf;, score=0.714 total time=   0.3s\n",
      "[CV 1/5] END .....C=1000, gamma=0.1, kernel=rbf;, score=0.715 total time=   0.0s\n",
      "[CV 2/5] END .....C=1000, gamma=0.1, kernel=rbf;, score=0.702 total time=   0.0s\n",
      "[CV 3/5] END .....C=1000, gamma=0.1, kernel=rbf;, score=0.747 total time=   0.0s\n",
      "[CV 4/5] END .....C=1000, gamma=0.1, kernel=rbf;, score=0.714 total time=   0.0s\n",
      "[CV 5/5] END .....C=1000, gamma=0.1, kernel=rbf;, score=0.737 total time=   0.1s\n",
      "[CV 1/5] END ....C=1000, gamma=0.01, kernel=rbf;, score=0.711 total time=   0.0s\n",
      "[CV 2/5] END ....C=1000, gamma=0.01, kernel=rbf;, score=0.698 total time=   0.0s\n",
      "[CV 3/5] END ....C=1000, gamma=0.01, kernel=rbf;, score=0.717 total time=   0.0s\n",
      "[CV 4/5] END ....C=1000, gamma=0.01, kernel=rbf;, score=0.714 total time=   0.0s\n",
      "[CV 5/5] END ....C=1000, gamma=0.01, kernel=rbf;, score=0.737 total time=   0.0s\n",
      "[CV 1/5] END ...C=1000, gamma=0.001, kernel=rbf;, score=0.685 total time=   0.0s\n",
      "[CV 2/5] END ...C=1000, gamma=0.001, kernel=rbf;, score=0.685 total time=   0.0s\n",
      "[CV 3/5] END ...C=1000, gamma=0.001, kernel=rbf;, score=0.730 total time=   0.0s\n",
      "[CV 4/5] END ...C=1000, gamma=0.001, kernel=rbf;, score=0.697 total time=   0.0s\n",
      "[CV 5/5] END ...C=1000, gamma=0.001, kernel=rbf;, score=0.724 total time=   0.0s\n",
      "[CV 1/5] END ...C=1000, gamma=0.001, kernel=rbf;, score=0.685 total time=   0.0s\n",
      "[CV 2/5] END ...C=1000, gamma=0.001, kernel=rbf;, score=0.685 total time=   0.0s\n",
      "[CV 3/5] END ...C=1000, gamma=0.001, kernel=rbf;, score=0.730 total time=   0.0s\n",
      "[CV 4/5] END ...C=1000, gamma=0.001, kernel=rbf;, score=0.697 total time=   0.0s\n",
      "[CV 5/5] END ...C=1000, gamma=0.001, kernel=rbf;, score=0.724 total time=   0.0s\n",
      "              precision    recall  f1-score   support\n",
      "\n",
      "         0.0       0.77      0.84      0.80       220\n",
      "         1.0       0.75      0.66      0.70       161\n",
      "\n",
      "    accuracy                           0.76       381\n",
      "   macro avg       0.76      0.75      0.75       381\n",
      "weighted avg       0.76      0.76      0.76       381\n",
      "\n"
     ]
    },
    {
     "data": {
      "image/png": "[encoded data removed]",
      "text/plain": [
       "<Figure size 640x480 with 2 Axes>"
      ]
     },
     "metadata": {},
     "output_type": "display_data"
    }
   ],
   "source": [
    "#hiperparametros\n",
    "#find best hyper parameters\n",
    "from sklearn.model_selection import GridSearchCV\n",
    "param_grid = {'C':[0.1,1,10,100,1000],'gamma':[1,0.1,0.01,0.001,0.001], 'kernel':['rbf']}\n",
    "grid = GridSearchCV(SVC(),param_grid,verbose = 4)\n",
    "grid.fit(X_train_scaled,y_train)\n",
    "grid.best_params_\n",
    "grid.best_estimator_\n",
    "grid_predictions = grid.predict(X_test_scaled)\n",
    "cmG = confusion_matrix(y_test,grid_predictions)\n",
    "sns.heatmap(cmG, annot=True)\n",
    "print(classification_report(y_test,grid_predictions))"
   ]
  },
  {
   "cell_type": "code",
   "execution_count": 30,
   "metadata": {},
   "outputs": [
    {
     "data": {
      "text/plain": [
       "{'C': 10, 'gamma': 1, 'kernel': 'rbf'}"
      ]
     },
     "execution_count": 30,
     "metadata": {},
     "output_type": "execute_result"
    }
   ],
   "source": [
    "grid.best_params_"
   ]
  },
  {
   "cell_type": "code",
   "execution_count": 31,
   "metadata": {},
   "outputs": [
    {
     "data": {
      "text/html": [
       "<style>#sk-container-id-3 {color: black;background-color: white;}#sk-container-id-3 pre{padding: 0;}#sk-container-id-3 div.sk-toggleable {background-color: white;}#sk-container-id-3 label.sk-toggleable__label {cursor: pointer;display: block;width: 100%;margin-bottom: 0;padding: 0.3em;box-sizing: border-box;text-align: center;}#sk-container-id-3 label.sk-toggleable__label-arrow:before {content: \"▸\";float: left;margin-right: 0.25em;color: #696969;}#sk-container-id-3 label.sk-toggleable__label-arrow:hover:before {color: black;}#sk-container-id-3 div.sk-estimator:hover label.sk-toggleable__label-arrow:before {color: black;}#sk-container-id-3 div.sk-toggleable__content {max-height: 0;max-width: 0;overflow: hidden;text-align: left;background-color: #f0f8ff;}#sk-container-id-3 div.sk-toggleable__content pre {margin: 0.2em;color: black;border-radius: 0.25em;background-color: #f0f8ff;}#sk-container-id-3 input.sk-toggleable__control:checked~div.sk-toggleable__content {max-height: 200px;max-width: 100%;overflow: auto;}#sk-container-id-3 input.sk-toggleable__control:checked~label.sk-toggleable__label-arrow:before {content: \"▾\";}#sk-container-id-3 div.sk-estimator input.sk-toggleable__control:checked~label.sk-toggleable__label {background-color: #d4ebff;}#sk-container-id-3 div.sk-label input.sk-toggleable__control:checked~label.sk-toggleable__label {background-color: #d4ebff;}#sk-container-id-3 input.sk-hidden--visually {border: 0;clip: rect(1px 1px 1px 1px);clip: rect(1px, 1px, 1px, 1px);height: 1px;margin: -1px;overflow: hidden;padding: 0;position: absolute;width: 1px;}#sk-container-id-3 div.sk-estimator {font-family: monospace;background-color: #f0f8ff;border: 1px dotted black;border-radius: 0.25em;box-sizing: border-box;margin-bottom: 0.5em;}#sk-container-id-3 div.sk-estimator:hover {background-color: #d4ebff;}#sk-container-id-3 div.sk-parallel-item::after {content: \"\";width: 100%;border-bottom: 1px solid gray;flex-grow: 1;}#sk-container-id-3 div.sk-label:hover label.sk-toggleable__label {background-color: #d4ebff;}#sk-container-id-3 div.sk-serial::before {content: \"\";position: absolute;border-left: 1px solid gray;box-sizing: border-box;top: 0;bottom: 0;left: 50%;z-index: 0;}#sk-container-id-3 div.sk-serial {display: flex;flex-direction: column;align-items: center;background-color: white;padding-right: 0.2em;padding-left: 0.2em;position: relative;}#sk-container-id-3 div.sk-item {position: relative;z-index: 1;}#sk-container-id-3 div.sk-parallel {display: flex;align-items: stretch;justify-content: center;background-color: white;position: relative;}#sk-container-id-3 div.sk-item::before, #sk-container-id-3 div.sk-parallel-item::before {content: \"\";position: absolute;border-left: 1px solid gray;box-sizing: border-box;top: 0;bottom: 0;left: 50%;z-index: -1;}#sk-container-id-3 div.sk-parallel-item {display: flex;flex-direction: column;z-index: 1;position: relative;background-color: white;}#sk-container-id-3 div.sk-parallel-item:first-child::after {align-self: flex-end;width: 50%;}#sk-container-id-3 div.sk-parallel-item:last-child::after {align-self: flex-start;width: 50%;}#sk-container-id-3 div.sk-parallel-item:only-child::after {width: 0;}#sk-container-id-3 div.sk-dashed-wrapped {border: 1px dashed gray;margin: 0 0.4em 0.5em 0.4em;box-sizing: border-box;padding-bottom: 0.4em;background-color: white;}#sk-container-id-3 div.sk-label label {font-family: monospace;font-weight: bold;display: inline-block;line-height: 1.2em;}#sk-container-id-3 div.sk-label-container {text-align: center;}#sk-container-id-3 div.sk-container {/* jupyter's `normalize.less` sets `[hidden] { display: none; }` but bootstrap.min.css set `[hidden] { display: none !important; }` so we also need the `!important` here to be able to override the default hidden behavior on the sphinx rendered scikit-learn.org. See: https://github.com/scikit-learn/scikit-learn/issues/21755 */display: inline-block !important;position: relative;}#sk-container-id-3 div.sk-text-repr-fallback {display: none;}</style><div id=\"sk-container-id-3\" class=\"sk-top-container\"><div class=\"sk-text-repr-fallback\"><pre>SVC(C=10, gamma=1)</pre><b>In a Jupyter environment, please rerun this cell to show the HTML representation or trust the notebook. <br />On GitHub, the HTML representation is unable to render, please try loading this page with nbviewer.org.</b></div><div class=\"sk-container\" hidden><div class=\"sk-item\"><div class=\"sk-estimator sk-toggleable\"><input class=\"sk-toggleable__control sk-hidden--visually\" id=\"sk-estimator-id-3\" type=\"checkbox\" checked><label for=\"sk-estimator-id-3\" class=\"sk-toggleable__label sk-toggleable__label-arrow\">SVC</label><div class=\"sk-toggleable__content\"><pre>SVC(C=10, gamma=1)</pre></div></div></div></div></div>"
      ],
      "text/plain": [
       "SVC(C=10, gamma=1)"
      ]
     },
     "execution_count": 31,
     "metadata": {},
     "output_type": "execute_result"
    }
   ],
   "source": [
    "grid.best_estimator_"
   ]
  },
  {
   "cell_type": "code",
   "execution_count": 32,
   "metadata": {},
   "outputs": [
    {
     "data": {
      "text/html": [
       "<div>\n",
       "<style scoped>\n",
       "    .dataframe tbody tr th:only-of-type {\n",
       "        vertical-align: middle;\n",
       "    }\n",
       "\n",
       "    .dataframe tbody tr th {\n",
       "        vertical-align: top;\n",
       "    }\n",
       "\n",
       "    .dataframe thead th {\n",
       "        text-align: right;\n",
       "    }\n",
       "</style>\n",
       "<table border=\"1\" class=\"dataframe\">\n",
       "  <thead>\n",
       "    <tr style=\"text-align: right;\">\n",
       "      <th></th>\n",
       "      <th>predicted_cancer</th>\n",
       "      <th>predicted_healthy</th>\n",
       "    </tr>\n",
       "  </thead>\n",
       "  <tbody>\n",
       "    <tr>\n",
       "      <th>is_cancer</th>\n",
       "      <td>106</td>\n",
       "      <td>55</td>\n",
       "    </tr>\n",
       "    <tr>\n",
       "      <th>is_healthy</th>\n",
       "      <td>36</td>\n",
       "      <td>184</td>\n",
       "    </tr>\n",
       "  </tbody>\n",
       "</table>\n",
       "</div>"
      ],
      "text/plain": [
       "            predicted_cancer  predicted_healthy\n",
       "is_cancer                106                 55\n",
       "is_healthy                36                184"
      ]
     },
     "execution_count": 32,
     "metadata": {},
     "output_type": "execute_result"
    }
   ],
   "source": [
    "grid_predictions = grid.predict(X_test_scaled)\n",
    "cm = np.array(confusion_matrix(y_test, grid_predictions, labels=[1,0]))\n",
    "matriz0 = pd.DataFrame(cm, index=['is_cancer', 'is_healthy'],\n",
    "                         columns=['predicted_cancer','predicted_healthy'])\n",
    "matriz0"
   ]
  },
  {
   "cell_type": "code",
   "execution_count": 33,
   "metadata": {},
   "outputs": [
    {
     "data": {
      "text/plain": [
       "<AxesSubplot:>"
      ]
     },
     "execution_count": 33,
     "metadata": {},
     "output_type": "execute_result"
    },
    {
     "data": {
      "image/png": "[encoded data removed]",
      "text/plain": [
       "<Figure size 640x480 with 2 Axes>"
      ]
     },
     "metadata": {},
     "output_type": "display_data"
    }
   ],
   "source": [
    "sns.heatmap(matriz0, annot=True, fmt=\"d\")"
   ]
  },
  {
   "cell_type": "code",
   "execution_count": 34,
   "metadata": {},
   "outputs": [
    {
     "name": "stdout",
     "output_type": "stream",
     "text": [
      "              precision    recall  f1-score   support\n",
      "\n",
      "         0.0       0.77      0.84      0.80       220\n",
      "         1.0       0.75      0.66      0.70       161\n",
      "\n",
      "    accuracy                           0.76       381\n",
      "   macro avg       0.76      0.75      0.75       381\n",
      "weighted avg       0.76      0.76      0.76       381\n",
      "\n"
     ]
    }
   ],
   "source": [
    "print(classification_report(y_test, grid_predictions))"
   ]
  },
  {
   "cell_type": "code",
   "execution_count": 35,
   "metadata": {},
   "outputs": [
    {
     "name": "stdout",
     "output_type": "stream",
     "text": [
      "datos paciente 1 : \n",
      " [0.30668168 0.55541277 0.70792198 0.37985075 0.         0.16666667]\n",
      "Logistic Regression TrainingAccuracy: 0.8710581639803784\n"
     ]
    }
   ],
   "source": [
    "#Regresion lineal\n",
    "# paciente 1  diagnosis= 0\n",
    "paciente_1 = df1.iloc[21, 2:8].values\n",
    "# Visualizar las variables del paciente 1\n",
    "print(\"datos paciente 1 : \\n\", paciente_1)\n",
    "X = df1.iloc[:, 2:8].values\n",
    "Y = df1.iloc[:, 1].values\n",
    "# Importar libreria para la separaci´on de los datos de entrenamiento\n",
    "from sklearn.model_selection import train_test_split\n",
    "# Utilizar 25% de los Datos para Entrenar los Modelos\n",
    "X_train, X_test, Y_train, Y_test = train_test_split(X, Y, test_size =0.25,\n",
    "random_state = 0)\n",
    "#Importar librer´ıa para usar el Modelo Logistic Regression\n",
    "from sklearn.linear_model import LogisticRegression\n",
    "#Usar el modelo Logistic Regression\n",
    "logisticRegression = LogisticRegression(random_state = 0)\n",
    "#Entrenar el modelo Logistic Regression\n",
    "logisticRegression.fit(X_train, Y_train)\n",
    "#Imprimir la respuesta del Modelo Logistic Regression\n",
    "print(\"Logistic Regression TrainingAccuracy:\",\n",
    "logisticRegression.score(X_train,Y_train))"
   ]
  },
  {
   "cell_type": "code",
   "execution_count": 36,
   "metadata": {},
   "outputs": [
    {
     "name": "stdout",
     "output_type": "stream",
     "text": [
      "Diagnosis:  [0.]\n",
      "Probabilidad de  morir:  0.9717838356386357\n",
      "Probabilidad de  vivir:  0.02821616436136427\n"
     ]
    }
   ],
   "source": [
    "pred_1 = logisticRegression.predict([paciente_1])\n",
    "pred_proba_1 = logisticRegression.predict_proba([paciente_1])\n",
    "print(\"Diagnosis: \", pred_1)\n",
    "print(\"Probabilidad de  morir: \", pred_proba_1[0][0])\n",
    "print(\"Probabilidad de  vivir: \", pred_proba_1[0][1])"
   ]
  },
  {
   "cell_type": "code",
   "execution_count": 37,
   "metadata": {},
   "outputs": [
    {
     "name": "stdout",
     "output_type": "stream",
     "text": [
      "datos paciente 1 : \n",
      " [0.30668168 0.55541277 0.70792198 0.37985075 0.         0.16666667]\n",
      "Logistic Regression TrainingAccuracy: 0.7147862648913805\n"
     ]
    }
   ],
   "source": [
    "#Regresion lineal\n",
    "# paciente 1  diagnosis= 0\n",
    "paciente_1 = df1.iloc[21, 2:8].values\n",
    "# Visualizar las variables del paciente 1\n",
    "print(\"datos paciente 1 : \\n\", paciente_1)\n",
    "X= df1.drop(\"overall_survival\", axis=1).values\n",
    "Y = df1[\"overall_survival\"].values\n",
    "\n",
    "# Importar libreria para la separaci´on de los datos de entrenamiento\n",
    "from sklearn.model_selection import train_test_split\n",
    "# Utilizar 25% de los Datos para Entrenar los Modelos\n",
    "X_train, X_test, Y_train, Y_test = train_test_split(X, Y, test_size =0.25,\n",
    "random_state = 0)\n",
    "#Importar librer´ıa para usar el Modelo Logistic Regression\n",
    "from sklearn.linear_model import LogisticRegression\n",
    "#Usar el modelo Logistic Regression\n",
    "logisticRegression = LogisticRegression(random_state = 0)\n",
    "#Entrenar el modelo Logistic Regression\n",
    "logisticRegression.fit(X_train, Y_train)\n",
    "#Imprimir la respuesta del Modelo Logistic Regression\n",
    "print(\"Logistic Regression TrainingAccuracy:\",\n",
    "logisticRegression.score(X_train,Y_train))"
   ]
  },
  {
   "cell_type": "code",
   "execution_count": 38,
   "metadata": {},
   "outputs": [
    {
     "data": {
      "text/html": [
       "<div>\n",
       "<style scoped>\n",
       "    .dataframe tbody tr th:only-of-type {\n",
       "        vertical-align: middle;\n",
       "    }\n",
       "\n",
       "    .dataframe tbody tr th {\n",
       "        vertical-align: top;\n",
       "    }\n",
       "\n",
       "    .dataframe thead th {\n",
       "        text-align: right;\n",
       "    }\n",
       "</style>\n",
       "<table border=\"1\" class=\"dataframe\">\n",
       "  <thead>\n",
       "    <tr style=\"text-align: right;\">\n",
       "      <th></th>\n",
       "      <th>predicted_muere</th>\n",
       "      <th>predicted_vive</th>\n",
       "    </tr>\n",
       "  </thead>\n",
       "  <tbody>\n",
       "    <tr>\n",
       "      <th>muere</th>\n",
       "      <td>93</td>\n",
       "      <td>67</td>\n",
       "    </tr>\n",
       "    <tr>\n",
       "      <th>vive</th>\n",
       "      <td>46</td>\n",
       "      <td>175</td>\n",
       "    </tr>\n",
       "  </tbody>\n",
       "</table>\n",
       "</div>"
      ],
      "text/plain": [
       "       predicted_muere  predicted_vive\n",
       "muere               93              67\n",
       "vive                46             175"
      ]
     },
     "execution_count": 38,
     "metadata": {},
     "output_type": "execute_result"
    }
   ],
   "source": [
    "\n",
    "\n",
    "X1= df1.drop(\"overall_survival\", axis=1).values\n",
    "Y1 = df1[\"overall_survival\"].values\n",
    "X1.shape\n",
    "\n",
    "\n",
    "\n",
    "validation_size = 0.20\n",
    "seed = 7\n",
    "X1_train, X1_validation, Y1_train, Y1_validation = train_test_split(X1, Y1, test_size=validation_size, random_state=seed)\n",
    "model = linear_model.LogisticRegression()\n",
    "model.fit(X1_train, Y1_train)\n",
    "\n",
    "#Usemos nuestro modelo entrenado para hacer una predicción usando nuestros datos de prueba\n",
    "Y1_predict = model.predict( X1_validation)\n",
    "\n",
    "#Vamos a crear una matriz de confusión para el rendimiento de nuestro clasificador en el conjunto de datos de prueba.\n",
    "cm = np.array(confusion_matrix(Y1_validation, Y1_predict, labels=[1,0]))\n",
    "matriz = pd.DataFrame(cm, index=['muere', 'vive'],\n",
    "                         columns=['predicted_muere','predicted_vive'])\n",
    "matriz\n"
   ]
  },
  {
   "cell_type": "code",
   "execution_count": 39,
   "metadata": {},
   "outputs": [
    {
     "name": "stdout",
     "output_type": "stream",
     "text": [
      "              precision    recall  f1-score   support\n",
      "\n",
      "         0.0       0.72      0.79      0.76       221\n",
      "         1.0       0.67      0.58      0.62       160\n",
      "\n",
      "    accuracy                           0.70       381\n",
      "   macro avg       0.70      0.69      0.69       381\n",
      "weighted avg       0.70      0.70      0.70       381\n",
      "\n"
     ]
    },
    {
     "data": {
      "image/png": "[encoded data removed]",
      "text/plain": [
       "<Figure size 640x480 with 2 Axes>"
      ]
     },
     "metadata": {},
     "output_type": "display_data"
    }
   ],
   "source": [
    "sns.heatmap(matriz, annot=True, fmt=\"d\")\n",
    "print(classification_report(Y1_validation, Y1_predict))"
   ]
  },
  {
   "cell_type": "code",
   "execution_count": 40,
   "metadata": {
    "colab": {
     "base_uri": "https://localhost:8080/",
     "height": 1000
    },
    "id": "c3lAfzowJd9f",
    "outputId": "9f8c57ee-bd1a-43ae-aa8b-9805aef95a52"
   },
   "outputs": [
    {
     "data": {
      "text/plain": [
       "<AxesSubplot:>"
      ]
     },
     "execution_count": 40,
     "metadata": {},
     "output_type": "execute_result"
    },
    {
     "data": {
      "image/png": "[encoded data removed]",
      "text/plain": [
       "<Figure size 1600x1600 with 2 Axes>"
      ]
     },
     "metadata": {},
     "output_type": "display_data"
    }
   ],
   "source": [
    "#comparando independencia entre variables\n",
    "plt.figure(figsize = (16,16))\n",
    "sns.heatmap(analisis1.corr(), annot = True, cmap = \"RdYlGn\")"
   ]
  },
  {
   "cell_type": "markdown",
   "metadata": {
    "id": "pmnsgE-xiGCh",
    "outputId": "bf5d7888-06a7-48d2-d329-3c7e759f54e6"
   },
   "source": [
    "<h1> Pruebas de normalidad </h1>\n",
    "<hr>\n",
    "<h2> D'Agostino </h2>\n",
    "\n",
    "<p> A continuación, se realiza una prueba (llamada prueba D'Agostino), para determinar si los datos siguen o no una distribución normal, ya que la prueba de Shapiro es poco precisa para la cantidad de datos que tenemos en esta base de datos. </p>\n",
    "\n",
    "<p> Así, la prueba de hipótesis que plantea D'Agostino es la siguiente:</p>\n",
    "\n",
    "<p> $H_0:$ Los datos proceden de una distribución normal.</p>\n",
    "\n",
    "<p> $H_1:$ Los datos no proceden de una distribución normal.</p>\n",
    "\n",
    "<p> Si se rechaza $H_0$, se concluye que hay evidencia estadística suficiente para afirmar que los datos no siguen una distribución normal. Por lo tanto, las siguientes celdas se centrarán en realizar esta prueba y, en caso de no seguir una distribución normal, hacer una estandarización de los datos. </p>"
   ]
  },
  {
   "cell_type": "code",
   "execution_count": 41,
   "metadata": {
    "colab": {
     "base_uri": "https://localhost:8080/"
    },
    "id": "41s-37U-Jd9k",
    "outputId": "1df3cf65-92f4-4bbc-aac4-f666ca3ee0dd"
   },
   "outputs": [
    {
     "name": "stdout",
     "output_type": "stream",
     "text": [
      "overall_survival = 7332.254123491217, p_valor = 0.0\n",
      "chemotherapy = 379.8196575539383, p_valor = 3.335871423163791e-83\n",
      "overall_survival_months = 189.96667467687158, p_valor = 5.613848925780835e-42\n",
      "tumor_size = nan, p_valor = nan\n",
      "age_at_diagnosis = 65.70558661788681, p_valor = 5.3977547818331965e-15\n",
      "nottingham_prognostic_index = 14.08499100849108, p_valor = 0.0008739429104918542\n",
      "lymph_nodes_examined_positive = 449.2006355676193, p_valor = 2.8662980800755445e-98\n",
      "cancer_type_detailed = nan, p_valor = nan\n"
     ]
    }
   ],
   "source": [
    "for i in analisis1:\n",
    "    k2, p_value = stats.normaltest(analisis1[i])\n",
    "    print(f\"{i} = {k2}, p_valor = {p_value}\")"
   ]
  },
  {
   "cell_type": "code",
   "execution_count": 42,
   "metadata": {
    "colab": {
     "base_uri": "https://localhost:8080/",
     "height": 279
    },
    "id": "qRBzRNMeJd9l",
    "outputId": "17eeecb9-e0b8-4245-fbb1-007bb7ccd63c"
   },
   "outputs": [
    {
     "data": {
      "image/png": "[encoded data removed]",
      "text/plain": [
       "<Figure size 700x400 with 1 Axes>"
      ]
     },
     "metadata": {},
     "output_type": "display_data"
    }
   ],
   "source": [
    "# Gráfico QQ\n",
    "fig, ax = plt.subplots(figsize=(7,4))\n",
    "sm.qqplot(df1[\"tumor_size\"], fit = True,  line = \"q\", alpha = 0.05, lw = 2, ax = ax)\n",
    "plt.xlabel(\"Cuantiles teóricos\")\n",
    "plt.ylabel(\"Tamaño del tumor\")\n",
    "plt.show()"
   ]
  },
  {
   "cell_type": "markdown",
   "metadata": {},
   "source": [
    "<h2> Chi cuadrado </h2>\n",
    "<hr>"
   ]
  },
  {
   "cell_type": "code",
   "execution_count": 43,
   "metadata": {
    "colab": {
     "base_uri": "https://localhost:8080/"
    },
    "id": "1JhA9_ImJd9m",
    "outputId": "258559b7-bcc8-44cf-edbb-f07bbd54bb0c"
   },
   "outputs": [
    {
     "ename": "ValueError",
     "evalue": "The internally computed table of expected frequencies has a zero element at (0, 938).",
     "output_type": "error",
     "traceback": [
      "\u001b[1;31m---------------------------------------------------------------------------\u001b[0m",
      "\u001b[1;31mValueError\u001b[0m                                Traceback (most recent call last)",
      "\u001b[1;32m~\\AppData\\Local\\Temp\\ipykernel_6996\\2849560807.py\u001b[0m in \u001b[0;36m<cell line: 6>\u001b[1;34m()\u001b[0m\n\u001b[0;32m      4\u001b[0m \u001b[1;31m# definiendo la tabla\u001b[0m\u001b[1;33m\u001b[0m\u001b[1;33m\u001b[0m\u001b[0m\n\u001b[0;32m      5\u001b[0m \u001b[0mdata\u001b[0m \u001b[1;33m=\u001b[0m \u001b[1;33m[\u001b[0m\u001b[0mdf1\u001b[0m\u001b[1;33m[\u001b[0m\u001b[1;34m\"overall_survival\"\u001b[0m\u001b[1;33m]\u001b[0m\u001b[1;33m,\u001b[0m \u001b[0mdf1\u001b[0m\u001b[1;33m[\u001b[0m\u001b[1;34m\"tumor_size\"\u001b[0m\u001b[1;33m]\u001b[0m\u001b[1;33m]\u001b[0m\u001b[1;33m\u001b[0m\u001b[1;33m\u001b[0m\u001b[0m\n\u001b[1;32m----> 6\u001b[1;33m \u001b[0mstat\u001b[0m\u001b[1;33m,\u001b[0m \u001b[0mp\u001b[0m\u001b[1;33m,\u001b[0m \u001b[0mdof\u001b[0m\u001b[1;33m,\u001b[0m \u001b[0mexpected\u001b[0m \u001b[1;33m=\u001b[0m \u001b[0mchi2_contingency\u001b[0m\u001b[1;33m(\u001b[0m\u001b[0mdata\u001b[0m\u001b[1;33m)\u001b[0m\u001b[1;33m\u001b[0m\u001b[1;33m\u001b[0m\u001b[0m\n\u001b[0m\u001b[0;32m      7\u001b[0m \u001b[1;33m\u001b[0m\u001b[0m\n\u001b[0;32m      8\u001b[0m \u001b[1;31m# interpreta el p_valor\u001b[0m\u001b[1;33m\u001b[0m\u001b[1;33m\u001b[0m\u001b[0m\n",
      "\u001b[1;32m~\\AppData\\Local\\Programs\\Python\\Python310\\lib\\site-packages\\scipy\\stats\\contingency.py\u001b[0m in \u001b[0;36mchi2_contingency\u001b[1;34m(observed, correction, lambda_)\u001b[0m\n\u001b[0;32m    274\u001b[0m         \u001b[1;31m# the exception message.\u001b[0m\u001b[1;33m\u001b[0m\u001b[1;33m\u001b[0m\u001b[0m\n\u001b[0;32m    275\u001b[0m         \u001b[0mzeropos\u001b[0m \u001b[1;33m=\u001b[0m \u001b[0mlist\u001b[0m\u001b[1;33m(\u001b[0m\u001b[0mzip\u001b[0m\u001b[1;33m(\u001b[0m\u001b[1;33m*\u001b[0m\u001b[0mnp\u001b[0m\u001b[1;33m.\u001b[0m\u001b[0mnonzero\u001b[0m\u001b[1;33m(\u001b[0m\u001b[0mexpected\u001b[0m \u001b[1;33m==\u001b[0m \u001b[1;36m0\u001b[0m\u001b[1;33m)\u001b[0m\u001b[1;33m)\u001b[0m\u001b[1;33m)\u001b[0m\u001b[1;33m[\u001b[0m\u001b[1;36m0\u001b[0m\u001b[1;33m]\u001b[0m\u001b[1;33m\u001b[0m\u001b[1;33m\u001b[0m\u001b[0m\n\u001b[1;32m--> 276\u001b[1;33m         raise ValueError(\"The internally computed table of expected \"\n\u001b[0m\u001b[0;32m    277\u001b[0m                          \"frequencies has a zero element at %s.\" % (zeropos,))\n\u001b[0;32m    278\u001b[0m \u001b[1;33m\u001b[0m\u001b[0m\n",
      "\u001b[1;31mValueError\u001b[0m: The internally computed table of expected frequencies has a zero element at (0, 938)."
     ]
    }
   ],
   "source": [
    "# Chi cuadrado\n",
    "from scipy.stats import chi2_contingency\n",
    "  \n",
    "# definiendo la tabla\n",
    "data = [df1[\"overall_survival\"], df1[\"tumor_size\"]]\n",
    "stat, p, dof, expected = chi2_contingency(data)\n",
    "  \n",
    "# interpreta el p_valor\n",
    "alpha = 0.05\n",
    "print(\"El p-valor es: \" + str(p))\n",
    "if p <= alpha:\n",
    "    print('Dependiente (rechaza H0)')\n",
    "else:\n",
    "    print('Independiente (H0 se mantiene verdadera)')\n"
   ]
  },
  {
   "cell_type": "markdown",
   "metadata": {},
   "source": [
    "<h2> Estandarización de los datos </h2>"
   ]
  },
  {
   "cell_type": "code",
   "execution_count": null,
   "metadata": {},
   "outputs": [],
   "source": [
    "from sklearn.preprocessing import StandardScaler\n",
    "datos_estandarizados = StandardScaler().fit_transform(analisis1)\n",
    "datos_estandarizados = pd.DataFrame(datos_estandarizados, columns = analisis1.columns)\n",
    "datos_estandarizados.describe()"
   ]
  },
  {
   "cell_type": "markdown",
   "metadata": {},
   "source": [
    "<h1> Modelo de regresión multilineal </h1>\n",
    "<hr>"
   ]
  },
  {
   "cell_type": "code",
   "execution_count": null,
   "metadata": {
    "colab": {
     "base_uri": "https://localhost:8080/",
     "height": 835
    },
    "id": "deGKcqNkJ9eA",
    "outputId": "bf979cb9-d434-4c54-c0b1-20d627cb0e58"
   },
   "outputs": [],
   "source": [
    "# Modelo de regresión lineal\n",
    "def modelo(base_datos):\n",
    "    xi = [var_dep + \"~\"]\n",
    "    for i in base_datos:\n",
    "        xi[0] = xi[0] + \"+\" + i\n",
    "    return xi[0]\n",
    "\n",
    "MRL = smf.ols(modelo(analisis2), datos_estandarizados).fit()\n",
    "MRL.summary()"
   ]
  },
  {
   "cell_type": "code",
   "execution_count": null,
   "metadata": {
    "colab": {
     "base_uri": "https://localhost:8080/",
     "height": 471
    },
    "id": "H0ID0g13KFhp",
    "outputId": "02d1af59-86ee-428d-e4c3-b50fc0b5ec73"
   },
   "outputs": [],
   "source": [
    "# Eliminando columnas cuyo P-valor supera 0.05\n",
    "def limpiador_pvalor(base_datos, regresion):\n",
    "    for i in base_datos:\n",
    "        if regresion.pvalues[i] > 0.05:\n",
    "            base_datos = base_datos.drop([i], axis = 1)\n",
    "    return base_datos\n",
    "\n",
    "y = datos_estandarizados.loc[:, var_dep]\n",
    "analisis2 = datos_estandarizados.drop(var_dep, axis = 1)\n",
    "analisis2 = limpiador_pvalor(analisis2, MRL)\n",
    "datos_estandarizados = pd.concat([y, analisis2], axis = 1)\n",
    "datos_estandarizados"
   ]
  },
  {
   "cell_type": "code",
   "execution_count": null,
   "metadata": {
    "colab": {
     "base_uri": "https://localhost:8080/",
     "height": 625
    },
    "id": "yw_AarucKIS6",
    "outputId": "211ab83e-db6a-4f64-dc72-532b17966e70"
   },
   "outputs": [],
   "source": [
    "# Regresión con las variables contribuyentes al modelo\n",
    "MRL_2 = smf.ols(modelo(analisis2), datos_estandarizados).fit()\n",
    "MRL_2.summary()"
   ]
  },
  {
   "cell_type": "markdown",
   "metadata": {},
   "source": [
    "<h1> Prueba ANOVA </h1>\n",
    "<hr>"
   ]
  },
  {
   "cell_type": "code",
   "execution_count": null,
   "metadata": {
    "colab": {
     "base_uri": "https://localhost:8080/",
     "height": 359
    },
    "id": "w_tiNpGqC8pd",
    "outputId": "ac4e5dcf-61ad-4b04-c44c-84264c688833"
   },
   "outputs": [],
   "source": [
    "# ANOVA\n",
    "tabla_anova = sm.stats.anova_lm(MRL_2, typ = 3)\n",
    "tabla_anova"
   ]
  },
  {
   "cell_type": "code",
   "execution_count": null,
   "metadata": {
    "colab": {
     "base_uri": "https://localhost:8080/",
     "height": 280
    },
    "id": "1PBR06AdwxAx",
    "outputId": "dc1f1f5a-3c4b-45e7-d360-745be0ff0f40"
   },
   "outputs": [],
   "source": [
    "# variables utilizadas en el modelo de regresion \n",
    "\n",
    "import seaborn as sns\n",
    "fig, axes = plt.subplots(1, 4, figsize=(20, 4))\n",
    "for idx, feature in enumerate(list(df1.columns)[:4]):\n",
    "\n",
    "    sns.boxplot( x='overall_survival', y=feature, data=df1, ax=axes[idx])\n",
    "plt.show()"
   ]
  }
 ],
 "metadata": {
  "colab": {
   "collapsed_sections": [],
   "include_colab_link": true,
   "provenance": []
  },
  "kernelspec": {
   "display_name": "Python 3 (ipykernel)",
   "language": "python",
   "name": "python3"
  },
  "language_info": {
   "codemirror_mode": {
    "name": "ipython",
    "version": 3
   },
   "file_extension": ".py",
   "mimetype": "text/x-python",
   "name": "python",
   "nbconvert_exporter": "python",
   "pygments_lexer": "ipython3",
   "version": "3.10.6"
  }
 },
 "nbformat": 4,
 "nbformat_minor": 1
}

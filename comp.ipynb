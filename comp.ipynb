{
 "cells": [
  {
   "cell_type": "markdown",
   "metadata": {
    "colab_type": "text",
    "id": "view-in-github"
   },
   "source": [
    "<h1> <center> &#127756 Parcial I Física Computacional &#127826 </center> </h1>\n",
    "\n",
    "<h3> <center> <em> Sebastián Marín, Gabriela E. Díaz, J. Sebastián Useche </em> </center> </h3>\n",
    "<h4> <center> <em> Programa de Física, Facultad de Ciencias Básicas y Tecnologías </em> </center></h4>\n",
    "<br><br>\n",
    "<center> Trabajo realizado en: </center> \n",
    " \n",
    "![logo jupyter](jup_logo.png)"
   ]
  },
  {
   "cell_type": "code",
   "execution_count": 1,
   "metadata": {
    "colab": {
     "base_uri": "https://localhost:8080/",
     "height": 34
    },
    "id": "oJ-B8lbk_inY",
    "outputId": "be4e2224-38c2-4f1c-d856-f6815ececbf0"
   },
   "outputs": [],
   "source": [
    "# Librerías\n",
    "import pandas as pd\n",
    "import numpy as np\n",
    "import seaborn as sns\n",
    "import matplotlib.pyplot as plt\n",
    "import statsmodels.api as sm\n",
    "import statsmodels.formula.api as smf\n",
    "from scipy import stats\n",
    "from sklearn.linear_model import LinearRegression\n",
    "from sklearn.model_selection import train_test_split\n",
    "from sklearn.svm import SVC\n",
    "from sklearn.metrics import classification_report, confusion_matrix\n",
    "from sklearn import linear_model"
   ]
  },
  {
   "cell_type": "code",
   "execution_count": 2,
   "metadata": {
    "colab": {
     "base_uri": "https://localhost:8080/"
    },
    "id": "kf9uYaioAN6l",
    "outputId": "06fec513-6c06-4c64-fde9-eb4dc6abd346",
    "scrolled": false
   },
   "outputs": [
    {
     "name": "stderr",
     "output_type": "stream",
     "text": [
      "C:\\Users\\Acer\\AppData\\Local\\Temp\\ipykernel_5452\\3712335254.py:2: DtypeWarning: Columns (678,688,690,692) have mixed types. Specify dtype option on import or set low_memory=False.\n",
      "  datos = pd.read_csv(\"METABRIC_RNA_Mutation.csv\")\n"
     ]
    },
    {
     "data": {
      "text/html": [
       "<div>\n",
       "<style scoped>\n",
       "    .dataframe tbody tr th:only-of-type {\n",
       "        vertical-align: middle;\n",
       "    }\n",
       "\n",
       "    .dataframe tbody tr th {\n",
       "        vertical-align: top;\n",
       "    }\n",
       "\n",
       "    .dataframe thead th {\n",
       "        text-align: right;\n",
       "    }\n",
       "</style>\n",
       "<table border=\"1\" class=\"dataframe\">\n",
       "  <thead>\n",
       "    <tr style=\"text-align: right;\">\n",
       "      <th></th>\n",
       "      <th>patient_id</th>\n",
       "      <th>age_at_diagnosis</th>\n",
       "      <th>type_of_breast_surgery</th>\n",
       "      <th>cancer_type</th>\n",
       "      <th>cancer_type_detailed</th>\n",
       "      <th>cellularity</th>\n",
       "      <th>chemotherapy</th>\n",
       "      <th>pam50_+_claudin-low_subtype</th>\n",
       "      <th>cohort</th>\n",
       "      <th>er_status_measured_by_ihc</th>\n",
       "      <th>...</th>\n",
       "      <th>mtap_mut</th>\n",
       "      <th>ppp2cb_mut</th>\n",
       "      <th>smarcd1_mut</th>\n",
       "      <th>nras_mut</th>\n",
       "      <th>ndfip1_mut</th>\n",
       "      <th>hras_mut</th>\n",
       "      <th>prps2_mut</th>\n",
       "      <th>smarcb1_mut</th>\n",
       "      <th>stmn2_mut</th>\n",
       "      <th>siah1_mut</th>\n",
       "    </tr>\n",
       "  </thead>\n",
       "  <tbody>\n",
       "    <tr>\n",
       "      <th>0</th>\n",
       "      <td>0</td>\n",
       "      <td>75.65</td>\n",
       "      <td>MASTECTOMY</td>\n",
       "      <td>Breast Cancer</td>\n",
       "      <td>Breast Invasive Ductal Carcinoma</td>\n",
       "      <td>NaN</td>\n",
       "      <td>0</td>\n",
       "      <td>claudin-low</td>\n",
       "      <td>1.0</td>\n",
       "      <td>Positve</td>\n",
       "      <td>...</td>\n",
       "      <td>0</td>\n",
       "      <td>0</td>\n",
       "      <td>0</td>\n",
       "      <td>0</td>\n",
       "      <td>0</td>\n",
       "      <td>0</td>\n",
       "      <td>0</td>\n",
       "      <td>0</td>\n",
       "      <td>0</td>\n",
       "      <td>0</td>\n",
       "    </tr>\n",
       "    <tr>\n",
       "      <th>1</th>\n",
       "      <td>2</td>\n",
       "      <td>43.19</td>\n",
       "      <td>BREAST CONSERVING</td>\n",
       "      <td>Breast Cancer</td>\n",
       "      <td>Breast Invasive Ductal Carcinoma</td>\n",
       "      <td>High</td>\n",
       "      <td>0</td>\n",
       "      <td>LumA</td>\n",
       "      <td>1.0</td>\n",
       "      <td>Positve</td>\n",
       "      <td>...</td>\n",
       "      <td>0</td>\n",
       "      <td>0</td>\n",
       "      <td>0</td>\n",
       "      <td>0</td>\n",
       "      <td>0</td>\n",
       "      <td>0</td>\n",
       "      <td>0</td>\n",
       "      <td>0</td>\n",
       "      <td>0</td>\n",
       "      <td>0</td>\n",
       "    </tr>\n",
       "    <tr>\n",
       "      <th>2</th>\n",
       "      <td>5</td>\n",
       "      <td>48.87</td>\n",
       "      <td>MASTECTOMY</td>\n",
       "      <td>Breast Cancer</td>\n",
       "      <td>Breast Invasive Ductal Carcinoma</td>\n",
       "      <td>High</td>\n",
       "      <td>1</td>\n",
       "      <td>LumB</td>\n",
       "      <td>1.0</td>\n",
       "      <td>Positve</td>\n",
       "      <td>...</td>\n",
       "      <td>0</td>\n",
       "      <td>0</td>\n",
       "      <td>0</td>\n",
       "      <td>0</td>\n",
       "      <td>0</td>\n",
       "      <td>0</td>\n",
       "      <td>0</td>\n",
       "      <td>0</td>\n",
       "      <td>0</td>\n",
       "      <td>0</td>\n",
       "    </tr>\n",
       "    <tr>\n",
       "      <th>3</th>\n",
       "      <td>6</td>\n",
       "      <td>47.68</td>\n",
       "      <td>MASTECTOMY</td>\n",
       "      <td>Breast Cancer</td>\n",
       "      <td>Breast Mixed Ductal and Lobular Carcinoma</td>\n",
       "      <td>Moderate</td>\n",
       "      <td>1</td>\n",
       "      <td>LumB</td>\n",
       "      <td>1.0</td>\n",
       "      <td>Positve</td>\n",
       "      <td>...</td>\n",
       "      <td>0</td>\n",
       "      <td>0</td>\n",
       "      <td>0</td>\n",
       "      <td>0</td>\n",
       "      <td>0</td>\n",
       "      <td>0</td>\n",
       "      <td>0</td>\n",
       "      <td>0</td>\n",
       "      <td>0</td>\n",
       "      <td>0</td>\n",
       "    </tr>\n",
       "    <tr>\n",
       "      <th>4</th>\n",
       "      <td>8</td>\n",
       "      <td>76.97</td>\n",
       "      <td>MASTECTOMY</td>\n",
       "      <td>Breast Cancer</td>\n",
       "      <td>Breast Mixed Ductal and Lobular Carcinoma</td>\n",
       "      <td>High</td>\n",
       "      <td>1</td>\n",
       "      <td>LumB</td>\n",
       "      <td>1.0</td>\n",
       "      <td>Positve</td>\n",
       "      <td>...</td>\n",
       "      <td>0</td>\n",
       "      <td>0</td>\n",
       "      <td>0</td>\n",
       "      <td>0</td>\n",
       "      <td>0</td>\n",
       "      <td>0</td>\n",
       "      <td>0</td>\n",
       "      <td>0</td>\n",
       "      <td>0</td>\n",
       "      <td>0</td>\n",
       "    </tr>\n",
       "  </tbody>\n",
       "</table>\n",
       "<p>5 rows × 693 columns</p>\n",
       "</div>"
      ],
      "text/plain": [
       "   patient_id  age_at_diagnosis type_of_breast_surgery    cancer_type  \\\n",
       "0           0             75.65             MASTECTOMY  Breast Cancer   \n",
       "1           2             43.19      BREAST CONSERVING  Breast Cancer   \n",
       "2           5             48.87             MASTECTOMY  Breast Cancer   \n",
       "3           6             47.68             MASTECTOMY  Breast Cancer   \n",
       "4           8             76.97             MASTECTOMY  Breast Cancer   \n",
       "\n",
       "                        cancer_type_detailed cellularity  chemotherapy  \\\n",
       "0           Breast Invasive Ductal Carcinoma         NaN             0   \n",
       "1           Breast Invasive Ductal Carcinoma        High             0   \n",
       "2           Breast Invasive Ductal Carcinoma        High             1   \n",
       "3  Breast Mixed Ductal and Lobular Carcinoma    Moderate             1   \n",
       "4  Breast Mixed Ductal and Lobular Carcinoma        High             1   \n",
       "\n",
       "  pam50_+_claudin-low_subtype  cohort er_status_measured_by_ihc  ... mtap_mut  \\\n",
       "0                 claudin-low     1.0                   Positve  ...        0   \n",
       "1                        LumA     1.0                   Positve  ...        0   \n",
       "2                        LumB     1.0                   Positve  ...        0   \n",
       "3                        LumB     1.0                   Positve  ...        0   \n",
       "4                        LumB     1.0                   Positve  ...        0   \n",
       "\n",
       "   ppp2cb_mut smarcd1_mut nras_mut ndfip1_mut  hras_mut prps2_mut smarcb1_mut  \\\n",
       "0           0           0        0          0         0         0           0   \n",
       "1           0           0        0          0         0         0           0   \n",
       "2           0           0        0          0         0         0           0   \n",
       "3           0           0        0          0         0         0           0   \n",
       "4           0           0        0          0         0         0           0   \n",
       "\n",
       "  stmn2_mut  siah1_mut  \n",
       "0         0          0  \n",
       "1         0          0  \n",
       "2         0          0  \n",
       "3         0          0  \n",
       "4         0          0  \n",
       "\n",
       "[5 rows x 693 columns]"
      ]
     },
     "execution_count": 2,
     "metadata": {},
     "output_type": "execute_result"
    }
   ],
   "source": [
    "# Abriendo archivo csv\n",
    "datos = pd.read_csv(\"METABRIC_RNA_Mutation.csv\")\n",
    "datos.head()"
   ]
  },
  {
   "cell_type": "markdown",
   "metadata": {
    "id": "jLZYaghd_inb"
   },
   "source": [
    "<h2> Primer paso: selección y explicación de variables </h2>\n",
    "<hr>\n",
    "<p>Inicialmente, se seleccionan las variables que se utilizarán y se analiza cada columna individualmente para determinar si tiene un significado coherente en el modelo que se vaya a realizar. Así, la contribución de cada columna es la siguiente:</p>\n",
    "<ul>\n",
    "    <li> <b> cancer_type_detailed:</b> Contiene la información específica del tipo de cáncer detectado.</li>\n",
    "    <li> <b> lymph_nodes_examined_positive:</b> Describe cuantos ganglios linfáticos han detectado células cancerosas. </li>\n",
    "    <li> <b> overall_survival:</b> si el paciente esta vivo o muerto. </li>\n",
    "    <li> <b> tumor_size: </b> tamaño del tumor en mm. </li>\n",
    "    <li> <b> chemotherapy: </b> Si el paciente fue tratado o no con quimioterapia. </li>\n",
    "    <li> <b>age_at_diagnosis: </b>\n",
    "</ul>"
   ]
  },
  {
   "cell_type": "code",
   "execution_count": 3,
   "metadata": {
    "colab": {
     "base_uri": "https://localhost:8080/",
     "height": 641
    },
    "id": "-Q-3UwiVIeA8",
    "outputId": "1c417694-0b83-4c8a-ef02-055509f232c7"
   },
   "outputs": [
    {
     "data": {
      "text/html": [
       "<div>\n",
       "<style scoped>\n",
       "    .dataframe tbody tr th:only-of-type {\n",
       "        vertical-align: middle;\n",
       "    }\n",
       "\n",
       "    .dataframe tbody tr th {\n",
       "        vertical-align: top;\n",
       "    }\n",
       "\n",
       "    .dataframe thead th {\n",
       "        text-align: right;\n",
       "    }\n",
       "</style>\n",
       "<table border=\"1\" class=\"dataframe\">\n",
       "  <thead>\n",
       "    <tr style=\"text-align: right;\">\n",
       "      <th></th>\n",
       "      <th>cancer_type_detailed</th>\n",
       "      <th>overall_survival</th>\n",
       "      <th>chemotherapy</th>\n",
       "      <th>tumor_size</th>\n",
       "      <th>overall_survival_months</th>\n",
       "      <th>lymph_nodes_examined_positive</th>\n",
       "      <th>age_at_diagnosis</th>\n",
       "      <th>nottingham_prognostic_index</th>\n",
       "      <th>lymph_nodes_examined_positive</th>\n",
       "    </tr>\n",
       "  </thead>\n",
       "  <tbody>\n",
       "    <tr>\n",
       "      <th>0</th>\n",
       "      <td>Breast Invasive Ductal Carcinoma</td>\n",
       "      <td>1</td>\n",
       "      <td>0</td>\n",
       "      <td>22.0</td>\n",
       "      <td>140.500000</td>\n",
       "      <td>10.0</td>\n",
       "      <td>75.65</td>\n",
       "      <td>6.044</td>\n",
       "      <td>10.0</td>\n",
       "    </tr>\n",
       "    <tr>\n",
       "      <th>1</th>\n",
       "      <td>Breast Invasive Ductal Carcinoma</td>\n",
       "      <td>1</td>\n",
       "      <td>0</td>\n",
       "      <td>10.0</td>\n",
       "      <td>84.633333</td>\n",
       "      <td>0.0</td>\n",
       "      <td>43.19</td>\n",
       "      <td>4.020</td>\n",
       "      <td>0.0</td>\n",
       "    </tr>\n",
       "    <tr>\n",
       "      <th>2</th>\n",
       "      <td>Breast Invasive Ductal Carcinoma</td>\n",
       "      <td>0</td>\n",
       "      <td>1</td>\n",
       "      <td>15.0</td>\n",
       "      <td>163.700000</td>\n",
       "      <td>1.0</td>\n",
       "      <td>48.87</td>\n",
       "      <td>4.030</td>\n",
       "      <td>1.0</td>\n",
       "    </tr>\n",
       "    <tr>\n",
       "      <th>3</th>\n",
       "      <td>Breast Mixed Ductal and Lobular Carcinoma</td>\n",
       "      <td>1</td>\n",
       "      <td>1</td>\n",
       "      <td>25.0</td>\n",
       "      <td>164.933333</td>\n",
       "      <td>3.0</td>\n",
       "      <td>47.68</td>\n",
       "      <td>4.050</td>\n",
       "      <td>3.0</td>\n",
       "    </tr>\n",
       "    <tr>\n",
       "      <th>4</th>\n",
       "      <td>Breast Mixed Ductal and Lobular Carcinoma</td>\n",
       "      <td>0</td>\n",
       "      <td>1</td>\n",
       "      <td>40.0</td>\n",
       "      <td>41.366667</td>\n",
       "      <td>8.0</td>\n",
       "      <td>76.97</td>\n",
       "      <td>6.080</td>\n",
       "      <td>8.0</td>\n",
       "    </tr>\n",
       "    <tr>\n",
       "      <th>...</th>\n",
       "      <td>...</td>\n",
       "      <td>...</td>\n",
       "      <td>...</td>\n",
       "      <td>...</td>\n",
       "      <td>...</td>\n",
       "      <td>...</td>\n",
       "      <td>...</td>\n",
       "      <td>...</td>\n",
       "      <td>...</td>\n",
       "    </tr>\n",
       "    <tr>\n",
       "      <th>1899</th>\n",
       "      <td>Breast Invasive Lobular Carcinoma</td>\n",
       "      <td>1</td>\n",
       "      <td>0</td>\n",
       "      <td>25.0</td>\n",
       "      <td>196.866667</td>\n",
       "      <td>1.0</td>\n",
       "      <td>43.10</td>\n",
       "      <td>5.050</td>\n",
       "      <td>1.0</td>\n",
       "    </tr>\n",
       "    <tr>\n",
       "      <th>1900</th>\n",
       "      <td>Breast Invasive Ductal Carcinoma</td>\n",
       "      <td>0</td>\n",
       "      <td>0</td>\n",
       "      <td>20.0</td>\n",
       "      <td>44.733333</td>\n",
       "      <td>1.0</td>\n",
       "      <td>42.88</td>\n",
       "      <td>5.040</td>\n",
       "      <td>1.0</td>\n",
       "    </tr>\n",
       "    <tr>\n",
       "      <th>1901</th>\n",
       "      <td>Breast Invasive Ductal Carcinoma</td>\n",
       "      <td>0</td>\n",
       "      <td>0</td>\n",
       "      <td>25.0</td>\n",
       "      <td>175.966667</td>\n",
       "      <td>45.0</td>\n",
       "      <td>62.90</td>\n",
       "      <td>6.050</td>\n",
       "      <td>45.0</td>\n",
       "    </tr>\n",
       "    <tr>\n",
       "      <th>1902</th>\n",
       "      <td>Breast Invasive Ductal Carcinoma</td>\n",
       "      <td>0</td>\n",
       "      <td>0</td>\n",
       "      <td>25.0</td>\n",
       "      <td>86.233333</td>\n",
       "      <td>12.0</td>\n",
       "      <td>61.16</td>\n",
       "      <td>5.050</td>\n",
       "      <td>12.0</td>\n",
       "    </tr>\n",
       "    <tr>\n",
       "      <th>1903</th>\n",
       "      <td>Breast Invasive Ductal Carcinoma</td>\n",
       "      <td>0</td>\n",
       "      <td>0</td>\n",
       "      <td>20.0</td>\n",
       "      <td>201.900000</td>\n",
       "      <td>1.0</td>\n",
       "      <td>60.02</td>\n",
       "      <td>5.040</td>\n",
       "      <td>1.0</td>\n",
       "    </tr>\n",
       "  </tbody>\n",
       "</table>\n",
       "<p>1904 rows × 9 columns</p>\n",
       "</div>"
      ],
      "text/plain": [
       "                           cancer_type_detailed  overall_survival  \\\n",
       "0              Breast Invasive Ductal Carcinoma                 1   \n",
       "1              Breast Invasive Ductal Carcinoma                 1   \n",
       "2              Breast Invasive Ductal Carcinoma                 0   \n",
       "3     Breast Mixed Ductal and Lobular Carcinoma                 1   \n",
       "4     Breast Mixed Ductal and Lobular Carcinoma                 0   \n",
       "...                                         ...               ...   \n",
       "1899          Breast Invasive Lobular Carcinoma                 1   \n",
       "1900           Breast Invasive Ductal Carcinoma                 0   \n",
       "1901           Breast Invasive Ductal Carcinoma                 0   \n",
       "1902           Breast Invasive Ductal Carcinoma                 0   \n",
       "1903           Breast Invasive Ductal Carcinoma                 0   \n",
       "\n",
       "      chemotherapy  tumor_size  overall_survival_months  \\\n",
       "0                0        22.0               140.500000   \n",
       "1                0        10.0                84.633333   \n",
       "2                1        15.0               163.700000   \n",
       "3                1        25.0               164.933333   \n",
       "4                1        40.0                41.366667   \n",
       "...            ...         ...                      ...   \n",
       "1899             0        25.0               196.866667   \n",
       "1900             0        20.0                44.733333   \n",
       "1901             0        25.0               175.966667   \n",
       "1902             0        25.0                86.233333   \n",
       "1903             0        20.0               201.900000   \n",
       "\n",
       "      lymph_nodes_examined_positive  age_at_diagnosis  \\\n",
       "0                              10.0             75.65   \n",
       "1                               0.0             43.19   \n",
       "2                               1.0             48.87   \n",
       "3                               3.0             47.68   \n",
       "4                               8.0             76.97   \n",
       "...                             ...               ...   \n",
       "1899                            1.0             43.10   \n",
       "1900                            1.0             42.88   \n",
       "1901                           45.0             62.90   \n",
       "1902                           12.0             61.16   \n",
       "1903                            1.0             60.02   \n",
       "\n",
       "      nottingham_prognostic_index  lymph_nodes_examined_positive  \n",
       "0                           6.044                           10.0  \n",
       "1                           4.020                            0.0  \n",
       "2                           4.030                            1.0  \n",
       "3                           4.050                            3.0  \n",
       "4                           6.080                            8.0  \n",
       "...                           ...                            ...  \n",
       "1899                        5.050                            1.0  \n",
       "1900                        5.040                            1.0  \n",
       "1901                        6.050                           45.0  \n",
       "1902                        5.050                           12.0  \n",
       "1903                        5.040                            1.0  \n",
       "\n",
       "[1904 rows x 9 columns]"
      ]
     },
     "execution_count": 3,
     "metadata": {},
     "output_type": "execute_result"
    }
   ],
   "source": [
    "# Tabla de las variables seleccionadas\n",
    "analisis = pd.DataFrame(datos, columns = [\"cancer_type_detailed\",\"overall_survival\", \"chemotherapy\",\"tumor_size\",\"overall_survival_months\",\n",
    "                                      \"lymph_nodes_examined_positive\",\"age_at_diagnosis\",\"nottingham_prognostic_index\",\"lymph_nodes_examined_positive\"])\n",
    "analisis"
   ]
  },
  {
   "cell_type": "code",
   "execution_count": 4,
   "metadata": {
    "colab": {
     "base_uri": "https://localhost:8080/"
    },
    "id": "S9sXF1EC-DcH",
    "outputId": "c50e7e46-ab30-4dab-a45f-38959b74c4e5"
   },
   "outputs": [
    {
     "name": "stdout",
     "output_type": "stream",
     "text": [
      "<class 'pandas.core.frame.DataFrame'>\n",
      "RangeIndex: 1904 entries, 0 to 1903\n",
      "Data columns (total 9 columns):\n",
      " #   Column                         Non-Null Count  Dtype  \n",
      "---  ------                         --------------  -----  \n",
      " 0   cancer_type_detailed           1889 non-null   object \n",
      " 1   overall_survival               1904 non-null   int64  \n",
      " 2   chemotherapy                   1904 non-null   int64  \n",
      " 3   tumor_size                     1884 non-null   float64\n",
      " 4   overall_survival_months        1904 non-null   float64\n",
      " 5   lymph_nodes_examined_positive  1904 non-null   float64\n",
      " 6   age_at_diagnosis               1904 non-null   float64\n",
      " 7   nottingham_prognostic_index    1904 non-null   float64\n",
      " 8   lymph_nodes_examined_positive  1904 non-null   float64\n",
      "dtypes: float64(6), int64(2), object(1)\n",
      "memory usage: 134.0+ KB\n"
     ]
    },
    {
     "data": {
      "text/plain": [
       "cancer_type_detailed             15\n",
       "overall_survival                  0\n",
       "chemotherapy                      0\n",
       "tumor_size                       20\n",
       "overall_survival_months           0\n",
       "lymph_nodes_examined_positive     0\n",
       "age_at_diagnosis                  0\n",
       "nottingham_prognostic_index       0\n",
       "lymph_nodes_examined_positive     0\n",
       "dtype: int64"
      ]
     },
     "execution_count": 4,
     "metadata": {},
     "output_type": "execute_result"
    }
   ],
   "source": [
    "analisis.info()\n",
    "analisis.isnull().sum()"
   ]
  },
  {
   "cell_type": "markdown",
   "metadata": {
    "id": "zxMrJ3Au_ind"
   },
   "source": [
    "<h2> Segundo paso </h2>\n",
    "<hr>\n",
    "<p> Ahora, se deben eliminar aquellos datos que no aporten a la base de datos, es decir, los valores nulos; ya que pueden generar errores en los diferentes parámetros estadísticos que se calculen como la mediana, el promedio, la media, entre otros.</p>\n",
    "<p> El propósito de la siguiente celda es eliminar aquellas filas cuyos valores <b>NO</b> nulos ocupen al menos un 80% de los datos, ya que consideramos que si faltan al menos dos datos de cada paciente, puede dificultar el diagnóstico del mismo. El resultado fue que se eliminaron 6 filas. Posteriormente, se rectificó que no hubiesen identificaciones duplicadas en la base de datos, ya que es el único dato irrepetible.</p>"
   ]
  },
  {
   "cell_type": "code",
   "execution_count": 5,
   "metadata": {
    "colab": {
     "base_uri": "https://localhost:8080/",
     "height": 641
    },
    "id": "5NpMGJNkvY4v",
    "outputId": "db777b9f-ddbe-4db6-f932-2a890a63c06d"
   },
   "outputs": [
    {
     "data": {
      "text/html": [
       "<div>\n",
       "<style scoped>\n",
       "    .dataframe tbody tr th:only-of-type {\n",
       "        vertical-align: middle;\n",
       "    }\n",
       "\n",
       "    .dataframe tbody tr th {\n",
       "        vertical-align: top;\n",
       "    }\n",
       "\n",
       "    .dataframe thead th {\n",
       "        text-align: right;\n",
       "    }\n",
       "</style>\n",
       "<table border=\"1\" class=\"dataframe\">\n",
       "  <thead>\n",
       "    <tr style=\"text-align: right;\">\n",
       "      <th></th>\n",
       "      <th>cancer_type_detailed</th>\n",
       "      <th>overall_survival</th>\n",
       "      <th>chemotherapy</th>\n",
       "      <th>tumor_size</th>\n",
       "      <th>overall_survival_months</th>\n",
       "      <th>lymph_nodes_examined_positive</th>\n",
       "      <th>age_at_diagnosis</th>\n",
       "      <th>nottingham_prognostic_index</th>\n",
       "      <th>lymph_nodes_examined_positive</th>\n",
       "    </tr>\n",
       "  </thead>\n",
       "  <tbody>\n",
       "    <tr>\n",
       "      <th>0</th>\n",
       "      <td>Breast Invasive Ductal Carcinoma</td>\n",
       "      <td>1</td>\n",
       "      <td>0</td>\n",
       "      <td>22.0</td>\n",
       "      <td>140.500000</td>\n",
       "      <td>10.0</td>\n",
       "      <td>75.65</td>\n",
       "      <td>6.044</td>\n",
       "      <td>10.0</td>\n",
       "    </tr>\n",
       "    <tr>\n",
       "      <th>1</th>\n",
       "      <td>Breast Invasive Ductal Carcinoma</td>\n",
       "      <td>1</td>\n",
       "      <td>0</td>\n",
       "      <td>10.0</td>\n",
       "      <td>84.633333</td>\n",
       "      <td>0.0</td>\n",
       "      <td>43.19</td>\n",
       "      <td>4.020</td>\n",
       "      <td>0.0</td>\n",
       "    </tr>\n",
       "    <tr>\n",
       "      <th>2</th>\n",
       "      <td>Breast Invasive Ductal Carcinoma</td>\n",
       "      <td>0</td>\n",
       "      <td>1</td>\n",
       "      <td>15.0</td>\n",
       "      <td>163.700000</td>\n",
       "      <td>1.0</td>\n",
       "      <td>48.87</td>\n",
       "      <td>4.030</td>\n",
       "      <td>1.0</td>\n",
       "    </tr>\n",
       "    <tr>\n",
       "      <th>3</th>\n",
       "      <td>Breast Mixed Ductal and Lobular Carcinoma</td>\n",
       "      <td>1</td>\n",
       "      <td>1</td>\n",
       "      <td>25.0</td>\n",
       "      <td>164.933333</td>\n",
       "      <td>3.0</td>\n",
       "      <td>47.68</td>\n",
       "      <td>4.050</td>\n",
       "      <td>3.0</td>\n",
       "    </tr>\n",
       "    <tr>\n",
       "      <th>4</th>\n",
       "      <td>Breast Mixed Ductal and Lobular Carcinoma</td>\n",
       "      <td>0</td>\n",
       "      <td>1</td>\n",
       "      <td>40.0</td>\n",
       "      <td>41.366667</td>\n",
       "      <td>8.0</td>\n",
       "      <td>76.97</td>\n",
       "      <td>6.080</td>\n",
       "      <td>8.0</td>\n",
       "    </tr>\n",
       "    <tr>\n",
       "      <th>...</th>\n",
       "      <td>...</td>\n",
       "      <td>...</td>\n",
       "      <td>...</td>\n",
       "      <td>...</td>\n",
       "      <td>...</td>\n",
       "      <td>...</td>\n",
       "      <td>...</td>\n",
       "      <td>...</td>\n",
       "      <td>...</td>\n",
       "    </tr>\n",
       "    <tr>\n",
       "      <th>1899</th>\n",
       "      <td>Breast Invasive Lobular Carcinoma</td>\n",
       "      <td>1</td>\n",
       "      <td>0</td>\n",
       "      <td>25.0</td>\n",
       "      <td>196.866667</td>\n",
       "      <td>1.0</td>\n",
       "      <td>43.10</td>\n",
       "      <td>5.050</td>\n",
       "      <td>1.0</td>\n",
       "    </tr>\n",
       "    <tr>\n",
       "      <th>1900</th>\n",
       "      <td>Breast Invasive Ductal Carcinoma</td>\n",
       "      <td>0</td>\n",
       "      <td>0</td>\n",
       "      <td>20.0</td>\n",
       "      <td>44.733333</td>\n",
       "      <td>1.0</td>\n",
       "      <td>42.88</td>\n",
       "      <td>5.040</td>\n",
       "      <td>1.0</td>\n",
       "    </tr>\n",
       "    <tr>\n",
       "      <th>1901</th>\n",
       "      <td>Breast Invasive Ductal Carcinoma</td>\n",
       "      <td>0</td>\n",
       "      <td>0</td>\n",
       "      <td>25.0</td>\n",
       "      <td>175.966667</td>\n",
       "      <td>45.0</td>\n",
       "      <td>62.90</td>\n",
       "      <td>6.050</td>\n",
       "      <td>45.0</td>\n",
       "    </tr>\n",
       "    <tr>\n",
       "      <th>1902</th>\n",
       "      <td>Breast Invasive Ductal Carcinoma</td>\n",
       "      <td>0</td>\n",
       "      <td>0</td>\n",
       "      <td>25.0</td>\n",
       "      <td>86.233333</td>\n",
       "      <td>12.0</td>\n",
       "      <td>61.16</td>\n",
       "      <td>5.050</td>\n",
       "      <td>12.0</td>\n",
       "    </tr>\n",
       "    <tr>\n",
       "      <th>1903</th>\n",
       "      <td>Breast Invasive Ductal Carcinoma</td>\n",
       "      <td>0</td>\n",
       "      <td>0</td>\n",
       "      <td>20.0</td>\n",
       "      <td>201.900000</td>\n",
       "      <td>1.0</td>\n",
       "      <td>60.02</td>\n",
       "      <td>5.040</td>\n",
       "      <td>1.0</td>\n",
       "    </tr>\n",
       "  </tbody>\n",
       "</table>\n",
       "<p>1903 rows × 9 columns</p>\n",
       "</div>"
      ],
      "text/plain": [
       "                           cancer_type_detailed  overall_survival  \\\n",
       "0              Breast Invasive Ductal Carcinoma                 1   \n",
       "1              Breast Invasive Ductal Carcinoma                 1   \n",
       "2              Breast Invasive Ductal Carcinoma                 0   \n",
       "3     Breast Mixed Ductal and Lobular Carcinoma                 1   \n",
       "4     Breast Mixed Ductal and Lobular Carcinoma                 0   \n",
       "...                                         ...               ...   \n",
       "1899          Breast Invasive Lobular Carcinoma                 1   \n",
       "1900           Breast Invasive Ductal Carcinoma                 0   \n",
       "1901           Breast Invasive Ductal Carcinoma                 0   \n",
       "1902           Breast Invasive Ductal Carcinoma                 0   \n",
       "1903           Breast Invasive Ductal Carcinoma                 0   \n",
       "\n",
       "      chemotherapy  tumor_size  overall_survival_months  \\\n",
       "0                0        22.0               140.500000   \n",
       "1                0        10.0                84.633333   \n",
       "2                1        15.0               163.700000   \n",
       "3                1        25.0               164.933333   \n",
       "4                1        40.0                41.366667   \n",
       "...            ...         ...                      ...   \n",
       "1899             0        25.0               196.866667   \n",
       "1900             0        20.0                44.733333   \n",
       "1901             0        25.0               175.966667   \n",
       "1902             0        25.0                86.233333   \n",
       "1903             0        20.0               201.900000   \n",
       "\n",
       "      lymph_nodes_examined_positive  age_at_diagnosis  \\\n",
       "0                              10.0             75.65   \n",
       "1                               0.0             43.19   \n",
       "2                               1.0             48.87   \n",
       "3                               3.0             47.68   \n",
       "4                               8.0             76.97   \n",
       "...                             ...               ...   \n",
       "1899                            1.0             43.10   \n",
       "1900                            1.0             42.88   \n",
       "1901                           45.0             62.90   \n",
       "1902                           12.0             61.16   \n",
       "1903                            1.0             60.02   \n",
       "\n",
       "      nottingham_prognostic_index  lymph_nodes_examined_positive  \n",
       "0                           6.044                           10.0  \n",
       "1                           4.020                            0.0  \n",
       "2                           4.030                            1.0  \n",
       "3                           4.050                            3.0  \n",
       "4                           6.080                            8.0  \n",
       "...                           ...                            ...  \n",
       "1899                        5.050                            1.0  \n",
       "1900                        5.040                            1.0  \n",
       "1901                        6.050                           45.0  \n",
       "1902                        5.050                           12.0  \n",
       "1903                        5.040                            1.0  \n",
       "\n",
       "[1903 rows x 9 columns]"
      ]
     },
     "execution_count": 5,
     "metadata": {},
     "output_type": "execute_result"
    }
   ],
   "source": [
    "# Porcentaje de valores no nulos para la limpieza\n",
    "porcentaje = 0.8\n",
    "\n",
    "# Eliminación de valores nulos con cierto umbral\n",
    "limpieza_1 = analisis.dropna(thresh = porcentaje*len(analisis.columns))\n",
    "limpieza_1 = limpieza_1.dropna(thresh = porcentaje*len(analisis), axis = 1)\n",
    "limpieza_1"
   ]
  },
  {
   "cell_type": "code",
   "execution_count": 6,
   "metadata": {},
   "outputs": [],
   "source": [
    "def var_str(Dataframe, columna):\n",
    "    Valores_unicos = Dataframe[columna].unique()\n",
    "    for i in range(len(Valores_unicos)):\n",
    "        print(Valores_unicos[i], \"=\", i)"
   ]
  },
  {
   "cell_type": "code",
   "execution_count": 7,
   "metadata": {
    "colab": {
     "base_uri": "https://localhost:8080/",
     "height": 471
    },
    "id": "SeFCLM_fxGff",
    "outputId": "83af381a-a577-4a39-e10f-7e0dd8cbc34e"
   },
   "outputs": [
    {
     "name": "stdout",
     "output_type": "stream",
     "text": [
      "Breast Invasive Ductal Carcinoma = 0\n",
      "Breast Mixed Ductal and Lobular Carcinoma = 1\n",
      "Breast Invasive Lobular Carcinoma = 2\n",
      "Breast Invasive Mixed Mucinous Carcinoma = 3\n",
      "Breast = 4\n",
      "nan = 5\n",
      "Metaplastic Breast Cancer = 6\n"
     ]
    },
    {
     "data": {
      "text/html": [
       "<div>\n",
       "<style scoped>\n",
       "    .dataframe tbody tr th:only-of-type {\n",
       "        vertical-align: middle;\n",
       "    }\n",
       "\n",
       "    .dataframe tbody tr th {\n",
       "        vertical-align: top;\n",
       "    }\n",
       "\n",
       "    .dataframe thead th {\n",
       "        text-align: right;\n",
       "    }\n",
       "</style>\n",
       "<table border=\"1\" class=\"dataframe\">\n",
       "  <thead>\n",
       "    <tr style=\"text-align: right;\">\n",
       "      <th></th>\n",
       "      <th>overall_survival</th>\n",
       "      <th>chemotherapy</th>\n",
       "      <th>tumor_size</th>\n",
       "      <th>overall_survival_months</th>\n",
       "      <th>lymph_nodes_examined_positive</th>\n",
       "      <th>age_at_diagnosis</th>\n",
       "      <th>nottingham_prognostic_index</th>\n",
       "      <th>lymph_nodes_examined_positive</th>\n",
       "      <th>cancer_type_detailed</th>\n",
       "    </tr>\n",
       "  </thead>\n",
       "  <tbody>\n",
       "    <tr>\n",
       "      <th>0</th>\n",
       "      <td>1</td>\n",
       "      <td>0</td>\n",
       "      <td>22.0</td>\n",
       "      <td>140.500000</td>\n",
       "      <td>10.0</td>\n",
       "      <td>75.65</td>\n",
       "      <td>6.044</td>\n",
       "      <td>10.0</td>\n",
       "      <td>1.0</td>\n",
       "    </tr>\n",
       "    <tr>\n",
       "      <th>1</th>\n",
       "      <td>1</td>\n",
       "      <td>0</td>\n",
       "      <td>10.0</td>\n",
       "      <td>84.633333</td>\n",
       "      <td>0.0</td>\n",
       "      <td>43.19</td>\n",
       "      <td>4.020</td>\n",
       "      <td>0.0</td>\n",
       "      <td>1.0</td>\n",
       "    </tr>\n",
       "    <tr>\n",
       "      <th>2</th>\n",
       "      <td>0</td>\n",
       "      <td>1</td>\n",
       "      <td>15.0</td>\n",
       "      <td>163.700000</td>\n",
       "      <td>1.0</td>\n",
       "      <td>48.87</td>\n",
       "      <td>4.030</td>\n",
       "      <td>1.0</td>\n",
       "      <td>1.0</td>\n",
       "    </tr>\n",
       "    <tr>\n",
       "      <th>3</th>\n",
       "      <td>1</td>\n",
       "      <td>1</td>\n",
       "      <td>25.0</td>\n",
       "      <td>164.933333</td>\n",
       "      <td>3.0</td>\n",
       "      <td>47.68</td>\n",
       "      <td>4.050</td>\n",
       "      <td>3.0</td>\n",
       "      <td>4.0</td>\n",
       "    </tr>\n",
       "    <tr>\n",
       "      <th>4</th>\n",
       "      <td>0</td>\n",
       "      <td>1</td>\n",
       "      <td>40.0</td>\n",
       "      <td>41.366667</td>\n",
       "      <td>8.0</td>\n",
       "      <td>76.97</td>\n",
       "      <td>6.080</td>\n",
       "      <td>8.0</td>\n",
       "      <td>4.0</td>\n",
       "    </tr>\n",
       "    <tr>\n",
       "      <th>...</th>\n",
       "      <td>...</td>\n",
       "      <td>...</td>\n",
       "      <td>...</td>\n",
       "      <td>...</td>\n",
       "      <td>...</td>\n",
       "      <td>...</td>\n",
       "      <td>...</td>\n",
       "      <td>...</td>\n",
       "      <td>...</td>\n",
       "    </tr>\n",
       "    <tr>\n",
       "      <th>1899</th>\n",
       "      <td>1</td>\n",
       "      <td>0</td>\n",
       "      <td>25.0</td>\n",
       "      <td>196.866667</td>\n",
       "      <td>1.0</td>\n",
       "      <td>43.10</td>\n",
       "      <td>5.050</td>\n",
       "      <td>1.0</td>\n",
       "      <td>2.0</td>\n",
       "    </tr>\n",
       "    <tr>\n",
       "      <th>1900</th>\n",
       "      <td>0</td>\n",
       "      <td>0</td>\n",
       "      <td>20.0</td>\n",
       "      <td>44.733333</td>\n",
       "      <td>1.0</td>\n",
       "      <td>42.88</td>\n",
       "      <td>5.040</td>\n",
       "      <td>1.0</td>\n",
       "      <td>1.0</td>\n",
       "    </tr>\n",
       "    <tr>\n",
       "      <th>1901</th>\n",
       "      <td>0</td>\n",
       "      <td>0</td>\n",
       "      <td>25.0</td>\n",
       "      <td>175.966667</td>\n",
       "      <td>45.0</td>\n",
       "      <td>62.90</td>\n",
       "      <td>6.050</td>\n",
       "      <td>45.0</td>\n",
       "      <td>1.0</td>\n",
       "    </tr>\n",
       "    <tr>\n",
       "      <th>1902</th>\n",
       "      <td>0</td>\n",
       "      <td>0</td>\n",
       "      <td>25.0</td>\n",
       "      <td>86.233333</td>\n",
       "      <td>12.0</td>\n",
       "      <td>61.16</td>\n",
       "      <td>5.050</td>\n",
       "      <td>12.0</td>\n",
       "      <td>1.0</td>\n",
       "    </tr>\n",
       "    <tr>\n",
       "      <th>1903</th>\n",
       "      <td>0</td>\n",
       "      <td>0</td>\n",
       "      <td>20.0</td>\n",
       "      <td>201.900000</td>\n",
       "      <td>1.0</td>\n",
       "      <td>60.02</td>\n",
       "      <td>5.040</td>\n",
       "      <td>1.0</td>\n",
       "      <td>1.0</td>\n",
       "    </tr>\n",
       "  </tbody>\n",
       "</table>\n",
       "<p>1903 rows × 9 columns</p>\n",
       "</div>"
      ],
      "text/plain": [
       "      overall_survival  chemotherapy  tumor_size  overall_survival_months  \\\n",
       "0                    1             0        22.0               140.500000   \n",
       "1                    1             0        10.0                84.633333   \n",
       "2                    0             1        15.0               163.700000   \n",
       "3                    1             1        25.0               164.933333   \n",
       "4                    0             1        40.0                41.366667   \n",
       "...                ...           ...         ...                      ...   \n",
       "1899                 1             0        25.0               196.866667   \n",
       "1900                 0             0        20.0                44.733333   \n",
       "1901                 0             0        25.0               175.966667   \n",
       "1902                 0             0        25.0                86.233333   \n",
       "1903                 0             0        20.0               201.900000   \n",
       "\n",
       "      lymph_nodes_examined_positive  age_at_diagnosis  \\\n",
       "0                              10.0             75.65   \n",
       "1                               0.0             43.19   \n",
       "2                               1.0             48.87   \n",
       "3                               3.0             47.68   \n",
       "4                               8.0             76.97   \n",
       "...                             ...               ...   \n",
       "1899                            1.0             43.10   \n",
       "1900                            1.0             42.88   \n",
       "1901                           45.0             62.90   \n",
       "1902                           12.0             61.16   \n",
       "1903                            1.0             60.02   \n",
       "\n",
       "      nottingham_prognostic_index  lymph_nodes_examined_positive  \\\n",
       "0                           6.044                           10.0   \n",
       "1                           4.020                            0.0   \n",
       "2                           4.030                            1.0   \n",
       "3                           4.050                            3.0   \n",
       "4                           6.080                            8.0   \n",
       "...                           ...                            ...   \n",
       "1899                        5.050                            1.0   \n",
       "1900                        5.040                            1.0   \n",
       "1901                        6.050                           45.0   \n",
       "1902                        5.050                           12.0   \n",
       "1903                        5.040                            1.0   \n",
       "\n",
       "      cancer_type_detailed  \n",
       "0                      1.0  \n",
       "1                      1.0  \n",
       "2                      1.0  \n",
       "3                      4.0  \n",
       "4                      4.0  \n",
       "...                    ...  \n",
       "1899                   2.0  \n",
       "1900                   1.0  \n",
       "1901                   1.0  \n",
       "1902                   1.0  \n",
       "1903                   1.0  \n",
       "\n",
       "[1903 rows x 9 columns]"
      ]
     },
     "execution_count": 7,
     "metadata": {},
     "output_type": "execute_result"
    }
   ],
   "source": [
    "# Planteamiento de ecuación\n",
    "# ===============================================================================================\n",
    "from sklearn import preprocessing\n",
    "\n",
    "# Creación de vector de variable dependiente\n",
    "var_dep = \"overall_survival\"\n",
    "y = limpieza_1.loc[:, var_dep]\n",
    "\n",
    "# Variables categóricas\n",
    "var_str(limpieza_1, \"cancer_type_detailed\")\n",
    "analisis1 = limpieza_1.drop([\"cancer_type_detailed\"], axis = 1)\n",
    "encoder = preprocessing.LabelEncoder()\n",
    "analisis1[\"cancer_type_detailed\"] = encoder.fit_transform(limpieza_1.cancer_type_detailed.values)\n",
    "analisis1.cancer_type_detailed.replace({5: np.nan}, inplace = True)\n",
    "\n",
    "analisis1"
   ]
  },
  {
   "cell_type": "code",
   "execution_count": 8,
   "metadata": {},
   "outputs": [
    {
     "data": {
      "text/plain": [
       "overall_survival                  0\n",
       "chemotherapy                      0\n",
       "tumor_size                       19\n",
       "overall_survival_months           0\n",
       "lymph_nodes_examined_positive     0\n",
       "age_at_diagnosis                  0\n",
       "nottingham_prognostic_index       0\n",
       "lymph_nodes_examined_positive     0\n",
       "cancer_type_detailed              1\n",
       "dtype: int64"
      ]
     },
     "execution_count": 8,
     "metadata": {},
     "output_type": "execute_result"
    }
   ],
   "source": [
    "analisis1.isnull().sum()"
   ]
  },
  {
   "cell_type": "code",
   "execution_count": 9,
   "metadata": {},
   "outputs": [
    {
     "data": {
      "text/html": [
       "<div>\n",
       "<style scoped>\n",
       "    .dataframe tbody tr th:only-of-type {\n",
       "        vertical-align: middle;\n",
       "    }\n",
       "\n",
       "    .dataframe tbody tr th {\n",
       "        vertical-align: top;\n",
       "    }\n",
       "\n",
       "    .dataframe thead th {\n",
       "        text-align: right;\n",
       "    }\n",
       "</style>\n",
       "<table border=\"1\" class=\"dataframe\">\n",
       "  <thead>\n",
       "    <tr style=\"text-align: right;\">\n",
       "      <th></th>\n",
       "      <th>overall_survival</th>\n",
       "      <th>chemotherapy</th>\n",
       "      <th>tumor_size</th>\n",
       "      <th>overall_survival_months</th>\n",
       "      <th>lymph_nodes_examined_positive</th>\n",
       "      <th>age_at_diagnosis</th>\n",
       "      <th>nottingham_prognostic_index</th>\n",
       "      <th>lymph_nodes_examined_positive</th>\n",
       "      <th>cancer_type_detailed</th>\n",
       "    </tr>\n",
       "  </thead>\n",
       "  <tbody>\n",
       "    <tr>\n",
       "      <th>0</th>\n",
       "      <td>1.0</td>\n",
       "      <td>0.0</td>\n",
       "      <td>0.116022</td>\n",
       "      <td>0.395552</td>\n",
       "      <td>0.222222</td>\n",
       "      <td>0.722431</td>\n",
       "      <td>0.941045</td>\n",
       "      <td>0.222222</td>\n",
       "      <td>0.166667</td>\n",
       "    </tr>\n",
       "    <tr>\n",
       "      <th>1</th>\n",
       "      <td>1.0</td>\n",
       "      <td>0.0</td>\n",
       "      <td>0.049724</td>\n",
       "      <td>0.238270</td>\n",
       "      <td>0.000000</td>\n",
       "      <td>0.285906</td>\n",
       "      <td>0.563433</td>\n",
       "      <td>0.000000</td>\n",
       "      <td>0.166667</td>\n",
       "    </tr>\n",
       "    <tr>\n",
       "      <th>2</th>\n",
       "      <td>0.0</td>\n",
       "      <td>1.0</td>\n",
       "      <td>0.077348</td>\n",
       "      <td>0.460867</td>\n",
       "      <td>0.022222</td>\n",
       "      <td>0.362292</td>\n",
       "      <td>0.565299</td>\n",
       "      <td>0.022222</td>\n",
       "      <td>0.166667</td>\n",
       "    </tr>\n",
       "    <tr>\n",
       "      <th>3</th>\n",
       "      <td>1.0</td>\n",
       "      <td>1.0</td>\n",
       "      <td>0.132597</td>\n",
       "      <td>0.464339</td>\n",
       "      <td>0.066667</td>\n",
       "      <td>0.346288</td>\n",
       "      <td>0.569030</td>\n",
       "      <td>0.066667</td>\n",
       "      <td>0.666667</td>\n",
       "    </tr>\n",
       "    <tr>\n",
       "      <th>4</th>\n",
       "      <td>0.0</td>\n",
       "      <td>1.0</td>\n",
       "      <td>0.215470</td>\n",
       "      <td>0.116460</td>\n",
       "      <td>0.177778</td>\n",
       "      <td>0.740183</td>\n",
       "      <td>0.947761</td>\n",
       "      <td>0.177778</td>\n",
       "      <td>0.666667</td>\n",
       "    </tr>\n",
       "  </tbody>\n",
       "</table>\n",
       "</div>"
      ],
      "text/plain": [
       "   overall_survival  chemotherapy  tumor_size  overall_survival_months  \\\n",
       "0               1.0           0.0    0.116022                 0.395552   \n",
       "1               1.0           0.0    0.049724                 0.238270   \n",
       "2               0.0           1.0    0.077348                 0.460867   \n",
       "3               1.0           1.0    0.132597                 0.464339   \n",
       "4               0.0           1.0    0.215470                 0.116460   \n",
       "\n",
       "   lymph_nodes_examined_positive  age_at_diagnosis  \\\n",
       "0                       0.222222          0.722431   \n",
       "1                       0.000000          0.285906   \n",
       "2                       0.022222          0.362292   \n",
       "3                       0.066667          0.346288   \n",
       "4                       0.177778          0.740183   \n",
       "\n",
       "   nottingham_prognostic_index  lymph_nodes_examined_positive  \\\n",
       "0                     0.941045                       0.222222   \n",
       "1                     0.563433                       0.000000   \n",
       "2                     0.565299                       0.022222   \n",
       "3                     0.569030                       0.066667   \n",
       "4                     0.947761                       0.177778   \n",
       "\n",
       "   cancer_type_detailed  \n",
       "0              0.166667  \n",
       "1              0.166667  \n",
       "2              0.166667  \n",
       "3              0.666667  \n",
       "4              0.666667  "
      ]
     },
     "execution_count": 9,
     "metadata": {},
     "output_type": "execute_result"
    }
   ],
   "source": [
    "#prediciendo datos nulos con vecinos cercanos, para ellos se normalizan los datos de 0 a 1\n",
    "from sklearn.preprocessing import MinMaxScaler\n",
    "\n",
    "scaler = MinMaxScaler()\n",
    "df = pd.DataFrame(scaler.fit_transform(analisis1), columns = analisis1.columns)\n",
    "df.head()\n"
   ]
  },
  {
   "cell_type": "code",
   "execution_count": 10,
   "metadata": {},
   "outputs": [
    {
     "data": {
      "text/plain": [
       "overall_survival                 0\n",
       "chemotherapy                     0\n",
       "tumor_size                       0\n",
       "overall_survival_months          0\n",
       "lymph_nodes_examined_positive    0\n",
       "age_at_diagnosis                 0\n",
       "nottingham_prognostic_index      0\n",
       "lymph_nodes_examined_positive    0\n",
       "cancer_type_detailed             0\n",
       "dtype: int64"
      ]
     },
     "execution_count": 10,
     "metadata": {},
     "output_type": "execute_result"
    }
   ],
   "source": [
    "from sklearn.impute import KNNImputer\n",
    "imputer = KNNImputer(n_neighbors=500)\n",
    "df1 = pd.DataFrame(imputer.fit_transform(df),columns = df.columns)\n",
    "df1.isna().sum()"
   ]
  },
  {
   "cell_type": "code",
   "execution_count": 11,
   "metadata": {},
   "outputs": [
    {
     "data": {
      "text/html": [
       "<div>\n",
       "<style scoped>\n",
       "    .dataframe tbody tr th:only-of-type {\n",
       "        vertical-align: middle;\n",
       "    }\n",
       "\n",
       "    .dataframe tbody tr th {\n",
       "        vertical-align: top;\n",
       "    }\n",
       "\n",
       "    .dataframe thead th {\n",
       "        text-align: right;\n",
       "    }\n",
       "</style>\n",
       "<table border=\"1\" class=\"dataframe\">\n",
       "  <thead>\n",
       "    <tr style=\"text-align: right;\">\n",
       "      <th></th>\n",
       "      <th>0</th>\n",
       "      <th>1</th>\n",
       "    </tr>\n",
       "  </thead>\n",
       "  <tbody>\n",
       "    <tr>\n",
       "      <th>overall_survival</th>\n",
       "      <td>1103</td>\n",
       "      <td>801</td>\n",
       "    </tr>\n",
       "  </tbody>\n",
       "</table>\n",
       "</div>"
      ],
      "text/plain": [
       "                     0    1\n",
       "overall_survival  1103  801"
      ]
     },
     "execution_count": 11,
     "metadata": {},
     "output_type": "execute_result"
    }
   ],
   "source": [
    "analisis['overall_survival'].value_counts().to_frame().T\n"
   ]
  },
  {
   "cell_type": "code",
   "execution_count": 12,
   "metadata": {},
   "outputs": [
    {
     "data": {
      "text/plain": [
       "Text(0, 0.5, 'cantidad de datos')"
      ]
     },
     "execution_count": 12,
     "metadata": {},
     "output_type": "execute_result"
    },
    {
     "data": {
      "image/png": "[encoded data removed]",
      "text/plain": [
       "<Figure size 640x480 with 1 Axes>"
      ]
     },
     "metadata": {},
     "output_type": "display_data"
    }
   ],
   "source": [
    "analisis['overall_survival'].value_counts().plot(kind='bar')\n",
    "plt.xlabel(\"Supervivencia\")\n",
    "plt.ylabel(\"cantidad de datos\")"
   ]
  },
  {
   "cell_type": "code",
   "execution_count": 13,
   "metadata": {},
   "outputs": [
    {
     "data": {
      "text/plain": [
       "array([1., 1., 0., ..., 0., 0., 0.])"
      ]
     },
     "execution_count": 13,
     "metadata": {},
     "output_type": "execute_result"
    }
   ],
   "source": [
    "###modelo maquna soporte vectorial\n",
    "X= df1.drop(\"overall_survival\", axis=1).values\n",
    "\n",
    "\n",
    "y = df1[\"overall_survival\"].values\n",
    "y"
   ]
  },
  {
   "cell_type": "code",
   "execution_count": 53,
   "metadata": {},
   "outputs": [],
   "source": [
    "#creando datos de entrenamiento y de prueba\n",
    "#Dividamos nuestros datos utilizando el 80 % para entrenamiento y el 20 % restante para pruebas.\n",
    "X_train, X_test, y_train, y_test=train_test_split(X,y, test_size=0.2, random_state=20) \n"
   ]
  },
  {
   "cell_type": "code",
   "execution_count": 54,
   "metadata": {},
   "outputs": [
    {
     "name": "stdout",
     "output_type": "stream",
     "text": [
      "The size of our training \"X\" (input features) is (1522, 8)\n",
      "\n",
      "\n",
      "The size of our testing \"X\" (input features) is (381, 8)\n",
      "\n",
      "\n",
      "The size of our training \"y\" (output feature) is (1522,)\n",
      "\n",
      "\n",
      "The size of our testing \"y\" (output features) is (381,)\n"
     ]
    }
   ],
   "source": [
    "print ('The size of our training \"X\" (input features) is', X_train.shape)\n",
    "print ('\\n')\n",
    "print ('The size of our testing \"X\" (input features) is', X_test.shape)\n",
    "print ('\\n')\n",
    "print ('The size of our training \"y\" (output feature) is', y_train.shape)\n",
    "print ('\\n')\n",
    "print ('The size of our testing \"y\" (output features) is', y_test.shape)"
   ]
  },
  {
   "cell_type": "code",
   "execution_count": 55,
   "metadata": {},
   "outputs": [],
   "source": [
    "svc_model = SVC()"
   ]
  },
  {
   "cell_type": "code",
   "execution_count": 56,
   "metadata": {
    "colab": {
     "base_uri": "https://localhost:8080/"
    },
    "id": "Os4DaoXNJd9h",
    "outputId": "e8c391b6-adcc-40fe-dfb5-979e8d1ae4c3"
   },
   "outputs": [
    {
     "data": {
      "text/html": [
       "<style>#sk-container-id-5 {color: black;background-color: white;}#sk-container-id-5 pre{padding: 0;}#sk-container-id-5 div.sk-toggleable {background-color: white;}#sk-container-id-5 label.sk-toggleable__label {cursor: pointer;display: block;width: 100%;margin-bottom: 0;padding: 0.3em;box-sizing: border-box;text-align: center;}#sk-container-id-5 label.sk-toggleable__label-arrow:before {content: \"▸\";float: left;margin-right: 0.25em;color: #696969;}#sk-container-id-5 label.sk-toggleable__label-arrow:hover:before {color: black;}#sk-container-id-5 div.sk-estimator:hover label.sk-toggleable__label-arrow:before {color: black;}#sk-container-id-5 div.sk-toggleable__content {max-height: 0;max-width: 0;overflow: hidden;text-align: left;background-color: #f0f8ff;}#sk-container-id-5 div.sk-toggleable__content pre {margin: 0.2em;color: black;border-radius: 0.25em;background-color: #f0f8ff;}#sk-container-id-5 input.sk-toggleable__control:checked~div.sk-toggleable__content {max-height: 200px;max-width: 100%;overflow: auto;}#sk-container-id-5 input.sk-toggleable__control:checked~label.sk-toggleable__label-arrow:before {content: \"▾\";}#sk-container-id-5 div.sk-estimator input.sk-toggleable__control:checked~label.sk-toggleable__label {background-color: #d4ebff;}#sk-container-id-5 div.sk-label input.sk-toggleable__control:checked~label.sk-toggleable__label {background-color: #d4ebff;}#sk-container-id-5 input.sk-hidden--visually {border: 0;clip: rect(1px 1px 1px 1px);clip: rect(1px, 1px, 1px, 1px);height: 1px;margin: -1px;overflow: hidden;padding: 0;position: absolute;width: 1px;}#sk-container-id-5 div.sk-estimator {font-family: monospace;background-color: #f0f8ff;border: 1px dotted black;border-radius: 0.25em;box-sizing: border-box;margin-bottom: 0.5em;}#sk-container-id-5 div.sk-estimator:hover {background-color: #d4ebff;}#sk-container-id-5 div.sk-parallel-item::after {content: \"\";width: 100%;border-bottom: 1px solid gray;flex-grow: 1;}#sk-container-id-5 div.sk-label:hover label.sk-toggleable__label {background-color: #d4ebff;}#sk-container-id-5 div.sk-serial::before {content: \"\";position: absolute;border-left: 1px solid gray;box-sizing: border-box;top: 0;bottom: 0;left: 50%;z-index: 0;}#sk-container-id-5 div.sk-serial {display: flex;flex-direction: column;align-items: center;background-color: white;padding-right: 0.2em;padding-left: 0.2em;position: relative;}#sk-container-id-5 div.sk-item {position: relative;z-index: 1;}#sk-container-id-5 div.sk-parallel {display: flex;align-items: stretch;justify-content: center;background-color: white;position: relative;}#sk-container-id-5 div.sk-item::before, #sk-container-id-5 div.sk-parallel-item::before {content: \"\";position: absolute;border-left: 1px solid gray;box-sizing: border-box;top: 0;bottom: 0;left: 50%;z-index: -1;}#sk-container-id-5 div.sk-parallel-item {display: flex;flex-direction: column;z-index: 1;position: relative;background-color: white;}#sk-container-id-5 div.sk-parallel-item:first-child::after {align-self: flex-end;width: 50%;}#sk-container-id-5 div.sk-parallel-item:last-child::after {align-self: flex-start;width: 50%;}#sk-container-id-5 div.sk-parallel-item:only-child::after {width: 0;}#sk-container-id-5 div.sk-dashed-wrapped {border: 1px dashed gray;margin: 0 0.4em 0.5em 0.4em;box-sizing: border-box;padding-bottom: 0.4em;background-color: white;}#sk-container-id-5 div.sk-label label {font-family: monospace;font-weight: bold;display: inline-block;line-height: 1.2em;}#sk-container-id-5 div.sk-label-container {text-align: center;}#sk-container-id-5 div.sk-container {/* jupyter's `normalize.less` sets `[hidden] { display: none; }` but bootstrap.min.css set `[hidden] { display: none !important; }` so we also need the `!important` here to be able to override the default hidden behavior on the sphinx rendered scikit-learn.org. See: https://github.com/scikit-learn/scikit-learn/issues/21755 */display: inline-block !important;position: relative;}#sk-container-id-5 div.sk-text-repr-fallback {display: none;}</style><div id=\"sk-container-id-5\" class=\"sk-top-container\"><div class=\"sk-text-repr-fallback\"><pre>SVC()</pre><b>In a Jupyter environment, please rerun this cell to show the HTML representation or trust the notebook. <br />On GitHub, the HTML representation is unable to render, please try loading this page with nbviewer.org.</b></div><div class=\"sk-container\" hidden><div class=\"sk-item\"><div class=\"sk-estimator sk-toggleable\"><input class=\"sk-toggleable__control sk-hidden--visually\" id=\"sk-estimator-id-5\" type=\"checkbox\" checked><label for=\"sk-estimator-id-5\" class=\"sk-toggleable__label sk-toggleable__label-arrow\">SVC</label><div class=\"sk-toggleable__content\"><pre>SVC()</pre></div></div></div></div></div>"
      ],
      "text/plain": [
       "SVC()"
      ]
     },
     "execution_count": 56,
     "metadata": {},
     "output_type": "execute_result"
    }
   ],
   "source": [
    "svc_model.fit(X_train, y_train)\n",
    "svc_model"
   ]
  },
  {
   "cell_type": "code",
   "execution_count": 57,
   "metadata": {},
   "outputs": [],
   "source": [
    "#Usemos nuestro modelo entrenado para hacer una predicción usando nuestros datos de prueba\n",
    "y_predict = svc_model.predict(X_test)"
   ]
  },
  {
   "cell_type": "code",
   "execution_count": 58,
   "metadata": {},
   "outputs": [
    {
     "data": {
      "text/html": [
       "<div>\n",
       "<style scoped>\n",
       "    .dataframe tbody tr th:only-of-type {\n",
       "        vertical-align: middle;\n",
       "    }\n",
       "\n",
       "    .dataframe tbody tr th {\n",
       "        vertical-align: top;\n",
       "    }\n",
       "\n",
       "    .dataframe thead th {\n",
       "        text-align: right;\n",
       "    }\n",
       "</style>\n",
       "<table border=\"1\" class=\"dataframe\">\n",
       "  <thead>\n",
       "    <tr style=\"text-align: right;\">\n",
       "      <th></th>\n",
       "      <th>prediccion_vive</th>\n",
       "      <th>prediccion_muere</th>\n",
       "    </tr>\n",
       "  </thead>\n",
       "  <tbody>\n",
       "    <tr>\n",
       "      <th>vive</th>\n",
       "      <td>104</td>\n",
       "      <td>57</td>\n",
       "    </tr>\n",
       "    <tr>\n",
       "      <th>muere</th>\n",
       "      <td>36</td>\n",
       "      <td>184</td>\n",
       "    </tr>\n",
       "  </tbody>\n",
       "</table>\n",
       "</div>"
      ],
      "text/plain": [
       "       prediccion_vive  prediccion_muere\n",
       "vive               104                57\n",
       "muere               36               184"
      ]
     },
     "execution_count": 58,
     "metadata": {},
     "output_type": "execute_result"
    }
   ],
   "source": [
    "#Vamos a crear una matriz de confusión para el rendimiento de nuestro clasificador en el conjunto de datos de prueba.\n",
    "cm = np.array(confusion_matrix(y_test, y_predict, labels=[1,0]))\n",
    "confusion1 = pd.DataFrame(cm, index=['vive', 'muere'],\n",
    "                         columns=['prediccion_vive','prediccion_muere'])\n",
    "\n",
    "confusion1\n"
   ]
  },
  {
   "cell_type": "code",
   "execution_count": 59,
   "metadata": {},
   "outputs": [
    {
     "name": "stderr",
     "output_type": "stream",
     "text": [
      "C:\\Users\\Acer\\AppData\\Local\\Temp\\ipykernel_5452\\2287893194.py:1: FutureWarning: Support for multi-dimensional indexing (e.g. `obj[:, None]`) is deprecated and will be removed in a future version.  Convert to a numpy array before indexing instead.\n",
      "  confusion_matrix=confusion1.astype('float') / confusion1.sum(axis=1)[:, np.newaxis]\n"
     ]
    },
    {
     "data": {
      "text/plain": [
       "<AxesSubplot: >"
      ]
     },
     "execution_count": 59,
     "metadata": {},
     "output_type": "execute_result"
    },
    {
     "data": {
      "image/png": "[encoded data removed]",
      "text/plain": [
       "<Figure size 640x480 with 2 Axes>"
      ]
     },
     "metadata": {},
     "output_type": "display_data"
    }
   ],
   "source": [
    "confusion_matrix=confusion1.astype('float') / confusion1.sum(axis=1)[:, np.newaxis]\n",
    "sns.heatmap(confusion_matrix, annot=True,linewidths = 0.01)"
   ]
  },
  {
   "cell_type": "code",
   "execution_count": 60,
   "metadata": {},
   "outputs": [
    {
     "name": "stdout",
     "output_type": "stream",
     "text": [
      "              precision    recall  f1-score   support\n",
      "\n",
      "         0.0       0.76      0.84      0.80       220\n",
      "         1.0       0.74      0.65      0.69       161\n",
      "\n",
      "    accuracy                           0.76       381\n",
      "   macro avg       0.75      0.74      0.74       381\n",
      "weighted avg       0.75      0.76      0.75       381\n",
      "\n"
     ]
    }
   ],
   "source": [
    "print(classification_report(y_test, y_predict))"
   ]
  },
  {
   "cell_type": "code",
   "execution_count": 61,
   "metadata": {},
   "outputs": [
    {
     "name": "stdout",
     "output_type": "stream",
     "text": [
      "Fitting 5 folds for each of 9 candidates, totalling 45 fits\n"
     ]
    }
   ],
   "source": [
    "from sklearn.model_selection import GridSearchCV\n",
    "params_grid = {'C': [1, 10, 100],\n",
    "    'kernel': ['poly', 'rbf', 'sigmoid']}\n",
    "model = SVC()\n",
    "grid_search = GridSearchCV(estimator = model, \n",
    "                           param_grid = params_grid, \n",
    "                           scoring='f1',\n",
    "                           cv = 5, verbose = 1)\n",
    "# Search the best parameters with training data\n",
    "grid_search.fit(X_train, y_train)\n",
    "best_params = grid_search.best_params_"
   ]
  },
  {
   "cell_type": "code",
   "execution_count": 62,
   "metadata": {},
   "outputs": [],
   "source": [
    "\n",
    "from sklearn.metrics import confusion_matrix, accuracy_score, classification_report, f1_score \n",
    "from sklearn.metrics import precision_recall_fscore_support, precision_score, recall_score"
   ]
  },
  {
   "cell_type": "code",
   "execution_count": 63,
   "metadata": {},
   "outputs": [
    {
     "data": {
      "text/plain": [
       "{'accuracy': 0.7742782152230971,\n",
       " 'recall': 0.6894409937888198,\n",
       " 'precision': 0.7551020408163265,\n",
       " 'f1score': 0.7207792207792209}"
      ]
     },
     "execution_count": 63,
     "metadata": {},
     "output_type": "execute_result"
    }
   ],
   "source": [
    "def evaluate_metrics(yt, yp):\n",
    "    results_pos = {}\n",
    "    results_pos['accuracy'] = accuracy_score(yt, yp)\n",
    "    precision, recall, f_beta, _ = precision_recall_fscore_support(yt, yp, average='binary')\n",
    "    results_pos['recall'] = recall\n",
    "    results_pos['precision'] = precision\n",
    "    results_pos['f1score'] = f_beta\n",
    "    return results_pos\n",
    "\n",
    "best_params\n",
    "model = SVC(C=100, kernel='rbf')\n",
    "model.fit(X_train, y_train)\n",
    "preds = model.predict(X_test)\n",
    "evaluate_metrics(y_test, preds)"
   ]
  },
  {
   "cell_type": "code",
   "execution_count": 79,
   "metadata": {},
   "outputs": [
    {
     "data": {
      "text/html": [
       "<div>\n",
       "<style scoped>\n",
       "    .dataframe tbody tr th:only-of-type {\n",
       "        vertical-align: middle;\n",
       "    }\n",
       "\n",
       "    .dataframe tbody tr th {\n",
       "        vertical-align: top;\n",
       "    }\n",
       "\n",
       "    .dataframe thead th {\n",
       "        text-align: right;\n",
       "    }\n",
       "</style>\n",
       "<table border=\"1\" class=\"dataframe\">\n",
       "  <thead>\n",
       "    <tr style=\"text-align: right;\">\n",
       "      <th></th>\n",
       "      <th>prediccion_vive</th>\n",
       "      <th>prediccion_muere</th>\n",
       "    </tr>\n",
       "  </thead>\n",
       "  <tbody>\n",
       "    <tr>\n",
       "      <th>vive</th>\n",
       "      <td>111</td>\n",
       "      <td>50</td>\n",
       "    </tr>\n",
       "    <tr>\n",
       "      <th>muere</th>\n",
       "      <td>36</td>\n",
       "      <td>184</td>\n",
       "    </tr>\n",
       "  </tbody>\n",
       "</table>\n",
       "</div>"
      ],
      "text/plain": [
       "       prediccion_vive  prediccion_muere\n",
       "vive               111                50\n",
       "muere               36               184"
      ]
     },
     "execution_count": 79,
     "metadata": {},
     "output_type": "execute_result"
    }
   ],
   "source": [
    "\n",
    "cm = np.array(confusion_matrix(y_test, preds, labels=[1,0]))\n",
    "matr = pd.DataFrame(cm, index=['vive', 'muere'],\n",
    "                         columns=['prediccion_vive','prediccion_muere'])\n",
    "matr"
   ]
  },
  {
   "cell_type": "code",
   "execution_count": 80,
   "metadata": {},
   "outputs": [
    {
     "name": "stderr",
     "output_type": "stream",
     "text": [
      "C:\\Users\\Acer\\AppData\\Local\\Temp\\ipykernel_5452\\2099222502.py:1: FutureWarning: Support for multi-dimensional indexing (e.g. `obj[:, None]`) is deprecated and will be removed in a future version.  Convert to a numpy array before indexing instead.\n",
      "  confusion_matri=matr.astype('float') / matr.sum(axis=1)[:, np.newaxis]\n"
     ]
    },
    {
     "name": "stdout",
     "output_type": "stream",
     "text": [
      "              precision    recall  f1-score   support\n",
      "\n",
      "         0.0       0.79      0.84      0.81       220\n",
      "         1.0       0.76      0.69      0.72       161\n",
      "\n",
      "    accuracy                           0.77       381\n",
      "   macro avg       0.77      0.76      0.77       381\n",
      "weighted avg       0.77      0.77      0.77       381\n",
      "\n"
     ]
    },
    {
     "data": {
      "image/png": "[encoded data removed]",
      "text/plain": [
       "<Figure size 640x480 with 2 Axes>"
      ]
     },
     "metadata": {},
     "output_type": "display_data"
    }
   ],
   "source": [
    "confusion_matri=matr.astype('float') / matr.sum(axis=1)[:, np.newaxis]\n",
    "sns.heatmap(confusion_matri, annot=True,linewidths = 0.01)\n",
    "print(classification_report(y_test, preds))"
   ]
  },
  {
   "cell_type": "code",
   "execution_count": 64,
   "metadata": {},
   "outputs": [],
   "source": [
    "X_train_min = X_train.min()\n",
    "X_train_min\n",
    "\n",
    "X_train_max = X_train.max()\n",
    "X_train_max\n",
    "\n",
    "\n",
    "X_train_range = (X_train_max- X_train_min)\n",
    "X_train_range\n",
    "\n",
    "X_train_scaled = (X_train - X_train_min)/(X_train_range)\n",
    "\n"
   ]
  },
  {
   "cell_type": "code",
   "execution_count": 65,
   "metadata": {},
   "outputs": [
    {
     "data": {
      "text/html": [
       "<style>#sk-container-id-6 {color: black;background-color: white;}#sk-container-id-6 pre{padding: 0;}#sk-container-id-6 div.sk-toggleable {background-color: white;}#sk-container-id-6 label.sk-toggleable__label {cursor: pointer;display: block;width: 100%;margin-bottom: 0;padding: 0.3em;box-sizing: border-box;text-align: center;}#sk-container-id-6 label.sk-toggleable__label-arrow:before {content: \"▸\";float: left;margin-right: 0.25em;color: #696969;}#sk-container-id-6 label.sk-toggleable__label-arrow:hover:before {color: black;}#sk-container-id-6 div.sk-estimator:hover label.sk-toggleable__label-arrow:before {color: black;}#sk-container-id-6 div.sk-toggleable__content {max-height: 0;max-width: 0;overflow: hidden;text-align: left;background-color: #f0f8ff;}#sk-container-id-6 div.sk-toggleable__content pre {margin: 0.2em;color: black;border-radius: 0.25em;background-color: #f0f8ff;}#sk-container-id-6 input.sk-toggleable__control:checked~div.sk-toggleable__content {max-height: 200px;max-width: 100%;overflow: auto;}#sk-container-id-6 input.sk-toggleable__control:checked~label.sk-toggleable__label-arrow:before {content: \"▾\";}#sk-container-id-6 div.sk-estimator input.sk-toggleable__control:checked~label.sk-toggleable__label {background-color: #d4ebff;}#sk-container-id-6 div.sk-label input.sk-toggleable__control:checked~label.sk-toggleable__label {background-color: #d4ebff;}#sk-container-id-6 input.sk-hidden--visually {border: 0;clip: rect(1px 1px 1px 1px);clip: rect(1px, 1px, 1px, 1px);height: 1px;margin: -1px;overflow: hidden;padding: 0;position: absolute;width: 1px;}#sk-container-id-6 div.sk-estimator {font-family: monospace;background-color: #f0f8ff;border: 1px dotted black;border-radius: 0.25em;box-sizing: border-box;margin-bottom: 0.5em;}#sk-container-id-6 div.sk-estimator:hover {background-color: #d4ebff;}#sk-container-id-6 div.sk-parallel-item::after {content: \"\";width: 100%;border-bottom: 1px solid gray;flex-grow: 1;}#sk-container-id-6 div.sk-label:hover label.sk-toggleable__label {background-color: #d4ebff;}#sk-container-id-6 div.sk-serial::before {content: \"\";position: absolute;border-left: 1px solid gray;box-sizing: border-box;top: 0;bottom: 0;left: 50%;z-index: 0;}#sk-container-id-6 div.sk-serial {display: flex;flex-direction: column;align-items: center;background-color: white;padding-right: 0.2em;padding-left: 0.2em;position: relative;}#sk-container-id-6 div.sk-item {position: relative;z-index: 1;}#sk-container-id-6 div.sk-parallel {display: flex;align-items: stretch;justify-content: center;background-color: white;position: relative;}#sk-container-id-6 div.sk-item::before, #sk-container-id-6 div.sk-parallel-item::before {content: \"\";position: absolute;border-left: 1px solid gray;box-sizing: border-box;top: 0;bottom: 0;left: 50%;z-index: -1;}#sk-container-id-6 div.sk-parallel-item {display: flex;flex-direction: column;z-index: 1;position: relative;background-color: white;}#sk-container-id-6 div.sk-parallel-item:first-child::after {align-self: flex-end;width: 50%;}#sk-container-id-6 div.sk-parallel-item:last-child::after {align-self: flex-start;width: 50%;}#sk-container-id-6 div.sk-parallel-item:only-child::after {width: 0;}#sk-container-id-6 div.sk-dashed-wrapped {border: 1px dashed gray;margin: 0 0.4em 0.5em 0.4em;box-sizing: border-box;padding-bottom: 0.4em;background-color: white;}#sk-container-id-6 div.sk-label label {font-family: monospace;font-weight: bold;display: inline-block;line-height: 1.2em;}#sk-container-id-6 div.sk-label-container {text-align: center;}#sk-container-id-6 div.sk-container {/* jupyter's `normalize.less` sets `[hidden] { display: none; }` but bootstrap.min.css set `[hidden] { display: none !important; }` so we also need the `!important` here to be able to override the default hidden behavior on the sphinx rendered scikit-learn.org. See: https://github.com/scikit-learn/scikit-learn/issues/21755 */display: inline-block !important;position: relative;}#sk-container-id-6 div.sk-text-repr-fallback {display: none;}</style><div id=\"sk-container-id-6\" class=\"sk-top-container\"><div class=\"sk-text-repr-fallback\"><pre>SVC()</pre><b>In a Jupyter environment, please rerun this cell to show the HTML representation or trust the notebook. <br />On GitHub, the HTML representation is unable to render, please try loading this page with nbviewer.org.</b></div><div class=\"sk-container\" hidden><div class=\"sk-item\"><div class=\"sk-estimator sk-toggleable\"><input class=\"sk-toggleable__control sk-hidden--visually\" id=\"sk-estimator-id-6\" type=\"checkbox\" checked><label for=\"sk-estimator-id-6\" class=\"sk-toggleable__label sk-toggleable__label-arrow\">SVC</label><div class=\"sk-toggleable__content\"><pre>SVC()</pre></div></div></div></div></div>"
      ],
      "text/plain": [
       "SVC()"
      ]
     },
     "execution_count": 65,
     "metadata": {},
     "output_type": "execute_result"
    }
   ],
   "source": [
    "#normalizando datos de entrenamiento\n",
    "X_test_min = X_test.min()\n",
    "X_test_range = (X_test - X_test_min).max()\n",
    "X_test_scaled = (X_test - X_test_min)/X_test_range\n",
    "svc_model = SVC()\n",
    "svc_model.fit(X_train_scaled, y_train)"
   ]
  },
  {
   "cell_type": "code",
   "execution_count": 66,
   "metadata": {},
   "outputs": [
    {
     "data": {
      "text/html": [
       "<div>\n",
       "<style scoped>\n",
       "    .dataframe tbody tr th:only-of-type {\n",
       "        vertical-align: middle;\n",
       "    }\n",
       "\n",
       "    .dataframe tbody tr th {\n",
       "        vertical-align: top;\n",
       "    }\n",
       "\n",
       "    .dataframe thead th {\n",
       "        text-align: right;\n",
       "    }\n",
       "</style>\n",
       "<table border=\"1\" class=\"dataframe\">\n",
       "  <thead>\n",
       "    <tr style=\"text-align: right;\">\n",
       "      <th></th>\n",
       "      <th>prediccion_vive</th>\n",
       "      <th>prediccion_muere</th>\n",
       "    </tr>\n",
       "  </thead>\n",
       "  <tbody>\n",
       "    <tr>\n",
       "      <th>muere</th>\n",
       "      <td>104</td>\n",
       "      <td>57</td>\n",
       "    </tr>\n",
       "    <tr>\n",
       "      <th>vive</th>\n",
       "      <td>36</td>\n",
       "      <td>184</td>\n",
       "    </tr>\n",
       "  </tbody>\n",
       "</table>\n",
       "</div>"
      ],
      "text/plain": [
       "       prediccion_vive  prediccion_muere\n",
       "muere              104                57\n",
       "vive                36               184"
      ]
     },
     "execution_count": 66,
     "metadata": {},
     "output_type": "execute_result"
    }
   ],
   "source": [
    "y_predict = svc_model.predict(X_test_scaled)\n",
    "cm = confusion_matrix(y_test, y_predict)\n",
    "#SVM con datos normalizados\n",
    "cm = np.array(confusion_matrix(y_test, y_predict, labels=[1,0]))\n",
    "confusion = pd.DataFrame(cm, index=['muere', 'vive'],\n",
    "                         columns=['prediccion_vive','prediccion_muere'])\n",
    "confusion\n"
   ]
  },
  {
   "cell_type": "code",
   "execution_count": 67,
   "metadata": {},
   "outputs": [
    {
     "name": "stdout",
     "output_type": "stream",
     "text": [
      "              precision    recall  f1-score   support\n",
      "\n",
      "         0.0       0.76      0.84      0.80       220\n",
      "         1.0       0.74      0.65      0.69       161\n",
      "\n",
      "    accuracy                           0.76       381\n",
      "   macro avg       0.75      0.74      0.74       381\n",
      "weighted avg       0.75      0.76      0.75       381\n",
      "\n"
     ]
    }
   ],
   "source": [
    "confusion_matri=matriz0.astype('float') / matriz0.sum(axis=1)[:, np.newaxis]\n",
    "sns.heatmap(confusion_matri, annot=True,linewidths = 0.01)\n",
    "print(classification_report(y_test, y_predict))"
   ]
  },
  {
   "cell_type": "code",
   "execution_count": 68,
   "metadata": {
    "scrolled": true
   },
   "outputs": [
    {
     "name": "stderr",
     "output_type": "stream",
     "text": [
      "C:\\Users\\Acer\\AppData\\Local\\Temp\\ipykernel_5452\\1571579013.py:1: FutureWarning: Support for multi-dimensional indexing (e.g. `obj[:, None]`) is deprecated and will be removed in a future version.  Convert to a numpy array before indexing instead.\n",
      "  confusion_matrix1=confusion.astype('float') / confusion.sum(axis=1)[:, np.newaxis]\n"
     ]
    },
    {
     "data": {
      "text/plain": [
       "<AxesSubplot: >"
      ]
     },
     "execution_count": 68,
     "metadata": {},
     "output_type": "execute_result"
    },
    {
     "data": {
      "image/png": "[encoded data removed]",
      "text/plain": [
       "<Figure size 640x480 with 2 Axes>"
      ]
     },
     "metadata": {},
     "output_type": "display_data"
    }
   ],
   "source": [
    "confusion_matrix1=confusion.astype('float') / confusion.sum(axis=1)[:, np.newaxis]\n",
    "sns.heatmap(confusion_matrix1, annot=True,linewidths = 0.01)\n",
    "\n"
   ]
  },
  {
   "cell_type": "code",
   "execution_count": 69,
   "metadata": {},
   "outputs": [
    {
     "name": "stdout",
     "output_type": "stream",
     "text": [
      "Fitting 5 folds for each of 25 candidates, totalling 125 fits\n",
      "[CV 1/5] END ........C=0.1, gamma=1, kernel=rbf;, score=0.698 total time=   0.1s\n",
      "[CV 2/5] END ........C=0.1, gamma=1, kernel=rbf;, score=0.685 total time=   0.1s\n",
      "[CV 3/5] END ........C=0.1, gamma=1, kernel=rbf;, score=0.747 total time=   0.1s\n",
      "[CV 4/5] END ........C=0.1, gamma=1, kernel=rbf;, score=0.711 total time=   0.1s\n",
      "[CV 5/5] END ........C=0.1, gamma=1, kernel=rbf;, score=0.737 total time=   0.1s\n",
      "[CV 1/5] END ......C=0.1, gamma=0.1, kernel=rbf;, score=0.580 total time=   0.1s\n",
      "[CV 2/5] END ......C=0.1, gamma=0.1, kernel=rbf;, score=0.580 total time=   0.1s\n",
      "[CV 3/5] END ......C=0.1, gamma=0.1, kernel=rbf;, score=0.579 total time=   0.1s\n",
      "[CV 4/5] END ......C=0.1, gamma=0.1, kernel=rbf;, score=0.582 total time=   0.1s\n",
      "[CV 5/5] END ......C=0.1, gamma=0.1, kernel=rbf;, score=0.582 total time=   0.1s\n",
      "[CV 1/5] END .....C=0.1, gamma=0.01, kernel=rbf;, score=0.580 total time=   0.1s\n",
      "[CV 2/5] END .....C=0.1, gamma=0.01, kernel=rbf;, score=0.580 total time=   0.1s\n",
      "[CV 3/5] END .....C=0.1, gamma=0.01, kernel=rbf;, score=0.579 total time=   0.1s\n",
      "[CV 4/5] END .....C=0.1, gamma=0.01, kernel=rbf;, score=0.579 total time=   0.1s\n",
      "[CV 5/5] END .....C=0.1, gamma=0.01, kernel=rbf;, score=0.582 total time=   0.1s\n",
      "[CV 1/5] END ....C=0.1, gamma=0.001, kernel=rbf;, score=0.580 total time=   0.1s\n",
      "[CV 2/5] END ....C=0.1, gamma=0.001, kernel=rbf;, score=0.580 total time=   0.1s\n",
      "[CV 3/5] END ....C=0.1, gamma=0.001, kernel=rbf;, score=0.579 total time=   0.1s\n",
      "[CV 4/5] END ....C=0.1, gamma=0.001, kernel=rbf;, score=0.579 total time=   0.1s\n",
      "[CV 5/5] END ....C=0.1, gamma=0.001, kernel=rbf;, score=0.582 total time=   0.1s\n",
      "[CV 1/5] END ....C=0.1, gamma=0.001, kernel=rbf;, score=0.580 total time=   0.1s\n",
      "[CV 2/5] END ....C=0.1, gamma=0.001, kernel=rbf;, score=0.580 total time=   0.1s\n",
      "[CV 3/5] END ....C=0.1, gamma=0.001, kernel=rbf;, score=0.579 total time=   0.1s\n",
      "[CV 4/5] END ....C=0.1, gamma=0.001, kernel=rbf;, score=0.579 total time=   0.1s\n",
      "[CV 5/5] END ....C=0.1, gamma=0.001, kernel=rbf;, score=0.582 total time=   0.1s\n",
      "[CV 1/5] END ..........C=1, gamma=1, kernel=rbf;, score=0.715 total time=   0.0s\n",
      "[CV 2/5] END ..........C=1, gamma=1, kernel=rbf;, score=0.698 total time=   0.0s\n",
      "[CV 3/5] END ..........C=1, gamma=1, kernel=rbf;, score=0.730 total time=   0.0s\n",
      "[CV 4/5] END ..........C=1, gamma=1, kernel=rbf;, score=0.737 total time=   0.0s\n",
      "[CV 5/5] END ..........C=1, gamma=1, kernel=rbf;, score=0.730 total time=   0.0s\n",
      "[CV 1/5] END ........C=1, gamma=0.1, kernel=rbf;, score=0.679 total time=   0.0s\n",
      "[CV 2/5] END ........C=1, gamma=0.1, kernel=rbf;, score=0.685 total time=   0.0s\n",
      "[CV 3/5] END ........C=1, gamma=0.1, kernel=rbf;, score=0.737 total time=   0.0s\n",
      "[CV 4/5] END ........C=1, gamma=0.1, kernel=rbf;, score=0.717 total time=   0.0s\n",
      "[CV 5/5] END ........C=1, gamma=0.1, kernel=rbf;, score=0.740 total time=   0.0s\n",
      "[CV 1/5] END .......C=1, gamma=0.01, kernel=rbf;, score=0.580 total time=   0.1s\n",
      "[CV 2/5] END .......C=1, gamma=0.01, kernel=rbf;, score=0.580 total time=   0.1s\n",
      "[CV 3/5] END .......C=1, gamma=0.01, kernel=rbf;, score=0.579 total time=   0.1s\n",
      "[CV 4/5] END .......C=1, gamma=0.01, kernel=rbf;, score=0.586 total time=   0.1s\n",
      "[CV 5/5] END .......C=1, gamma=0.01, kernel=rbf;, score=0.582 total time=   0.1s\n",
      "[CV 1/5] END ......C=1, gamma=0.001, kernel=rbf;, score=0.580 total time=   0.1s\n",
      "[CV 2/5] END ......C=1, gamma=0.001, kernel=rbf;, score=0.580 total time=   0.1s\n",
      "[CV 3/5] END ......C=1, gamma=0.001, kernel=rbf;, score=0.579 total time=   0.1s\n",
      "[CV 4/5] END ......C=1, gamma=0.001, kernel=rbf;, score=0.579 total time=   0.1s\n",
      "[CV 5/5] END ......C=1, gamma=0.001, kernel=rbf;, score=0.582 total time=   0.1s\n",
      "[CV 1/5] END ......C=1, gamma=0.001, kernel=rbf;, score=0.580 total time=   0.1s\n",
      "[CV 2/5] END ......C=1, gamma=0.001, kernel=rbf;, score=0.580 total time=   0.1s\n",
      "[CV 3/5] END ......C=1, gamma=0.001, kernel=rbf;, score=0.579 total time=   0.1s\n",
      "[CV 4/5] END ......C=1, gamma=0.001, kernel=rbf;, score=0.579 total time=   0.1s\n",
      "[CV 5/5] END ......C=1, gamma=0.001, kernel=rbf;, score=0.582 total time=   0.1s\n",
      "[CV 1/5] END .........C=10, gamma=1, kernel=rbf;, score=0.721 total time=   0.0s\n",
      "[CV 2/5] END .........C=10, gamma=1, kernel=rbf;, score=0.708 total time=   0.0s\n",
      "[CV 3/5] END .........C=10, gamma=1, kernel=rbf;, score=0.750 total time=   0.0s\n",
      "[CV 4/5] END .........C=10, gamma=1, kernel=rbf;, score=0.704 total time=   0.0s\n",
      "[CV 5/5] END .........C=10, gamma=1, kernel=rbf;, score=0.743 total time=   0.0s\n",
      "[CV 1/5] END .......C=10, gamma=0.1, kernel=rbf;, score=0.711 total time=   0.0s\n",
      "[CV 2/5] END .......C=10, gamma=0.1, kernel=rbf;, score=0.692 total time=   0.0s\n",
      "[CV 3/5] END .......C=10, gamma=0.1, kernel=rbf;, score=0.737 total time=   0.1s\n",
      "[CV 4/5] END .......C=10, gamma=0.1, kernel=rbf;, score=0.724 total time=   0.0s\n",
      "[CV 5/5] END .......C=10, gamma=0.1, kernel=rbf;, score=0.740 total time=   0.0s\n",
      "[CV 1/5] END ......C=10, gamma=0.01, kernel=rbf;, score=0.679 total time=   0.0s\n",
      "[CV 2/5] END ......C=10, gamma=0.01, kernel=rbf;, score=0.685 total time=   0.1s\n",
      "[CV 3/5] END ......C=10, gamma=0.01, kernel=rbf;, score=0.747 total time=   0.1s\n",
      "[CV 4/5] END ......C=10, gamma=0.01, kernel=rbf;, score=0.720 total time=   0.1s\n",
      "[CV 5/5] END ......C=10, gamma=0.01, kernel=rbf;, score=0.740 total time=   0.1s\n",
      "[CV 1/5] END .....C=10, gamma=0.001, kernel=rbf;, score=0.580 total time=   0.1s\n",
      "[CV 2/5] END .....C=10, gamma=0.001, kernel=rbf;, score=0.580 total time=   0.1s\n",
      "[CV 3/5] END .....C=10, gamma=0.001, kernel=rbf;, score=0.579 total time=   0.1s\n",
      "[CV 4/5] END .....C=10, gamma=0.001, kernel=rbf;, score=0.586 total time=   0.1s\n",
      "[CV 5/5] END .....C=10, gamma=0.001, kernel=rbf;, score=0.582 total time=   0.1s\n",
      "[CV 1/5] END .....C=10, gamma=0.001, kernel=rbf;, score=0.580 total time=   0.1s\n",
      "[CV 2/5] END .....C=10, gamma=0.001, kernel=rbf;, score=0.580 total time=   0.1s\n",
      "[CV 3/5] END .....C=10, gamma=0.001, kernel=rbf;, score=0.579 total time=   0.1s\n",
      "[CV 4/5] END .....C=10, gamma=0.001, kernel=rbf;, score=0.586 total time=   0.1s\n",
      "[CV 5/5] END .....C=10, gamma=0.001, kernel=rbf;, score=0.582 total time=   0.1s\n",
      "[CV 1/5] END ........C=100, gamma=1, kernel=rbf;, score=0.698 total time=   0.1s\n",
      "[CV 2/5] END ........C=100, gamma=1, kernel=rbf;, score=0.711 total time=   0.1s\n",
      "[CV 3/5] END ........C=100, gamma=1, kernel=rbf;, score=0.743 total time=   0.1s\n",
      "[CV 4/5] END ........C=100, gamma=1, kernel=rbf;, score=0.694 total time=   0.1s\n",
      "[CV 5/5] END ........C=100, gamma=1, kernel=rbf;, score=0.740 total time=   0.1s\n",
      "[CV 1/5] END ......C=100, gamma=0.1, kernel=rbf;, score=0.715 total time=   0.1s\n",
      "[CV 2/5] END ......C=100, gamma=0.1, kernel=rbf;, score=0.715 total time=   0.1s\n",
      "[CV 3/5] END ......C=100, gamma=0.1, kernel=rbf;, score=0.734 total time=   0.1s\n",
      "[CV 4/5] END ......C=100, gamma=0.1, kernel=rbf;, score=0.714 total time=   0.1s\n",
      "[CV 5/5] END ......C=100, gamma=0.1, kernel=rbf;, score=0.737 total time=   0.1s\n",
      "[CV 1/5] END .....C=100, gamma=0.01, kernel=rbf;, score=0.695 total time=   0.1s\n",
      "[CV 2/5] END .....C=100, gamma=0.01, kernel=rbf;, score=0.689 total time=   0.0s\n",
      "[CV 3/5] END .....C=100, gamma=0.01, kernel=rbf;, score=0.737 total time=   0.1s\n",
      "[CV 4/5] END .....C=100, gamma=0.01, kernel=rbf;, score=0.711 total time=   0.0s\n",
      "[CV 5/5] END .....C=100, gamma=0.01, kernel=rbf;, score=0.737 total time=   0.0s\n",
      "[CV 1/5] END ....C=100, gamma=0.001, kernel=rbf;, score=0.679 total time=   0.0s\n",
      "[CV 2/5] END ....C=100, gamma=0.001, kernel=rbf;, score=0.689 total time=   0.1s\n",
      "[CV 3/5] END ....C=100, gamma=0.001, kernel=rbf;, score=0.750 total time=   0.1s\n",
      "[CV 4/5] END ....C=100, gamma=0.001, kernel=rbf;, score=0.720 total time=   0.0s\n",
      "[CV 5/5] END ....C=100, gamma=0.001, kernel=rbf;, score=0.740 total time=   0.0s\n",
      "[CV 1/5] END ....C=100, gamma=0.001, kernel=rbf;, score=0.679 total time=   0.0s\n",
      "[CV 2/5] END ....C=100, gamma=0.001, kernel=rbf;, score=0.689 total time=   0.0s\n",
      "[CV 3/5] END ....C=100, gamma=0.001, kernel=rbf;, score=0.750 total time=   0.1s\n",
      "[CV 4/5] END ....C=100, gamma=0.001, kernel=rbf;, score=0.720 total time=   0.0s\n",
      "[CV 5/5] END ....C=100, gamma=0.001, kernel=rbf;, score=0.740 total time=   0.1s\n",
      "[CV 1/5] END .......C=1000, gamma=1, kernel=rbf;, score=0.718 total time=   0.7s\n"
     ]
    },
    {
     "name": "stdout",
     "output_type": "stream",
     "text": [
      "[CV 2/5] END .......C=1000, gamma=1, kernel=rbf;, score=0.705 total time=   0.8s\n",
      "[CV 3/5] END .......C=1000, gamma=1, kernel=rbf;, score=0.724 total time=   0.6s\n",
      "[CV 4/5] END .......C=1000, gamma=1, kernel=rbf;, score=0.681 total time=   0.6s\n",
      "[CV 5/5] END .......C=1000, gamma=1, kernel=rbf;, score=0.727 total time=   0.6s\n",
      "[CV 1/5] END .....C=1000, gamma=0.1, kernel=rbf;, score=0.715 total time=   0.1s\n",
      "[CV 2/5] END .....C=1000, gamma=0.1, kernel=rbf;, score=0.715 total time=   0.1s\n",
      "[CV 3/5] END .....C=1000, gamma=0.1, kernel=rbf;, score=0.747 total time=   0.1s\n",
      "[CV 4/5] END .....C=1000, gamma=0.1, kernel=rbf;, score=0.720 total time=   0.1s\n",
      "[CV 5/5] END .....C=1000, gamma=0.1, kernel=rbf;, score=0.766 total time=   0.2s\n",
      "[CV 1/5] END ....C=1000, gamma=0.01, kernel=rbf;, score=0.715 total time=   0.1s\n",
      "[CV 2/5] END ....C=1000, gamma=0.01, kernel=rbf;, score=0.698 total time=   0.1s\n",
      "[CV 3/5] END ....C=1000, gamma=0.01, kernel=rbf;, score=0.740 total time=   0.1s\n",
      "[CV 4/5] END ....C=1000, gamma=0.01, kernel=rbf;, score=0.720 total time=   0.1s\n",
      "[CV 5/5] END ....C=1000, gamma=0.01, kernel=rbf;, score=0.730 total time=   0.1s\n",
      "[CV 1/5] END ...C=1000, gamma=0.001, kernel=rbf;, score=0.685 total time=   0.1s\n",
      "[CV 2/5] END ...C=1000, gamma=0.001, kernel=rbf;, score=0.689 total time=   0.0s\n",
      "[CV 3/5] END ...C=1000, gamma=0.001, kernel=rbf;, score=0.734 total time=   0.0s\n",
      "[CV 4/5] END ...C=1000, gamma=0.001, kernel=rbf;, score=0.714 total time=   0.0s\n",
      "[CV 5/5] END ...C=1000, gamma=0.001, kernel=rbf;, score=0.734 total time=   0.1s\n",
      "[CV 1/5] END ...C=1000, gamma=0.001, kernel=rbf;, score=0.685 total time=   0.0s\n",
      "[CV 2/5] END ...C=1000, gamma=0.001, kernel=rbf;, score=0.689 total time=   0.1s\n",
      "[CV 3/5] END ...C=1000, gamma=0.001, kernel=rbf;, score=0.734 total time=   0.1s\n",
      "[CV 4/5] END ...C=1000, gamma=0.001, kernel=rbf;, score=0.714 total time=   0.1s\n",
      "[CV 5/5] END ...C=1000, gamma=0.001, kernel=rbf;, score=0.734 total time=   0.1s\n",
      "              precision    recall  f1-score   support\n",
      "\n",
      "         0.0       0.76      0.83      0.79       220\n",
      "         1.0       0.73      0.65      0.69       161\n",
      "\n",
      "    accuracy                           0.75       381\n",
      "   macro avg       0.75      0.74      0.74       381\n",
      "weighted avg       0.75      0.75      0.75       381\n",
      "\n"
     ]
    },
    {
     "data": {
      "image/png": "[encoded data removed]",
      "text/plain": [
       "<Figure size 640x480 with 2 Axes>"
      ]
     },
     "metadata": {},
     "output_type": "display_data"
    }
   ],
   "source": [
    "#hiperparametros\n",
    "#find best hyper parameters\n",
    "from sklearn.model_selection import GridSearchCV\n",
    "param_grid = {'C':[0.1,1,10,100,1000],'gamma':[1,0.1,0.01,0.001,0.001], 'kernel':['rbf']}\n",
    "grid = GridSearchCV(SVC(),param_grid,verbose = 4)\n",
    "grid.fit(X_train,y_train)\n",
    "grid.best_params_\n",
    "grid.best_estimator_\n",
    "grid_predictions = grid.predict(X_test)\n",
    "cmG = confusion_matrix(y_test,grid_predictions)\n",
    "sns.heatmap(cmG, annot=True)\n",
    "print(classification_report(y_test,grid_predictions))"
   ]
  },
  {
   "cell_type": "code",
   "execution_count": 70,
   "metadata": {},
   "outputs": [
    {
     "data": {
      "text/plain": [
       "{'C': 1000, 'gamma': 0.1, 'kernel': 'rbf'}"
      ]
     },
     "execution_count": 70,
     "metadata": {},
     "output_type": "execute_result"
    }
   ],
   "source": [
    "grid.best_params_"
   ]
  },
  {
   "cell_type": "code",
   "execution_count": 71,
   "metadata": {},
   "outputs": [
    {
     "data": {
      "text/html": [
       "<style>#sk-container-id-7 {color: black;background-color: white;}#sk-container-id-7 pre{padding: 0;}#sk-container-id-7 div.sk-toggleable {background-color: white;}#sk-container-id-7 label.sk-toggleable__label {cursor: pointer;display: block;width: 100%;margin-bottom: 0;padding: 0.3em;box-sizing: border-box;text-align: center;}#sk-container-id-7 label.sk-toggleable__label-arrow:before {content: \"▸\";float: left;margin-right: 0.25em;color: #696969;}#sk-container-id-7 label.sk-toggleable__label-arrow:hover:before {color: black;}#sk-container-id-7 div.sk-estimator:hover label.sk-toggleable__label-arrow:before {color: black;}#sk-container-id-7 div.sk-toggleable__content {max-height: 0;max-width: 0;overflow: hidden;text-align: left;background-color: #f0f8ff;}#sk-container-id-7 div.sk-toggleable__content pre {margin: 0.2em;color: black;border-radius: 0.25em;background-color: #f0f8ff;}#sk-container-id-7 input.sk-toggleable__control:checked~div.sk-toggleable__content {max-height: 200px;max-width: 100%;overflow: auto;}#sk-container-id-7 input.sk-toggleable__control:checked~label.sk-toggleable__label-arrow:before {content: \"▾\";}#sk-container-id-7 div.sk-estimator input.sk-toggleable__control:checked~label.sk-toggleable__label {background-color: #d4ebff;}#sk-container-id-7 div.sk-label input.sk-toggleable__control:checked~label.sk-toggleable__label {background-color: #d4ebff;}#sk-container-id-7 input.sk-hidden--visually {border: 0;clip: rect(1px 1px 1px 1px);clip: rect(1px, 1px, 1px, 1px);height: 1px;margin: -1px;overflow: hidden;padding: 0;position: absolute;width: 1px;}#sk-container-id-7 div.sk-estimator {font-family: monospace;background-color: #f0f8ff;border: 1px dotted black;border-radius: 0.25em;box-sizing: border-box;margin-bottom: 0.5em;}#sk-container-id-7 div.sk-estimator:hover {background-color: #d4ebff;}#sk-container-id-7 div.sk-parallel-item::after {content: \"\";width: 100%;border-bottom: 1px solid gray;flex-grow: 1;}#sk-container-id-7 div.sk-label:hover label.sk-toggleable__label {background-color: #d4ebff;}#sk-container-id-7 div.sk-serial::before {content: \"\";position: absolute;border-left: 1px solid gray;box-sizing: border-box;top: 0;bottom: 0;left: 50%;z-index: 0;}#sk-container-id-7 div.sk-serial {display: flex;flex-direction: column;align-items: center;background-color: white;padding-right: 0.2em;padding-left: 0.2em;position: relative;}#sk-container-id-7 div.sk-item {position: relative;z-index: 1;}#sk-container-id-7 div.sk-parallel {display: flex;align-items: stretch;justify-content: center;background-color: white;position: relative;}#sk-container-id-7 div.sk-item::before, #sk-container-id-7 div.sk-parallel-item::before {content: \"\";position: absolute;border-left: 1px solid gray;box-sizing: border-box;top: 0;bottom: 0;left: 50%;z-index: -1;}#sk-container-id-7 div.sk-parallel-item {display: flex;flex-direction: column;z-index: 1;position: relative;background-color: white;}#sk-container-id-7 div.sk-parallel-item:first-child::after {align-self: flex-end;width: 50%;}#sk-container-id-7 div.sk-parallel-item:last-child::after {align-self: flex-start;width: 50%;}#sk-container-id-7 div.sk-parallel-item:only-child::after {width: 0;}#sk-container-id-7 div.sk-dashed-wrapped {border: 1px dashed gray;margin: 0 0.4em 0.5em 0.4em;box-sizing: border-box;padding-bottom: 0.4em;background-color: white;}#sk-container-id-7 div.sk-label label {font-family: monospace;font-weight: bold;display: inline-block;line-height: 1.2em;}#sk-container-id-7 div.sk-label-container {text-align: center;}#sk-container-id-7 div.sk-container {/* jupyter's `normalize.less` sets `[hidden] { display: none; }` but bootstrap.min.css set `[hidden] { display: none !important; }` so we also need the `!important` here to be able to override the default hidden behavior on the sphinx rendered scikit-learn.org. See: https://github.com/scikit-learn/scikit-learn/issues/21755 */display: inline-block !important;position: relative;}#sk-container-id-7 div.sk-text-repr-fallback {display: none;}</style><div id=\"sk-container-id-7\" class=\"sk-top-container\"><div class=\"sk-text-repr-fallback\"><pre>SVC(C=1000, gamma=0.1)</pre><b>In a Jupyter environment, please rerun this cell to show the HTML representation or trust the notebook. <br />On GitHub, the HTML representation is unable to render, please try loading this page with nbviewer.org.</b></div><div class=\"sk-container\" hidden><div class=\"sk-item\"><div class=\"sk-estimator sk-toggleable\"><input class=\"sk-toggleable__control sk-hidden--visually\" id=\"sk-estimator-id-7\" type=\"checkbox\" checked><label for=\"sk-estimator-id-7\" class=\"sk-toggleable__label sk-toggleable__label-arrow\">SVC</label><div class=\"sk-toggleable__content\"><pre>SVC(C=1000, gamma=0.1)</pre></div></div></div></div></div>"
      ],
      "text/plain": [
       "SVC(C=1000, gamma=0.1)"
      ]
     },
     "execution_count": 71,
     "metadata": {},
     "output_type": "execute_result"
    }
   ],
   "source": [
    "grid.best_estimator_"
   ]
  },
  {
   "cell_type": "code",
   "execution_count": 72,
   "metadata": {},
   "outputs": [
    {
     "data": {
      "text/html": [
       "<div>\n",
       "<style scoped>\n",
       "    .dataframe tbody tr th:only-of-type {\n",
       "        vertical-align: middle;\n",
       "    }\n",
       "\n",
       "    .dataframe tbody tr th {\n",
       "        vertical-align: top;\n",
       "    }\n",
       "\n",
       "    .dataframe thead th {\n",
       "        text-align: right;\n",
       "    }\n",
       "</style>\n",
       "<table border=\"1\" class=\"dataframe\">\n",
       "  <thead>\n",
       "    <tr style=\"text-align: right;\">\n",
       "      <th></th>\n",
       "      <th>vive</th>\n",
       "      <th>muere</th>\n",
       "    </tr>\n",
       "  </thead>\n",
       "  <tbody>\n",
       "    <tr>\n",
       "      <th>vive</th>\n",
       "      <td>105</td>\n",
       "      <td>56</td>\n",
       "    </tr>\n",
       "    <tr>\n",
       "      <th>muere</th>\n",
       "      <td>38</td>\n",
       "      <td>182</td>\n",
       "    </tr>\n",
       "  </tbody>\n",
       "</table>\n",
       "</div>"
      ],
      "text/plain": [
       "       vive  muere\n",
       "vive    105     56\n",
       "muere    38    182"
      ]
     },
     "execution_count": 72,
     "metadata": {},
     "output_type": "execute_result"
    }
   ],
   "source": [
    "grid_predictions = grid.predict(X_test_scaled)\n",
    "cm = np.array(confusion_matrix(y_test, grid_predictions, labels=[1,0]))\n",
    "matriz0 = pd.DataFrame(cm, index=['vive', 'muere'],\n",
    "                         columns=['prediccion_vive','prediccion_muere'])\n",
    "matriz0"
   ]
  },
  {
   "cell_type": "code",
   "execution_count": 76,
   "metadata": {},
   "outputs": [
    {
     "name": "stderr",
     "output_type": "stream",
     "text": [
      "C:\\Users\\Acer\\AppData\\Local\\Temp\\ipykernel_5452\\2009196342.py:1: FutureWarning: Support for multi-dimensional indexing (e.g. `obj[:, None]`) is deprecated and will be removed in a future version.  Convert to a numpy array before indexing instead.\n",
      "  confusion_matri=matriz0.astype('float') / matriz0.sum(axis=1)[:, np.newaxis]\n"
     ]
    },
    {
     "data": {
      "text/plain": [
       "<AxesSubplot: >"
      ]
     },
     "execution_count": 76,
     "metadata": {},
     "output_type": "execute_result"
    },
    {
     "data": {
      "image/png": "[encoded data removed]",
      "text/plain": [
       "<Figure size 640x480 with 2 Axes>"
      ]
     },
     "metadata": {},
     "output_type": "display_data"
    }
   ],
   "source": [
    "confusion_matri=matriz0.astype('float') / matriz0.sum(axis=1)[:, np.newaxis]\n",
    "sns.heatmap(confusion_matri, annot=True,linewidths = 0.01)\n"
   ]
  },
  {
   "cell_type": "code",
   "execution_count": 74,
   "metadata": {},
   "outputs": [
    {
     "name": "stdout",
     "output_type": "stream",
     "text": [
      "              precision    recall  f1-score   support\n",
      "\n",
      "         0.0       0.76      0.83      0.79       220\n",
      "         1.0       0.73      0.65      0.69       161\n",
      "\n",
      "    accuracy                           0.75       381\n",
      "   macro avg       0.75      0.74      0.74       381\n",
      "weighted avg       0.75      0.75      0.75       381\n",
      "\n"
     ]
    }
   ],
   "source": [
    "print(classification_report(y_test, grid_predictions))"
   ]
  },
  {
   "cell_type": "code",
   "execution_count": 75,
   "metadata": {},
   "outputs": [
    {
     "name": "stdout",
     "output_type": "stream",
     "text": [
      "datos paciente escogido : \n",
      " [0.09392265 0.30668168 0.         0.63474987 0.37985075 0.        ]\n",
      "Precisión del entrenamiento de regresión logística: 0.8724597056762439\n"
     ]
    }
   ],
   "source": [
    "#Regresion lineal\n",
    "# paciente 1  diagnosis= 0\n",
    "paciente_1 = df1.iloc[21, 2:8].values\n",
    "# Visualizar las variables del paciente 1\n",
    "print(\"datos paciente escogido : \\n\", paciente_1)\n",
    "X = df1.iloc[:, 2:8].values\n",
    "Y = df1.iloc[:, 1].values\n",
    "# Importar libreria para la separaci´on de los datos de entrenamiento\n",
    "from sklearn.model_selection import train_test_split\n",
    "# Utilizar 25% de los Datos para Entrenar los Modelos\n",
    "X_train, X_test, Y_train, Y_test = train_test_split(X, Y, test_size =0.25,\n",
    "random_state = 0)\n",
    "#Importar librer´ıa para usar el Modelo Logistic Regression\n",
    "from sklearn.linear_model import LogisticRegression\n",
    "#Usar el modelo Logistic Regression\n",
    "logisticRegression = LogisticRegression(random_state = 0)\n",
    "#Entrenar el modelo Logistic Regression\n",
    "logisticRegression.fit(X_train, Y_train)\n",
    "#Imprimir la respuesta del Modelo Logistic Regression\n",
    "print(\"Precisión del entrenamiento de regresión logística:\",\n",
    "logisticRegression.score(X_train,Y_train))"
   ]
  },
  {
   "cell_type": "code",
   "execution_count": 46,
   "metadata": {},
   "outputs": [
    {
     "name": "stdout",
     "output_type": "stream",
     "text": [
      "Diagnostico:  [0.]\n",
      "Probabilidad de  morir:  0.973749862324306\n",
      "Probabilidad de  vivir:  0.026250137675693914\n"
     ]
    }
   ],
   "source": [
    "pred_1 = logisticRegression.predict([paciente_1])\n",
    "pred_proba_1 = logisticRegression.predict_proba([paciente_1])\n",
    "print(\"Diagnostico: \", pred_1)\n",
    "print(\"Probabilidad de  morir: \", pred_proba_1[0][0])\n",
    "print(\"Probabilidad de  vivir: \", pred_proba_1[0][1])"
   ]
  },
  {
   "cell_type": "code",
   "execution_count": 47,
   "metadata": {},
   "outputs": [
    {
     "name": "stdout",
     "output_type": "stream",
     "text": [
      "datos paciente 1 : \n",
      " [0.09392265 0.30668168 0.         0.63474987 0.37985075 0.        ]\n",
      "Logistic Regression TrainingAccuracy: 0.713384723195515\n"
     ]
    }
   ],
   "source": [
    "#Regresion lineal\n",
    "# paciente 1  diagnosis= 0\n",
    "paciente_1 = df1.iloc[21, 2:8].values\n",
    "# Visualizar las variables del paciente 1\n",
    "print(\"datos paciente 1 : \\n\", paciente_1)\n",
    "X= df1.drop(\"overall_survival\", axis=1).values\n",
    "Y = df1[\"overall_survival\"].values\n",
    "\n",
    "# Importar libreria para la separaci´on de los datos de entrenamiento\n",
    "from sklearn.model_selection import train_test_split\n",
    "# Utilizar 25% de los Datos para Entrenar los Modelos\n",
    "X_train, X_test, Y_train, Y_test = train_test_split(X, Y, test_size =0.25,\n",
    "random_state = 0)\n",
    "#Importar librer´ıa para usar el Modelo Logistic Regression\n",
    "from sklearn.linear_model import LogisticRegression\n",
    "#Usar el modelo Logistic Regression\n",
    "logisticRegression = LogisticRegression(random_state = 0)\n",
    "#Entrenar el modelo Logistic Regression\n",
    "logisticRegression.fit(X_train, Y_train)\n",
    "#Imprimir la respuesta del Modelo Logistic Regression\n",
    "print(\"Logistic Regression TrainingAccuracy:\",\n",
    "logisticRegression.score(X_train,Y_train))"
   ]
  },
  {
   "cell_type": "code",
   "execution_count": 48,
   "metadata": {},
   "outputs": [
    {
     "data": {
      "text/html": [
       "<div>\n",
       "<style scoped>\n",
       "    .dataframe tbody tr th:only-of-type {\n",
       "        vertical-align: middle;\n",
       "    }\n",
       "\n",
       "    .dataframe tbody tr th {\n",
       "        vertical-align: top;\n",
       "    }\n",
       "\n",
       "    .dataframe thead th {\n",
       "        text-align: right;\n",
       "    }\n",
       "</style>\n",
       "<table border=\"1\" class=\"dataframe\">\n",
       "  <thead>\n",
       "    <tr style=\"text-align: right;\">\n",
       "      <th></th>\n",
       "      <th>prediccion_vive</th>\n",
       "      <th>prediccion_muere</th>\n",
       "    </tr>\n",
       "  </thead>\n",
       "  <tbody>\n",
       "    <tr>\n",
       "      <th>vive</th>\n",
       "      <td>92</td>\n",
       "      <td>68</td>\n",
       "    </tr>\n",
       "    <tr>\n",
       "      <th>muere</th>\n",
       "      <td>47</td>\n",
       "      <td>174</td>\n",
       "    </tr>\n",
       "  </tbody>\n",
       "</table>\n",
       "</div>"
      ],
      "text/plain": [
       "       prediccion_vive  prediccion_muere\n",
       "vive                92                68\n",
       "muere               47               174"
      ]
     },
     "execution_count": 48,
     "metadata": {},
     "output_type": "execute_result"
    }
   ],
   "source": [
    "\n",
    "#regresion logistica\n",
    "X1= df1.drop(\"overall_survival\", axis=1).values\n",
    "Y1 = df1[\"overall_survival\"].values\n",
    "X1.shape\n",
    "\n",
    "\n",
    "\n",
    "\n",
    "\n",
    "validation_size = 0.20\n",
    "seed = 7\n",
    "X1_train, X1_validation, Y1_train, Y1_validation = train_test_split(X1, Y1, test_size=validation_size, random_state=seed)\n",
    "model = linear_model.LogisticRegression()\n",
    "model.fit(X1_train, Y1_train)\n",
    "\n",
    "#Usemos nuestro modelo entrenado para hacer una predicción usando nuestros datos de prueba\n",
    "Y1_predict = model.predict( X1_validation)\n",
    "\n",
    "#Vamos a crear una matriz de confusión para el rendimiento de nuestro clasificador en el conjunto de datos de prueba.\n",
    "cm = np.array(confusion_matrix(Y1_validation, Y1_predict, labels=[1,0]))\n",
    "matriz = pd.DataFrame(cm, index=['vive', 'muere'],\n",
    "                         columns=['prediccion_vive','prediccion_muere'])\n",
    "matriz\n"
   ]
  },
  {
   "cell_type": "code",
   "execution_count": 51,
   "metadata": {},
   "outputs": [
    {
     "name": "stderr",
     "output_type": "stream",
     "text": [
      "C:\\Users\\Acer\\AppData\\Local\\Temp\\ipykernel_5452\\3276003890.py:1: FutureWarning: Support for multi-dimensional indexing (e.g. `obj[:, None]`) is deprecated and will be removed in a future version.  Convert to a numpy array before indexing instead.\n",
      "  confusion_matrix2=matriz.astype('float') / matriz.sum(axis=1)[:, np.newaxis]\n"
     ]
    },
    {
     "name": "stdout",
     "output_type": "stream",
     "text": [
      "              precision    recall  f1-score   support\n",
      "\n",
      "         0.0       0.72      0.79      0.75       221\n",
      "         1.0       0.66      0.57      0.62       160\n",
      "\n",
      "    accuracy                           0.70       381\n",
      "   macro avg       0.69      0.68      0.68       381\n",
      "weighted avg       0.70      0.70      0.69       381\n",
      "\n"
     ]
    },
    {
     "data": {
      "image/png": "[encoded data removed]",
      "text/plain": [
       "<Figure size 640x480 with 2 Axes>"
      ]
     },
     "metadata": {},
     "output_type": "display_data"
    }
   ],
   "source": [
    "confusion_matrix2=matriz.astype('float') / matriz.sum(axis=1)[:, np.newaxis]\n",
    "sns.heatmap(confusion_matrix2, annot=True,linewidths = 0.01)\n",
    "\n",
    "\n",
    "print(classification_report(Y1_validation, Y1_predict))"
   ]
  },
  {
   "cell_type": "code",
   "execution_count": 50,
   "metadata": {
    "colab": {
     "base_uri": "https://localhost:8080/",
     "height": 1000
    },
    "id": "c3lAfzowJd9f",
    "outputId": "9f8c57ee-bd1a-43ae-aa8b-9805aef95a52"
   },
   "outputs": [
    {
     "data": {
      "text/plain": [
       "<AxesSubplot: >"
      ]
     },
     "execution_count": 50,
     "metadata": {},
     "output_type": "execute_result"
    },
    {
     "data": {
      "image/png": "[encoded data removed]",
      "text/plain": [
       "<Figure size 1600x1600 with 2 Axes>"
      ]
     },
     "metadata": {},
     "output_type": "display_data"
    }
   ],
   "source": [
    "#comparando independencia entre variables\n",
    "plt.figure(figsize = (16,16))\n",
    "sns.heatmap(analisis1.corr(), annot = True, cmap = \"RdYlGn\")"
   ]
  },
  {
   "cell_type": "markdown",
   "metadata": {
    "id": "pmnsgE-xiGCh",
    "outputId": "bf5d7888-06a7-48d2-d329-3c7e759f54e6"
   },
   "source": [
    "<h1> Pruebas de normalidad </h1>\n",
    "<hr>\n",
    "<h2> D'Agostino </h2>\n",
    "\n",
    "<p> A continuación, se realiza una prueba (llamada prueba D'Agostino), para determinar si los datos siguen o no una distribución normal, ya que la prueba de Shapiro es poco precisa para la cantidad de datos que tenemos en esta base de datos. </p>\n",
    "\n",
    "<p> Así, la prueba de hipótesis que plantea D'Agostino es la siguiente:</p>\n",
    "\n",
    "<p> $H_0:$ Los datos proceden de una distribución normal.</p>\n",
    "\n",
    "<p> $H_1:$ Los datos no proceden de una distribución normal.</p>\n",
    "\n",
    "<p> Si se rechaza $H_0$, se concluye que hay evidencia estadística suficiente para afirmar que los datos no siguen una distribución normal. Por lo tanto, las siguientes celdas se centrarán en realizar esta prueba y, en caso de no seguir una distribución normal, hacer una estandarización de los datos. </p>"
   ]
  },
  {
   "cell_type": "code",
   "execution_count": null,
   "metadata": {
    "colab": {
     "base_uri": "https://localhost:8080/"
    },
    "id": "41s-37U-Jd9k",
    "outputId": "1df3cf65-92f4-4bbc-aac4-f666ca3ee0dd"
   },
   "outputs": [],
   "source": [
    "for i in analisis1:\n",
    "    k2, p_value = stats.normaltest(analisis1[i])\n",
    "    print(f\"{i} = {k2}, p_valor = {p_value}\")"
   ]
  },
  {
   "cell_type": "code",
   "execution_count": null,
   "metadata": {
    "colab": {
     "base_uri": "https://localhost:8080/",
     "height": 279
    },
    "id": "qRBzRNMeJd9l",
    "outputId": "17eeecb9-e0b8-4245-fbb1-007bb7ccd63c"
   },
   "outputs": [],
   "source": [
    "# Gráfico QQ\n",
    "fig, ax = plt.subplots(figsize=(7,4))\n",
    "sm.qqplot(df1[\"tumor_size\"], fit = True,  line = \"q\", alpha = 0.05, lw = 2, ax = ax)\n",
    "plt.xlabel(\"Cuantiles teóricos\")\n",
    "plt.ylabel(\"Tamaño del tumor\")\n",
    "plt.show()"
   ]
  },
  {
   "cell_type": "markdown",
   "metadata": {},
   "source": [
    "<h2> Chi cuadrado </h2>\n",
    "<hr>"
   ]
  },
  {
   "cell_type": "code",
   "execution_count": null,
   "metadata": {
    "colab": {
     "base_uri": "https://localhost:8080/"
    },
    "id": "1JhA9_ImJd9m",
    "outputId": "258559b7-bcc8-44cf-edbb-f07bbd54bb0c"
   },
   "outputs": [],
   "source": [
    "# Chi cuadrado\n",
    "from scipy.stats import chi2_contingency\n",
    "  \n",
    "# definiendo la tabla\n",
    "data = [df1[\"overall_survival\"], df1[\"tumor_size\"]]\n",
    "stat, p, dof, expected = chi2_contingency(data)\n",
    "  \n",
    "# interpreta el p_valor\n",
    "alpha = 0.05\n",
    "print(\"El p-valor es: \" + str(p))\n",
    "if p <= alpha:\n",
    "    print('Dependiente (rechaza H0)')\n",
    "else:\n",
    "    print('Independiente (H0 se mantiene verdadera)')\n"
   ]
  },
  {
   "cell_type": "markdown",
   "metadata": {},
   "source": [
    "<h2> Estandarización de los datos </h2>"
   ]
  },
  {
   "cell_type": "code",
   "execution_count": null,
   "metadata": {},
   "outputs": [],
   "source": [
    "from sklearn.preprocessing import StandardScaler\n",
    "datos_estandarizados = StandardScaler().fit_transform(analisis1)\n",
    "datos_estandarizados = pd.DataFrame(datos_estandarizados, columns = analisis1.columns)\n",
    "datos_estandarizados.describe()"
   ]
  },
  {
   "cell_type": "markdown",
   "metadata": {},
   "source": [
    "<h1> Modelo de regresión multilineal </h1>\n",
    "<hr>"
   ]
  },
  {
   "cell_type": "code",
   "execution_count": null,
   "metadata": {
    "colab": {
     "base_uri": "https://localhost:8080/",
     "height": 835
    },
    "id": "deGKcqNkJ9eA",
    "outputId": "bf979cb9-d434-4c54-c0b1-20d627cb0e58"
   },
   "outputs": [],
   "source": [
    "# Modelo de regresión lineal\n",
    "def modelo(base_datos):\n",
    "    xi = [var_dep + \"~\"]\n",
    "    for i in base_datos:\n",
    "        xi[0] = xi[0] + \"+\" + i\n",
    "    return xi[0]\n",
    "\n",
    "MRL = smf.ols(modelo(analisis2), datos_estandarizados).fit()\n",
    "MRL.summary()"
   ]
  },
  {
   "cell_type": "code",
   "execution_count": null,
   "metadata": {
    "colab": {
     "base_uri": "https://localhost:8080/",
     "height": 471
    },
    "id": "H0ID0g13KFhp",
    "outputId": "02d1af59-86ee-428d-e4c3-b50fc0b5ec73"
   },
   "outputs": [],
   "source": [
    "# Eliminando columnas cuyo P-valor supera 0.05\n",
    "def limpiador_pvalor(base_datos, regresion):\n",
    "    for i in base_datos:\n",
    "        if regresion.pvalues[i] > 0.05:\n",
    "            base_datos = base_datos.drop([i], axis = 1)\n",
    "    return base_datos\n",
    "\n",
    "y = datos_estandarizados.loc[:, var_dep]\n",
    "analisis2 = datos_estandarizados.drop(var_dep, axis = 1)\n",
    "analisis2 = limpiador_pvalor(analisis2, MRL)\n",
    "datos_estandarizados = pd.concat([y, analisis2], axis = 1)\n",
    "datos_estandarizados"
   ]
  },
  {
   "cell_type": "code",
   "execution_count": null,
   "metadata": {
    "colab": {
     "base_uri": "https://localhost:8080/",
     "height": 625
    },
    "id": "yw_AarucKIS6",
    "outputId": "211ab83e-db6a-4f64-dc72-532b17966e70"
   },
   "outputs": [],
   "source": [
    "# Regresión con las variables contribuyentes al modelo\n",
    "MRL_2 = smf.ols(modelo(analisis2), datos_estandarizados).fit()\n",
    "MRL_2.summary()"
   ]
  },
  {
   "cell_type": "markdown",
   "metadata": {},
   "source": [
    "<h1> Prueba ANOVA </h1>\n",
    "<hr>"
   ]
  },
  {
   "cell_type": "code",
   "execution_count": null,
   "metadata": {
    "colab": {
     "base_uri": "https://localhost:8080/",
     "height": 359
    },
    "id": "w_tiNpGqC8pd",
    "outputId": "ac4e5dcf-61ad-4b04-c44c-84264c688833"
   },
   "outputs": [],
   "source": [
    "# ANOVA\n",
    "tabla_anova = sm.stats.anova_lm(MRL_2, typ = 3)\n",
    "tabla_anova"
   ]
  },
  {
   "cell_type": "code",
   "execution_count": null,
   "metadata": {
    "colab": {
     "base_uri": "https://localhost:8080/",
     "height": 280
    },
    "id": "1PBR06AdwxAx",
    "outputId": "dc1f1f5a-3c4b-45e7-d360-745be0ff0f40"
   },
   "outputs": [],
   "source": [
    "# variables utilizadas en el modelo de regresion \n",
    "\n",
    "import seaborn as sns\n",
    "fig, axes = plt.subplots(1, 4, figsize=(20, 4))\n",
    "for idx, feature in enumerate(list(df1.columns)[:4]):\n",
    "\n",
    "    sns.boxplot( x='overall_survival', y=feature, data=df1, ax=axes[idx])\n",
    "plt.show()"
   ]
  },
  {
   "cell_type": "code",
   "execution_count": null,
   "metadata": {},
   "outputs": [],
   "source": []
  }
 ],
 "metadata": {
  "colab": {
   "collapsed_sections": [],
   "include_colab_link": true,
   "provenance": []
  },
  "kernelspec": {
   "display_name": "Python 3 (ipykernel)",
   "language": "python",
   "name": "python3"
  },
  "language_info": {
   "codemirror_mode": {
    "name": "ipython",
    "version": 3
   },
   "file_extension": ".py",
   "mimetype": "text/x-python",
   "name": "python",
   "nbconvert_exporter": "python",
   "pygments_lexer": "ipython3",
   "version": "3.11.0"
  }
 },
 "nbformat": 4,
 "nbformat_minor": 1
}
